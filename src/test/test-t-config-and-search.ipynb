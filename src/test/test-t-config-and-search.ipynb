{
 "cells": [
  {
   "cell_type": "markdown",
   "metadata": {},
   "source": [
    "## 0. Environment Setup\n",
    "We create a smiliar environemnt that simulate the inputs and variables as per in ciop jobs"
   ]
  },
  {
   "cell_type": "code",
   "execution_count": 70,
   "metadata": {},
   "outputs": [
    {
     "data": {
      "text/html": [
       "'/workspace/tmpdir'"
      ],
      "text/latex": [
       "'/workspace/tmpdir'"
      ],
      "text/markdown": [
       "'/workspace/tmpdir'"
      ],
      "text/plain": [
       "[1] \"/workspace/tmpdir\""
      ]
     },
     "metadata": {},
     "output_type": "display_data"
    }
   ],
   "source": [
    "#old input1='https://recast.terradue.com/t2api/search/hydro-smhi/models?uid=230286758E25FD953AF736DE85F01CDF9C539EC7' #niger-hype-model.zip, one file when unzipped\n",
    "#old input2='https://recast.terradue.com/t2api/search/hydro-smhi/models?uid=9345ED73B72F49E6FF31B07B57013BC519210E24' #niger-hype-model-2.23.zip, one dir when unzipped\n",
    "input2='https://recast.terradue.com/t2api/search/hydro-smhi/models?uid=9345ED73B72F49E6FF31B07B57013BC519210E24' #niger-hype-model-2.23.zip, one dir when unzipped\n",
    "#use this from model.zip instead  input_hype_data='https://recast.terradue.com/t2api/search/hydro-smhi/models?uid=9CE420998D9EC367470EEAEEA6B6DA0B0E4604D2' #niger-hype-data.zip, dirs when unzipped\n",
    "TMPDIR=\"/workspace/tmpdir\"\n",
    "TMPDIR"
   ]
  },
  {
   "cell_type": "markdown",
   "metadata": {},
   "source": [
    "1. Read input model\n",
    "This inital step collect via proper opensearch call and copy the HYPE model config archive"
   ]
  },
  {
   "cell_type": "code",
   "execution_count": 71,
   "metadata": {},
   "outputs": [],
   "source": [
    "app.date = format(Sys.time(), \"%Y%m%d_%H%M\")\n",
    "\n",
    "## set application name\n",
    "app.name = \"forecast\"\n",
    "## ------------------------------------------------------------------------------\n",
    "## flag which environment is used, if not set\n",
    "if(!exists(\"app.sys\")){\n",
    "    app.sys =\"tep\"\n",
    "    }\n",
    "## ------------------------------------------------------------------------------\n",
    "## load rciop package and set working directory to TMPDIR when running on TEP \n",
    "if(app.sys==\"tep\"){\n",
    "    library(\"rciop\")\n",
    "\n",
    "    rciop.log (\"DEBUG\", \" *** hypeapps-forecast *** TEP hydrological modelling applications ***\", \"/node_forecast/run.R\")\n",
    "    rciop.log (\"DEBUG\", \" rciop library loaded\", \"/node_forecast/run.R\")\n",
    "\n",
    "    setwd(TMPDIR)\n",
    "    rciop.log(\"DEBUG\", paste(\" R session working directory set to \",TMPDIR,sep=\"\"), \"/node_forecast/run.R\")\n",
    "}"
   ]
  },
  {
   "cell_type": "markdown",
   "metadata": {},
   "source": [
    "Some rciop functions may need to be overridden in the notebook environment.\n",
    "Set to your current needs."
   ]
  },
  {
   "cell_type": "code",
   "execution_count": 72,
   "metadata": {},
   "outputs": [],
   "source": [
    "ENABLE_STUB_RCIOP_LOG <- FALSE\n",
    "#ENABLE_STUB_RCIOP_LOG <- TRUE\n",
    "\n",
    "if (ENABLE_STUB_RCIOP_LOG == TRUE) {\n",
    "    message(\"rciop.log() overridden by local stub function...\")\n",
    "    \n",
    "    rciop.log <- function(type, message, proc='') {\n",
    "\n",
    "        type <- type\n",
    "        msg <- message\n",
    "    if (proc=='') { proc <- \"user process\" }\n",
    "\n",
    "    out.msg <- paste(format(Sys.time(), format=\"%Y-%m-%dT%H:%M:%S\"), \"[\", type, \"][\", proc, \"] \", msg, sep=\"\")\n",
    "\n",
    "    message(out.msg)\n",
    "    } # rciop.log\n",
    "\n",
    "} # end stub"
   ]
  },
  {
   "cell_type": "code",
   "execution_count": 73,
   "metadata": {},
   "outputs": [
    {
     "name": "stderr",
     "output_type": "stream",
     "text": [
      "rciop.getparam() overridden by local stub function...\n"
     ]
    }
   ],
   "source": [
    "#ENABLE_STUB_RCIOP_GETPARAM <- FALSE\n",
    "ENABLE_STUB_RCIOP_GETPARAM <- TRUE\n",
    "\n",
    "if (ENABLE_STUB_RCIOP_GETPARAM == TRUE) {\n",
    "    message(\"rciop.getparam() overridden by local stub function...\")\n",
    "    # Change according to your test objective.\n",
    "    # Would normally return values defined in application.xml for specified ids'.\n",
    "    \n",
    "    rciop.getparam <- function(id) {\n",
    "        value <- NULL # or \"\"\n",
    "        \n",
    "        if (id == \"model\") {\n",
    "            value <- \"https://recast.terradue.com/t2api/search/hydro-smhi/models?uid=230286758E25FD953AF736DE85F01CDF9C539EC7\"\n",
    "        }\n",
    "        else if (id == \"idate\" ) {\n",
    "            value <- \"2018-09-01\"\n",
    "        }\n",
    "        else {\n",
    "            message(\"rciop.get_param:id not found...\")\n",
    "        }\n",
    "        \n",
    "        return (value)\n",
    "    } # rciop.getparam\n",
    "\n",
    "} # end stub"
   ]
  },
  {
   "cell_type": "markdown",
   "metadata": {},
   "source": [
    "Add your code to test...\n",
    "Remove current, or paste other code or add additional code blocks."
   ]
  },
  {
   "cell_type": "code",
   "execution_count": 26,
   "metadata": {},
   "outputs": [],
   "source": [
    "## Read the main input\n",
    "## This is the reference link to the model configuration\n",
    "\n",
    "# print\n",
    "#rciop.log(\"INFO\", paste(\"Processing input:\", input1, sep=\" \"))\n",
    "\n",
    "# Query the input reference\n",
    "#message(paste(\"opensearch-client '\",input1,\"' enclosure\", sep=\"\"))\n",
    "#opensearchCmd=paste(\"opensearch-client '\",input1,\"' enclosure\")\n",
    "#input_enclosure <- system(command = opensearchCmd,intern = T)\n",
    "#rciop.log(\"INFO\", input_enclosure)\n",
    "\n",
    "# Download the file\n",
    "#model_file <- rciop.copy(input_enclosure, TMPDIR, uncompress=TRUE)\n",
    "\n",
    "#if (model_file$exit.code==0) {\n",
    "#    local.url <- model_file$output\n",
    "#}\n",
    "\n",
    "# Works for single file after unzip\n",
    "#local.url # One file, complete path incl. filename\n",
    "#my_data <- read.delim(local.url)\n",
    "#print (my_data)"
   ]
  },
  {
   "cell_type": "code",
   "execution_count": 27,
   "metadata": {},
   "outputs": [],
   "source": [
    "#par_model <- rciop.getparam(\"model\")\n",
    "#message(par_model)"
   ]
  },
  {
   "cell_type": "raw",
   "metadata": {},
   "source": [
    "Brief:\n",
    "Search and retrive model config object.\n",
    "Read contents in dependencies.txt.\n",
    "From read contents:\n",
    "Use url for hype model data, other R code is currently handling the downloading (rciop.copy) for now. Should maybe later on be rciop.copy contents once to tmp dir, and paths be passed as parameters to other R code (and that code changed to do file copy from tmp dir to run dir etc.).\n",
    "Use gfd urls and querypattern as search later on to retrieve certain netcdf files, urls needs to be passed to netcdf2obs code, code handling time interval to search and retrieve specfic netcdf file to use."
   ]
  },
  {
   "cell_type": "code",
   "execution_count": 74,
   "metadata": {},
   "outputs": [
    {
     "name": "stderr",
     "output_type": "stream",
     "text": [
      "opensearch-client 'https://recast.terradue.com/t2api/search/hydro-smhi/models?uid=9345ED73B72F49E6FF31B07B57013BC519210E24' enclosure\n"
     ]
    },
    {
     "name": "stdout",
     "output_type": "stream",
     "text": [
      "[1] \" -o /workspace/tmpdir https://store.terradue.com/hydro-smhi/models/niger-hype-model-2.23.zip\"\n"
     ]
    },
    {
     "data": {
      "text/html": [
       "'/workspace/tmpdir/niger-hype-model-2.23'"
      ],
      "text/latex": [
       "'/workspace/tmpdir/niger-hype-model-2.23'"
      ],
      "text/markdown": [
       "'/workspace/tmpdir/niger-hype-model-2.23'"
      ],
      "text/plain": [
       "[1] \"/workspace/tmpdir/niger-hype-model-2.23\""
      ]
     },
     "metadata": {},
     "output_type": "display_data"
    },
    {
     "data": {
      "text/html": [
       "'/workspace/tmpdir/niger-hype-model-2.23/dependencies.txt'"
      ],
      "text/latex": [
       "'/workspace/tmpdir/niger-hype-model-2.23/dependencies.txt'"
      ],
      "text/markdown": [
       "'/workspace/tmpdir/niger-hype-model-2.23/dependencies.txt'"
      ],
      "text/plain": [
       "[1] \"/workspace/tmpdir/niger-hype-model-2.23/dependencies.txt\""
      ]
     },
     "metadata": {},
     "output_type": "display_data"
    },
    {
     "data": {
      "text/html": [
       "<table>\n",
       "<thead><tr><th scope=col>subdir</th><th scope=col>url</th><th scope=col>querypattern</th><th scope=col>info</th></tr></thead>\n",
       "<tbody>\n",
       "\t<tr><td>model-data                                                   </td><td>https://recast.terradue.com/t2api/search/hydro-smhi/models   </td><td>?uid=9CE420998D9EC367470EEAEEA6B6DA0B0E4604D2                </td><td># zip-file. niger-hype v2.23 and gfd obs.                    </td></tr>\n",
       "\t<tr><td>model-data-old-url                                           </td><td>https://store.terradue.com/hydro-smhi/fanfar/model/niger-hype</td><td>                                                             </td><td># stop using. not zip-file. niger-hype v2.23 and gfd obs.    </td></tr>\n",
       "\t<tr><td>hydrogfdei                                                   </td><td>https://catalog.terradue.com/hydro-smhi/description          </td><td>[hydrogfdei,SMHI,operational]                                </td><td># netcdf                                                     </td></tr>\n",
       "\t<tr><td>hydrogfdod                                                   </td><td>https://catalog.terradue.com/hydro-smhi/description          </td><td>[hydrogfdod,SMHI,operational]                                </td><td># netcdf                                                     </td></tr>\n",
       "\t<tr><td>ei-monthly                                                   </td><td>https://catalog.terradue.com/hydro-smhi/description          </td><td>[ei,monthly,SMHI,operational]                                </td><td># netcdf                                                     </td></tr>\n",
       "\t<tr><td>od-daily                                                     </td><td>https://catalog.terradue.com/hydro-smhi/description          </td><td>[od,daily,SMHI,operational]                                  </td><td># netcdf                                                     </td></tr>\n",
       "\t<tr><td>od-monthly                                                   </td><td>https://catalog.terradue.com/hydro-smhi/description          </td><td>[od,monthly,SMHI,operational]                                </td><td># netcdf                                                     </td></tr>\n",
       "\t<tr><td>ecoper                                                       </td><td>https://catalog.terradue.com/hydro-smhi/description          </td><td>[ecoper,SMHI,operational]                                    </td><td># netcdf                                                     </td></tr>\n",
       "</tbody>\n",
       "</table>\n"
      ],
      "text/latex": [
       "\\begin{tabular}{r|llll}\n",
       " subdir & url & querypattern & info\\\\\n",
       "\\hline\n",
       "\t model-data                                                    & https://recast.terradue.com/t2api/search/hydro-smhi/models    & ?uid=9CE420998D9EC367470EEAEEA6B6DA0B0E4604D2                 & \\# zip-file. niger-hype v2.23 and gfd obs.                  \\\\\n",
       "\t model-data-old-url                                            & https://store.terradue.com/hydro-smhi/fanfar/model/niger-hype &                                                               & \\# stop using. not zip-file. niger-hype v2.23 and gfd obs.  \\\\\n",
       "\t hydrogfdei                                                    & https://catalog.terradue.com/hydro-smhi/description           & {[}hydrogfdei,SMHI,operational{]}                             & \\# netcdf                                                   \\\\\n",
       "\t hydrogfdod                                                    & https://catalog.terradue.com/hydro-smhi/description           & {[}hydrogfdod,SMHI,operational{]}                             & \\# netcdf                                                   \\\\\n",
       "\t ei-monthly                                                    & https://catalog.terradue.com/hydro-smhi/description           & {[}ei,monthly,SMHI,operational{]}                             & \\# netcdf                                                   \\\\\n",
       "\t od-daily                                                      & https://catalog.terradue.com/hydro-smhi/description           & {[}od,daily,SMHI,operational{]}                               & \\# netcdf                                                   \\\\\n",
       "\t od-monthly                                                    & https://catalog.terradue.com/hydro-smhi/description           & {[}od,monthly,SMHI,operational{]}                             & \\# netcdf                                                   \\\\\n",
       "\t ecoper                                                        & https://catalog.terradue.com/hydro-smhi/description           & {[}ecoper,SMHI,operational{]}                                 & \\# netcdf                                                   \\\\\n",
       "\\end{tabular}\n"
      ],
      "text/markdown": [
       "\n",
       "| subdir | url | querypattern | info |\n",
       "|---|---|---|---|\n",
       "| model-data                                                    | https://recast.terradue.com/t2api/search/hydro-smhi/models    | ?uid=9CE420998D9EC367470EEAEEA6B6DA0B0E4604D2                 | # zip-file. niger-hype v2.23 and gfd obs.                     |\n",
       "| model-data-old-url                                            | https://store.terradue.com/hydro-smhi/fanfar/model/niger-hype |                                                               | # stop using. not zip-file. niger-hype v2.23 and gfd obs.     |\n",
       "| hydrogfdei                                                    | https://catalog.terradue.com/hydro-smhi/description           | [hydrogfdei,SMHI,operational]                                 | # netcdf                                                      |\n",
       "| hydrogfdod                                                    | https://catalog.terradue.com/hydro-smhi/description           | [hydrogfdod,SMHI,operational]                                 | # netcdf                                                      |\n",
       "| ei-monthly                                                    | https://catalog.terradue.com/hydro-smhi/description           | [ei,monthly,SMHI,operational]                                 | # netcdf                                                      |\n",
       "| od-daily                                                      | https://catalog.terradue.com/hydro-smhi/description           | [od,daily,SMHI,operational]                                   | # netcdf                                                      |\n",
       "| od-monthly                                                    | https://catalog.terradue.com/hydro-smhi/description           | [od,monthly,SMHI,operational]                                 | # netcdf                                                      |\n",
       "| ecoper                                                        | https://catalog.terradue.com/hydro-smhi/description           | [ecoper,SMHI,operational]                                     | # netcdf                                                      |\n",
       "\n"
      ],
      "text/plain": [
       "  subdir            \n",
       "1 model-data        \n",
       "2 model-data-old-url\n",
       "3 hydrogfdei        \n",
       "4 hydrogfdod        \n",
       "5 ei-monthly        \n",
       "6 od-daily          \n",
       "7 od-monthly        \n",
       "8 ecoper            \n",
       "  url                                                          \n",
       "1 https://recast.terradue.com/t2api/search/hydro-smhi/models   \n",
       "2 https://store.terradue.com/hydro-smhi/fanfar/model/niger-hype\n",
       "3 https://catalog.terradue.com/hydro-smhi/description          \n",
       "4 https://catalog.terradue.com/hydro-smhi/description          \n",
       "5 https://catalog.terradue.com/hydro-smhi/description          \n",
       "6 https://catalog.terradue.com/hydro-smhi/description          \n",
       "7 https://catalog.terradue.com/hydro-smhi/description          \n",
       "8 https://catalog.terradue.com/hydro-smhi/description          \n",
       "  querypattern                                 \n",
       "1 ?uid=9CE420998D9EC367470EEAEEA6B6DA0B0E4604D2\n",
       "2                                              \n",
       "3 [hydrogfdei,SMHI,operational]                \n",
       "4 [hydrogfdod,SMHI,operational]                \n",
       "5 [ei,monthly,SMHI,operational]                \n",
       "6 [od,daily,SMHI,operational]                  \n",
       "7 [od,monthly,SMHI,operational]                \n",
       "8 [ecoper,SMHI,operational]                    \n",
       "  info                                                     \n",
       "1 # zip-file. niger-hype v2.23 and gfd obs.                \n",
       "2 # stop using. not zip-file. niger-hype v2.23 and gfd obs.\n",
       "3 # netcdf                                                 \n",
       "4 # netcdf                                                 \n",
       "5 # netcdf                                                 \n",
       "6 # netcdf                                                 \n",
       "7 # netcdf                                                 \n",
       "8 # netcdf                                                 "
      ]
     },
     "metadata": {},
     "output_type": "display_data"
    },
    {
     "name": "stderr",
     "output_type": "stream",
     "text": [
      "model-data at row index:1\n",
      "od-daily at row index:6\n"
     ]
    }
   ],
   "source": [
    "## Read the main input\n",
    "## This is the reference link to the model configuration\n",
    "\n",
    "# print\n",
    "rciop.log(\"INFO\", paste(\"Processing input:\", input2, sep=\" \"))\n",
    "\n",
    "# Query the input reference\n",
    "message(paste(\"opensearch-client '\",input2,\"' enclosure\", sep=\"\"))\n",
    "opensearchCmd=paste(\"opensearch-client '\",input2,\"' enclosure\")\n",
    "input_enclosure <- system(command = opensearchCmd,intern = T)\n",
    "rciop.log(\"INFO\", input_enclosure)\n",
    "\n",
    "# Download the dir(s)\n",
    "model_config_dir <- rciop.copy(input_enclosure, TMPDIR, uncompress=TRUE)\n",
    "\n",
    "if (model_config_dir$exit.code==0) {\n",
    "    local.model_config_dir <- model_config_dir$output\n",
    "}\n",
    "local.model_config_dir # File or directory, complete path incl.\n",
    "# Content for now:\n",
    "# info-forecast.txt - config file for Hype model\n",
    "\n",
    "#if (local.model_config_dir == \"\" || local.model_config_dir == NULL) {\n",
    "#    message(\"No model config path...\")\n",
    "#    q(99)\n",
    "#}\n",
    "\n",
    "model_config_file <- \"dependencies.txt\" # Shall be parsed to get different config items\n",
    "# tmpdir/niger-hype-model-2.23/ # Currently for now:\n",
    "# - dependencies.txt # Config for GFD-files etc.\n",
    "# - info-forecast.txt # Hype config file\n",
    "\n",
    "\n",
    "path_to_file <- paste(local.model_config_dir, model_config_file, sep=\"/\")\n",
    "path_to_file\n",
    "# Read contents of file, handling separators ';'.\n",
    "model_config_data <- read.csv2(path_to_file, header=FALSE, sep=\";\")\n",
    "#class(model_config_data) # data.frame\n",
    "#dim(model_config_data) # 6,3 (rows,cols)\n",
    "# Add column names\n",
    "names(model_config_data) <- c('subdir','url','querypattern','info')\n",
    "model_config_data\n",
    "# Select column by name\n",
    "#model_config_data[,'query-pattern'] # all rows, col 3 ok\n",
    "#model_config_data[,c('subdir','querypattern')] # all rows, multiple columns ok\n",
    "\n",
    "#model_config_data$subdir\n",
    "#model_config_data[3,'subdir']\n",
    "# Iterate over each row to locate e.g. sub directory, od-daily, to use column data\n",
    "for (r in 1:nrow(model_config_data)) { #  if statement below not works\n",
    "    subdir <- model_config_data[r,'subdir']\n",
    "    if (subdir == 'od-daily') {\n",
    "        message(paste0(\"od-daily at row index:\", r))\n",
    "    }\n",
    "    if (subdir == 'model-data') {\n",
    "        message(paste0(\"model-data at row index:\", r))\n",
    "    }\n",
    "}"
   ]
  },
  {
   "cell_type": "code",
   "execution_count": 75,
   "metadata": {},
   "outputs": [
    {
     "name": "stderr",
     "output_type": "stream",
     "text": [
      "model-data at row index:1\n",
      "opensearch-client 'https://recast.terradue.com/t2api/search/hydro-smhi/models?uid=9CE420998D9EC367470EEAEEA6B6DA0B0E4604D2' enclosure\n"
     ]
    },
    {
     "name": "stdout",
     "output_type": "stream",
     "text": [
      "[1] \" -o /workspace/tmpdir https://store.terradue.com/hydro-smhi/models/niger-hype-data.zip\"\n"
     ]
    },
    {
     "data": {
      "text/html": [
       "'/workspace/tmpdir/niger-hype-data'"
      ],
      "text/latex": [
       "'/workspace/tmpdir/niger-hype-data'"
      ],
      "text/markdown": [
       "'/workspace/tmpdir/niger-hype-data'"
      ],
      "text/plain": [
       "[1] \"/workspace/tmpdir/niger-hype-data\""
      ]
     },
     "metadata": {},
     "output_type": "display_data"
    }
   ],
   "source": [
    "## Read the Hype data dirs\n",
    "## This code continues to retrieve the data dirs (rciop.copy)\n",
    "## Other R code not yet updated to handle paths (file copy from tmp dir to run dir etc.) instead of urls.\n",
    "\n",
    "# print\n",
    "#rciop.log(\"INFO\", paste(\"Processing config for model data:\", input2, sep=\" \"))\n",
    "rciop.log(\"INFO\", \"Processing config for model data\")\n",
    "\n",
    "rowIndex=0\n",
    "for (r in 1:nrow(model_config_data)) {\n",
    "    subdir <- model_config_data[r,'subdir']\n",
    "    if (subdir == 'model-data') {\n",
    "        rowIndex=r\n",
    "        message(paste0(\"model-data at row index:\", r))\n",
    "    }\n",
    "}\n",
    "if (rowIndex == 0) {\n",
    "    q(98)\n",
    "}\n",
    "#subdir <- model_config_data[rowIndex,'subdir']\n",
    "url <- model_config_data[rowIndex,'url']\n",
    "query <- model_config_data[rowIndex,'querypattern']\n",
    "#comment <- model_config_data[rowIndex,'info']\n",
    "\n",
    "# For now, if needed, pass url from model_config_data['model-data-old-url'] to let present R code continue rciop.copy locally.\n",
    "\n",
    "# Query the input reference\n",
    "message(paste(\"opensearch-client '\",url,query,\"' enclosure\", sep=\"\"))\n",
    "opensearchCmd=paste(\"opensearch-client '\",url,query,\"' enclosure\")\n",
    "input_enclosure <- system(command = opensearchCmd,intern = T)\n",
    "rciop.log(\"INFO\", input_enclosure)\n",
    "\n",
    "# Download the dir(s)\n",
    "model_data_dirs <- rciop.copy(input_enclosure, TMPDIR, uncompress=TRUE)\n",
    "\n",
    "if (model_data_dirs$exit.code==0) {\n",
    "    local.dir <- model_data_dirs$output\n",
    "}\n",
    "local.dir # File or directory, complete path incl.\n",
    "# tmpdir/niger-hype-data/\n",
    "# - data/gfd/archive/Pobs.txt, TMAXobs.txt, TMINobs.txt, Tobs.txt\n",
    "# - v2.23/....... root dir for forcingarchive, shapefiles, statefiles etc.\n",
    "# This/These path(s) shall be passed to getHypeAppSetup as dir, now urls that it currently downloads - now already downloaded...\n",
    "# No file to parse etc. only pass path to the R-get functions\n"
   ]
  },
  {
   "cell_type": "code",
   "execution_count": 54,
   "metadata": {},
   "outputs": [],
   "source": [
    "# opensearch for netcdf files:\n"
   ]
  },
  {
   "cell_type": "raw",
   "metadata": {},
   "source": [
    "Search for netcdf files, with dates from input (webpage/app) as opensearch query parameters.\n",
    "Check that expected gfd files for that time interval are located in the catalogue.\n",
    "Add code to retreive pr,tas,tasmin,tasmax to test that its downloaded locally (other code in netcdf2obs will do this at a later time).\n",
    "Summary:\n",
    "To be able to call netcdf2obs function, some of these parameters need to be available (input from user and gfd urls from config object)."
   ]
  },
  {
   "cell_type": "raw",
   "metadata": {},
   "source": [
    "Some query examples:\n",
    "opensearch-client 'https://catalog.terradue.com/hydro-smhi/description' -p count=unlimited -p cat=[ecoper,tas] -p start='201903' -p stop='201905'  enclosure,identifier\n",
    "opensearch-client 'https://catalog.terradue.com/hydro-smhi/description' -p count=unlimited -p cat=[ecoper,tas] -p start='2019-03' -p stop='2019-05'  enclosure,identifier\n",
    "opensearch-client 'https://catalog.terradue.com/hydro-smhi/description' -p count=unlimited -p cat=[ecoper,tas] -p start='2019-03-01' -p stop='2019-05-31'  enclosure,identifier\n",
    "opensearch-client 'https://catalog.terradue.com/hydro-smhi/description' -p count=unlimited -p cat=[ecoper,tas] -p start='2019-03-01T00:00:00' -p stop='2019-05-31T00:00:00'  enclosure,identifier\n",
    "opensearch-client 'https://catalog.terradue.com/hydro-smhi/description' -p count=unlimited -p cat=[ecoper,tas] -p start=2019-03-01 -p stop=2019-05-31  enclosure,identifier\n",
    "opensearch-client 'https://catalog.terradue.com/hydro-smhi/description' -p count=unlimited -p start=2019-03-01 -p stop=2019-05-31  enclosure,identifier\n",
    "opensearch-client 'https://catalog.terradue.com/hydro-smhi/description' -p count=unlimited -p=cat -p start=2019-03-01 -p stop=2019-03-31  enclosure,identifier\n",
    "opensearch-client 'https://catalog.terradue.com/hydro-smhi/description' -p count=unlimited -p start=2019-03-01 -p stop=2019-03-31  enclosure,identifier\n",
    "opensearch-client 'https://catalog.terradue.com/hydro-smhi/description' -p count=unlimited -p cat=ecoper -p start=2019-03-01 -p stop=2019-03-31  enclosure,identifier\n",
    "opensearch-client 'https://catalog.terradue.com/hydro-smhi/description' -p count=unlimited -p cat=[ecoper] -p start=2019-03-01 -p stop=2019-03-31  enclosure,identifier\n",
    "opensearch-client 'https://catalog.terradue.com/hydro-smhi/description' -p count=unlimited -p cat=[hydrogfdod] -p start=2019-03-01 -p stop=2019-03-31  enclosure,identifier\n",
    "opensearch-client 'https://recast.terradue.com/t2api/search/hydro-smhi/models' enclosure,identifier\n",
    "opensearch-client 'https://catalog.terradue.com/hydro-smhi/description' enclosure,identifier\n",
    "opensearch-client 'https://catalog.terradue.com/hydro-smhi/description' enclosure,identifier -p cat=[SMHI]\n",
    "opensearch-client 'https://catalog.terradue.com/hydro-smhi/description' enclosure,identifier -p cat=[SMHI,operational]\n",
    "#opensearch-client 'https://catalog.terradue.com/hydro-smhi/description' -p count=unlimited -p cat=[hydrogfdod] -p start=2019-03-01 -p stop=2019-03-31  enclosure,identifier\n",
    "opensearch-client 'https://catalog.terradue.com/hydro-smhi/description' enclosure,identifier -p count=unlimited -p cat=[SMHI,operational]\n",
    "opensearch-client 'https://catalog.terradue.com/hydro-smhi/description' enclosure,identifier -p count=unlimited -p cat=[SMHI,operational,daily]\n",
    "opensearch-client 'https://catalog.terradue.com/hydro-smhi/description' enclosure,identifier -p count=unlimited -p cat=[SMHI,operational,daily,ei]\n",
    "opensearch-client 'https://catalog.terradue.com/hydro-smhi/description' enclosure,identifier -p count=unlimited -p cat=[SMHI,operational,daily,od]\n",
    "opensearch-client 'https://catalog.terradue.com/hydro-smhi/description' enclosure,identifier -p count=unlimited -p cat=[SMHI,operational,monthly,od]\n",
    "opensearch-client 'https://catalog.terradue.com/hydro-smhi/description' enclosure,identifier -p count=unlimited -p cat=[SMHI,operational,monthly,ei]\n",
    "opensearch-client 'https://catalog.terradue.com/hydro-smhi/description' enclosure,identifier -p count=unlimited -p cat=[models]\n",
    "opensearch-client 'https://catalog.terradue.com/hydro-smhi/description' enclosure,identifier -p count=unlimited -p cat=[model]\n",
    "opensearch-client 'https://catalog.terradue.com/hydro-smhi/description' enclosure,identifier -p count=unlimited -p cat=[fanfar]\n"
   ]
  },
  {
   "cell_type": "code",
   "execution_count": 148,
   "metadata": {},
   "outputs": [
    {
     "name": "stderr",
     "output_type": "stream",
     "text": [
      "https://store.terradue.com/hydro-smhi/fanfar/Operational/ecoper/2019/05/tasmin_ecoper_2019052000_fanfar_SMHI.nchttps://store.terradue.com/hydro-smhi/fanfar/Operational/ecoper/2019/05/pr_ecoper_2019052000_fanfar_SMHI.nchttps://store.terradue.com/hydro-smhi/fanfar/Operational/ecoper/2019/05/tasmax_ecoper_2019052000_fanfar_SMHI.nchttps://store.terradue.com/hydro-smhi/fanfar/Operational/ecoper/2019/05/tas_ecoper_2019052000_fanfar_SMHI.nchttps://store.terradue.com/hydro-smhi/fanfar/Operational/ecoper/2019/08/tasmax_ecoper_2019080200_fanfar_SMHI.nchttps://store.terradue.com/hydro-smhi/fanfar/Operational/ecoper/2019/07/tasmax_ecoper_2019071300_fanfar_SMHI.nchttps://store.terradue.com/hydro-smhi/fanfar/Operational/ecoper/2019/07/tasmin_ecoper_2019072600_fanfar_SMHI.nchttps://store.terradue.com/hydro-smhi/fanfar/Operational/ecoper/2019/07/tasmin_ecoper_2019070300_fanfar_SMHI.nchttps://store.terradue.com/hydro-smhi/fanfar/Operational/ecoper/2019/07/tasmin_ecoper_2019070900_fanfar_SMHI.nchttps://store.terradue.com/hydro-smhi/fanfar/Operational/ecoper/2019/07/tas_ecoper_2019072300_fanfar_SMHI.nchttps://store.terradue.com/hydro-smhi/fanfar/Operational/ecoper/2019/07/tasmax_ecoper_2019073100_fanfar_SMHI.nchttps://store.terradue.com/hydro-smhi/fanfar/Operational/ecoper/2019/05/tas_ecoper_2019051600_fanfar_SMHI.nchttps://store.terradue.com/hydro-smhi/fanfar/Operational/ecoper/2019/05/tas_ecoper_2019051500_fanfar_SMHI.nchttps://store.terradue.com/hydro-smhi/fanfar/Operational/ecoper/2019/05/pr_ecoper_2019051500_fanfar_SMHI.nchttps://store.terradue.com/hydro-smhi/fanfar/Operational/ecoper/2019/05/tas_ecoper_2019052200_fanfar_SMHI.nchttps://store.terradue.com/hydro-smhi/fanfar/Operational/ecoper/2019/05/tasmax_ecoper_2019050900_fanfar_SMHI.nchttps://store.terradue.com/hydro-smhi/fanfar/Operational/ecoper/2019/04/pr_ecoper_2019040300_fanfar_SMHI.nchttps://store.terradue.com/hydro-smhi/fanfar/Operational/ecoper/2019/03/tasmax_ecoper_2019032900_fanfar_SMHI.nchttps://store.terradue.com/hydro-smhi/fanfar/Operational/ecoper/2019/02/tasmax_ecoper_2019021000_fanfar_SMHI.nchttps://store.terradue.com/hydro-smhi/fanfar/Operational/ecoper/2019/02/tas_ecoper_2019021400_fanfar_SMHI.nchttps://store.terradue.com/hydro-smhi/fanfar/Operational/ecoper/2019/01/tasmax_ecoper_2019011200_fanfar_SMHI.nchttps://store.terradue.com/hydro-smhi/fanfar/Operational/ecoper/2019/01/tasmin_ecoper_2019011400_fanfar_SMHI.nchttps://store.terradue.com/hydro-smhi/fanfar/Operational/ecoper/2018/12/tas_ecoper_2018120700_fanfar_SMHI.nchttps://store.terradue.com/hydro-smhi/fanfar/Operational/ecoper/2018/12/tasmin_ecoper_2018120600_fanfar_SMHI.nchttps://store.terradue.com/hydro-smhi/fanfar/Operational/ecoper/2018/12/tas_ecoper_2018121100_fanfar_SMHI.nchttps://store.terradue.com/hydro-smhi/fanfar/Operational/ecoper/2018/12/tas_ecoper_2018120600_fanfar_SMHI.nchttps://store.terradue.com/hydro-smhi/fanfar/Operational/ecoper/2018/11/tas_ecoper_2018112800_fanfar_SMHI.nchttps://store.terradue.com/hydro-smhi/fanfar/Operational/ecoper/2018/11/tasmin_ecoper_2018110900_fanfar_SMHI.nchttps://store.terradue.com/hydro-smhi/fanfar/Operational/ecoper/2018/10/tas_ecoper_2018100200_fanfar_SMHI.nchttps://store.terradue.com/hydro-smhi/fanfar/Operational/ecoper/2018/10/tasmax_ecoper_2018101400_fanfar_SMHI.nchttps://store.terradue.com/hydro-smhi/fanfar/Operational/ecoper/2018/09/tasmin_ecoper_2018092800_fanfar_SMHI.nchttps://store.terradue.com/hydro-smhi/fanfar/Operational/ecoper/2018/08/tas_ecoper_2018080800_fanfar_SMHI.nchttps://store.terradue.com/hydro-smhi/fanfar/Operational/ecoper/2018/07/tasmin_ecoper_2018072900_fanfar_SMHI.nchttps://store.terradue.com/hydro-smhi/fanfar/Operational/ecoper/2018/07/tasmin_ecoper_2018072400_fanfar_SMHI.nchttps://store.terradue.com/hydro-smhi/fanfar/Operational/ecoper/2018/07/tasmin_ecoper_2018070200_fanfar_SMHI.nchttps://store.terradue.com/hydro-smhi/fanfar/Operational/ecoper/2018/05/tasmax_ecoper_2018050200_fanfar_SMHI.nchttps://store.terradue.com/hydro-smhi/fanfar/Operational/ecoper/2018/05/tas_ecoper_2018051300_fanfar_SMHI.nchttps://store.terradue.com/hydro-smhi/fanfar/Operational/ecoper/2018/04/tas_ecoper_2018041200_fanfar_SMHI.nchttps://store.terradue.com/hydro-smhi/fanfar/Operational/ecoper/2018/03/tasmin_ecoper_2018033000_fanfar_SMHI.nchttps://store.terradue.com/hydro-smhi/fanfar/Operational/ecoper/2018/03/tas_ecoper_2018031100_fanfar_SMHI.nchttps://store.terradue.com/hydro-smhi/fanfar/Operational/ecoper/2018/02/tasmax_ecoper_2018020200_fanfar_SMHI.nchttps://store.terradue.com/hydro-smhi/fanfar/Operational/ecoper/2018/01/tasmax_ecoper_2018011200_fanfar_SMHI.nchttps://store.terradue.com/hydro-smhi/fanfar/Operational/ecoper/2018/01/tas_ecoper_2018011000_fanfar_SMHI.nchttps://store.terradue.com/hydro-smhi/fanfar/Operational/ecoper/2018/01/tasmax_ecoper_2018010200_fanfar_SMHI.nchttps://store.terradue.com/hydro-smhi/fanfar/Operational/ecoper/2017/12/tas_ecoper_2017121700_fanfar_SMHI.nchttps://store.terradue.com/hydro-smhi/fanfar/Operational/ecoper/2017/11/pr_ecoper_2017112100_fanfar_SMHI.nchttps://store.terradue.com/hydro-smhi/fanfar/Operational/ecoper/2017/11/pr_ecoper_2017110600_fanfar_SMHI.nchttps://store.terradue.com/hydro-smhi/fanfar/Operational/ecoper/2017/11/pr_ecoper_2017110200_fanfar_SMHI.nchttps://store.terradue.com/hydro-smhi/fanfar/Operational/ecoper/2017/11/pr_ecoper_2017112000_fanfar_SMHI.nchttps://store.terradue.com/hydro-smhi/fanfar/Operational/ecoper/2017/11/pr_ecoper_2017111600_fanfar_SMHI.nchttps://store.terradue.com/hydro-smhi/fanfar/Operational/ecoper/2017/11/pr_ecoper_2017111400_fanfar_SMHI.nchttps://store.terradue.com/hydro-smhi/fanfar/Operational/ecoper/2017/11/pr_ecoper_2017111200_fanfar_SMHI.nchttps://store.terradue.com/hydro-smhi/fanfar/Operational/ecoper/2017/11/pr_ecoper_2017111300_fanfar_SMHI.nchttps://store.terradue.com/hydro-smhi/fanfar/Operational/ecoper/2017/11/pr_ecoper_2017110900_fanfar_SMHI.nchttps://store.terradue.com/hydro-smhi/fanfar/Operational/ecoper/2017/11/pr_ecoper_2017112300_fanfar_SMHI.nchttps://store.terradue.com/hydro-smhi/fanfar/Operational/ecoper/2017/11/pr_ecoper_2017111900_fanfar_SMHI.nchttps://store.terradue.com/hydro-smhi/fanfar/Operational/ecoper/2017/11/pr_ecoper_2017111800_fanfar_SMHI.nchttps://store.terradue.com/hydro-smhi/fanfar/Operational/ecoper/2017/11/pr_ecoper_2017110800_fanfar_SMHI.nchttps://store.terradue.com/hydro-smhi/fanfar/Operational/ecoper/2017/11/pr_ecoper_2017110700_fanfar_SMHI.nchttps://store.terradue.com/hydro-smhi/fanfar/Operational/ecoper/2017/11/pr_ecoper_2017110400_fanfar_SMHI.nchttps://store.terradue.com/hydro-smhi/fanfar/Operational/ecoper/2017/11/pr_ecoper_2017110100_fanfar_SMHI.nchttps://store.terradue.com/hydro-smhi/fanfar/Operational/ecoper/2017/11/pr_ecoper_2017111500_fanfar_SMHI.nchttps://store.terradue.com/hydro-smhi/fanfar/Operational/ecoper/2017/11/pr_ecoper_2017112200_fanfar_SMHI.nchttps://store.terradue.com/hydro-smhi/fanfar/Operational/ecoper/2017/11/pr_ecoper_2017111700_fanfar_SMHI.nchttps://store.terradue.com/hydro-smhi/fanfar/Operational/ecoper/2017/11/pr_ecoper_2017110500_fanfar_SMHI.nchttps://store.terradue.com/hydro-smhi/fanfar/Operational/ecoper/2017/11/pr_ecoper_2017110300_fanfar_SMHI.nchttps://store.terradue.com/hydro-smhi/fanfar/Operational/ecoper/2017/11/pr_ecoper_2017111000_fanfar_SMHI.nchttps://store.terradue.com/hydro-smhi/fanfar/Operational/ecoper/2017/11/pr_ecoper_2017111100_fanfar_SMHI.nchttps://store.terradue.com/hydro-smhi/fanfar/Operational/ecoper/2017/10/pr_ecoper_2017101500_fanfar_SMHI.nchttps://store.terradue.com/hydro-smhi/fanfar/Operational/ecoper/2017/10/pr_ecoper_2017101600_fanfar_SMHI.nchttps://store.terradue.com/hydro-smhi/fanfar/Operational/ecoper/2017/10/pr_ecoper_2017101000_fanfar_SMHI.nchttps://store.terradue.com/hydro-smhi/fanfar/Operational/ecoper/2017/10/pr_ecoper_2017100400_fanfar_SMHI.nchttps://store.terradue.com/hydro-smhi/fanfar/Operational/ecoper/2017/10/pr_ecoper_2017100200_fanfar_SMHI.nchttps://store.terradue.com/hydro-smhi/fanfar/Operational/ecoper/2017/10/pr_ecoper_2017103100_fanfar_SMHI.nchttps://store.terradue.com/hydro-smhi/fanfar/Operational/ecoper/2017/10/pr_ecoper_2017102900_fanfar_SMHI.nchttps://store.terradue.com/hydro-smhi/fanfar/Operational/ecoper/2017/10/pr_ecoper_2017102800_fanfar_SMHI.nchttps://store.terradue.com/hydro-smhi/fanfar/Operational/ecoper/2017/10/pr_ecoper_2017102700_fanfar_SMHI.nchttps://store.terradue.com/hydro-smhi/fanfar/Operational/ecoper/2017/10/pr_ecoper_2017102300_fanfar_SMHI.nchttps://store.terradue.com/hydro-smhi/fanfar/Operational/ecoper/2017/10/pr_ecoper_2017101800_fanfar_SMHI.nchttps://store.terradue.com/hydro-smhi/fanfar/Operational/ecoper/2017/10/pr_ecoper_2017100600_fanfar_SMHI.nchttps://store.terradue.com/hydro-smhi/fanfar/Operational/ecoper/2017/10/pr_ecoper_2017102600_fanfar_SMHI.nchttps://store.terradue.com/hydro-smhi/fanfar/Operational/ecoper/2017/10/pr_ecoper_2017101900_fanfar_SMHI.nchttps://store.terradue.com/hydro-smhi/fanfar/Operational/ecoper/2017/10/pr_ecoper_2017100700_fanfar_SMHI.nchttps://store.terradue.com/hydro-smhi/fanfar/Operational/ecoper/2017/10/pr_ecoper_2017100500_fanfar_SMHI.nchttps://store.terradue.com/hydro-smhi/fanfar/Operational/ecoper/2017/10/pr_ecoper_2017100300_fanfar_SMHI.nchttps://store.terradue.com/hydro-smhi/fanfar/Operational/ecoper/2017/10/pr_ecoper_2017102500_fanfar_SMHI.nchttps://store.terradue.com/hydro-smhi/fanfar/Operational/ecoper/2017/10/pr_ecoper_2017102400_fanfar_SMHI.nchttps://store.terradue.com/hydro-smhi/fanfar/Operational/ecoper/2017/10/pr_ecoper_2017102100_fanfar_SMHI.nchttps://store.terradue.com/hydro-smhi/fanfar/Operational/ecoper/2017/10/pr_ecoper_2017102200_fanfar_SMHI.nchttps://store.terradue.com/hydro-smhi/fanfar/Operational/ecoper/2017/10/pr_ecoper_2017102000_fanfar_SMHI.nchttps://store.terradue.com/hydro-smhi/fanfar/Operational/ecoper/2017/10/pr_ecoper_2017101300_fanfar_SMHI.nchttps://store.terradue.com/hydro-smhi/fanfar/Operational/ecoper/2017/10/pr_ecoper_2017100900_fanfar_SMHI.nchttps://store.terradue.com/hydro-smhi/fanfar/Operational/ecoper/2017/10/pr_ecoper_2017103000_fanfar_SMHI.nchttps://store.terradue.com/hydro-smhi/fanfar/Operational/ecoper/2017/10/pr_ecoper_2017101700_fanfar_SMHI.nchttps://store.terradue.com/hydro-smhi/fanfar/Operational/ecoper/2017/10/pr_ecoper_2017101400_fanfar_SMHI.nchttps://store.terradue.com/hydro-smhi/fanfar/Operational/ecoper/2017/10/pr_ecoper_2017101200_fanfar_SMHI.nchttps://store.terradue.com/hydro-smhi/fanfar/Operational/ecoper/2017/10/pr_ecoper_2017101100_fanfar_SMHI.nchttps://store.terradue.com/hydro-smhi/fanfar/Operational/ecoper/2017/10/pr_ecoper_2017100800_fanfar_SMHI.nchttps://store.terradue.com/hydro-smhi/fanfar/Operational/ecoper/2017/10/pr_ecoper_2017100100_fanfar_SMHI.nchttps://store.terradue.com/hydro-smhi/fanfar/Operational/ecoper/2017/09/pr_ecoper_2017092800_fanfar_SMHI.nchttps://store.terradue.com/hydro-smhi/fanfar/Operational/ecoper/2017/09/pr_ecoper_2017092700_fanfar_SMHI.nchttps://store.terradue.com/hydro-smhi/fanfar/Operational/ecoper/2017/09/pr_ecoper_2017092400_fanfar_SMHI.nchttps://store.terradue.com/hydro-smhi/fanfar/Operational/ecoper/2017/09/pr_ecoper_2017092200_fanfar_SMHI.nchttps://store.terradue.com/hydro-smhi/fanfar/Operational/ecoper/2017/09/pr_ecoper_2017092000_fanfar_SMHI.nchttps://store.terradue.com/hydro-smhi/fanfar/Operational/ecoper/2017/09/pr_ecoper_2017091900_fanfar_SMHI.nchttps://store.terradue.com/hydro-smhi/fanfar/Operational/ecoper/2017/09/pr_ecoper_2017091500_fanfar_SMHI.nchttps://store.terradue.com/hydro-smhi/fanfar/Operational/ecoper/2017/09/pr_ecoper_2017093000_fanfar_SMHI.nchttps://store.terradue.com/hydro-smhi/fanfar/Operational/ecoper/2017/09/pr_ecoper_2017092900_fanfar_SMHI.nchttps://store.terradue.com/hydro-smhi/fanfar/Operational/ecoper/2017/09/pr_ecoper_2017092100_fanfar_SMHI.nchttps://store.terradue.com/hydro-smhi/fanfar/Operational/ecoper/2017/09/pr_ecoper_2017091400_fanfar_SMHI.nchttps://store.terradue.com/hydro-smhi/fanfar/Operational/ecoper/2017/09/pr_ecoper_2017091200_fanfar_SMHI.nchttps://store.terradue.com/hydro-smhi/fanfar/Operational/ecoper/2017/09/pr_ecoper_2017090500_fanfar_SMHI.nchttps://store.terradue.com/hydro-smhi/fanfar/Operational/ecoper/2017/09/pr_ecoper_2017090700_fanfar_SMHI.nchttps://store.terradue.com/hydro-smhi/fanfar/Operational/ecoper/2017/09/pr_ecoper_2017090400_fanfar_SMHI.nchttps://store.terradue.com/hydro-smhi/fanfar/Operational/ecoper/2017/09/pr_ecoper_2017090200_fanfar_SMHI.nchttps://store.terradue.com/hydro-smhi/fanfar/Operational/ecoper/2017/09/pr_ecoper_2017092300_fanfar_SMHI.nchttps://store.terradue.com/hydro-smhi/fanfar/Operational/ecoper/2017/09/pr_ecoper_2017090800_fanfar_SMHI.nchttps://store.terradue.com/hydro-smhi/fanfar/Operational/ecoper/2017/09/pr_ecoper_2017090100_fanfar_SMHI.nchttps://store.terradue.com/hydro-smhi/fanfar/Operational/ecoper/2017/09/tasmax_ecoper_2017092800_fanfar_SMHI.nchttps://store.terradue.com/hydro-smhi/fanfar/Operational/ecoper/2017/09/pr_ecoper_2017092500_fanfar_SMHI.nchttps://store.terradue.com/hydro-smhi/fanfar/Operational/ecoper/2017/09/pr_ecoper_2017091700_fanfar_SMHI.nchttps://store.terradue.com/hydro-smhi/fanfar/Operational/ecoper/2017/09/pr_ecoper_2017091100_fanfar_SMHI.nchttps://store.terradue.com/hydro-smhi/fanfar/Operational/ecoper/2017/09/pr_ecoper_2017090300_fanfar_SMHI.nchttps://store.terradue.com/hydro-smhi/fanfar/Operational/ecoper/2017/09/pr_ecoper_2017092600_fanfar_SMHI.nchttps://store.terradue.com/hydro-smhi/fanfar/Operational/ecoper/2017/09/pr_ecoper_2017091800_fanfar_SMHI.nchttps://store.terradue.com/hydro-smhi/fanfar/Operational/ecoper/2017/09/pr_ecoper_2017091600_fanfar_SMHI.nchttps://store.terradue.com/hydro-smhi/fanfar/Operational/ecoper/2017/09/pr_ecoper_2017091300_fanfar_SMHI.nchttps://store.terradue.com/hydro-smhi/fanfar/Operational/ecoper/2017/09/pr_ecoper_2017091000_fanfar_SMHI.nchttps://store.terradue.com/hydro-smhi/fanfar/Operational/ecoper/2017/09/pr_ecoper_2017090900_fanfar_SMHI.nchttps://store.terradue.com/hydro-smhi/fanfar/Operational/ecoper/2017/09/pr_ecoper_2017090600_fanfar_SMHI.nchttps://store.terradue.com/hydro-smhi/fanfar/Operational/ecoper/2017/08/pr_ecoper_2017082200_fanfar_SMHI.nchttps://store.terradue.com/hydro-smhi/fanfar/Operational/ecoper/2017/08/pr_ecoper_2017081400_fanfar_SMHI.nchttps://store.terradue.com/hydro-smhi/fanfar/Operational/ecoper/2017/08/pr_ecoper_2017082500_fanfar_SMHI.nchttps://store.terradue.com/hydro-smhi/fanfar/Operational/ecoper/2017/08/pr_ecoper_2017081800_fanfar_SMHI.nchttps://store.terradue.com/hydro-smhi/fanfar/Operational/ecoper/2017/08/pr_ecoper_2017080700_fanfar_SMHI.nchttps://store.terradue.com/hydro-smhi/fanfar/Operational/ecoper/2017/08/pr_ecoper_2017080400_fanfar_SMHI.nchttps://store.terradue.com/hydro-smhi/fanfar/Operational/ecoper/2017/08/pr_ecoper_2017083000_fanfar_SMHI.nchttps://store.terradue.com/hydro-smhi/fanfar/Operational/ecoper/2017/08/pr_ecoper_2017082800_fanfar_SMHI.nchttps://store.terradue.com/hydro-smhi/fanfar/Operational/ecoper/2017/08/pr_ecoper_2017082700_fanfar_SMHI.nchttps://store.terradue.com/hydro-smhi/fanfar/Operational/ecoper/2017/08/pr_ecoper_2017082600_fanfar_SMHI.nchttps://store.terradue.com/hydro-smhi/fanfar/Operational/ecoper/2017/08/pr_ecoper_2017082400_fanfar_SMHI.nchttps://store.terradue.com/hydro-smhi/fanfar/Operational/ecoper/2017/08/pr_ecoper_2017081700_fanfar_SMHI.nchttps://store.terradue.com/hydro-smhi/fanfar/Operational/ecoper/2017/08/pr_ecoper_2017080800_fanfar_SMHI.nchttps://store.terradue.com/hydro-smhi/fanfar/Operational/ecoper/2017/08/pr_ecoper_2017080600_fanfar_SMHI.nchttps://store.terradue.com/hydro-smhi/fanfar/Operational/ecoper/2017/08/pr_ecoper_2017080500_fanfar_SMHI.nchttps://store.terradue.com/hydro-smhi/fanfar/Operational/ecoper/2017/08/pr_ecoper_2017080200_fanfar_SMHI.nchttps://store.terradue.com/hydro-smhi/fanfar/Operational/ecoper/2017/08/pr_ecoper_2017083100_fanfar_SMHI.nchttps://store.terradue.com/hydro-smhi/fanfar/Operational/ecoper/2017/08/pr_ecoper_2017082900_fanfar_SMHI.nchttps://store.terradue.com/hydro-smhi/fanfar/Operational/ecoper/2017/08/pr_ecoper_2017082300_fanfar_SMHI.nchttps://store.terradue.com/hydro-smhi/fanfar/Operational/ecoper/2017/08/pr_ecoper_2017082100_fanfar_SMHI.nchttps://store.terradue.com/hydro-smhi/fanfar/Operational/ecoper/2017/08/pr_ecoper_2017081600_fanfar_SMHI.nchttps://store.terradue.com/hydro-smhi/fanfar/Operational/ecoper/2017/08/pr_ecoper_2017081300_fanfar_SMHI.nchttps://store.terradue.com/hydro-smhi/fanfar/Operational/ecoper/2017/08/pr_ecoper_2017081200_fanfar_SMHI.nchttps://store.terradue.com/hydro-smhi/fanfar/Operational/ecoper/2017/08/pr_ecoper_2017081000_fanfar_SMHI.nchttps://store.terradue.com/hydro-smhi/fanfar/Operational/ecoper/2017/08/pr_ecoper_2017080900_fanfar_SMHI.nchttps://store.terradue.com/hydro-smhi/fanfar/Operational/ecoper/2017/08/pr_ecoper_2017081900_fanfar_SMHI.nchttps://store.terradue.com/hydro-smhi/fanfar/Operational/ecoper/2017/08/pr_ecoper_2017082000_fanfar_SMHI.nchttps://store.terradue.com/hydro-smhi/fanfar/Operational/ecoper/2017/08/pr_ecoper_2017081500_fanfar_SMHI.nchttps://store.terradue.com/hydro-smhi/fanfar/Operational/ecoper/2017/08/pr_ecoper_2017081100_fanfar_SMHI.nchttps://store.terradue.com/hydro-smhi/fanfar/Operational/ecoper/2017/08/pr_ecoper_2017080300_fanfar_SMHI.nchttps://store.terradue.com/hydro-smhi/fanfar/Operational/ecoper/2017/08/pr_ecoper_2017080100_fanfar_SMHI.nchttps://store.terradue.com/hydro-smhi/fanfar/Operational/ecoper/2017/07/pr_ecoper_2017073100_fanfar_SMHI.nchttps://store.terradue.com/hydro-smhi/fanfar/Operational/ecoper/2017/07/pr_ecoper_2017072700_fanfar_SMHI.nchttps://store.terradue.com/hydro-smhi/fanfar/Operational/ecoper/2017/07/pr_ecoper_2017071600_fanfar_SMHI.nchttps://store.terradue.com/hydro-smhi/fanfar/Operational/ecoper/2017/07/pr_ecoper_2017071300_fanfar_SMHI.nchttps://store.terradue.com/hydro-smhi/fanfar/Operational/ecoper/2017/07/pr_ecoper_2017071700_fanfar_SMHI.nchttps://store.terradue.com/hydro-smhi/fanfar/Operational/ecoper/2017/07/pr_ecoper_2017070500_fanfar_SMHI.nchttps://store.terradue.com/hydro-smhi/fanfar/Operational/ecoper/2017/07/pr_ecoper_2017070400_fanfar_SMHI.nchttps://store.terradue.com/hydro-smhi/fanfar/Operational/ecoper/2017/07/pr_ecoper_2017072900_fanfar_SMHI.nchttps://store.terradue.com/hydro-smhi/fanfar/Operational/ecoper/2017/07/pr_ecoper_2017071800_fanfar_SMHI.nchttps://store.terradue.com/hydro-smhi/fanfar/Operational/ecoper/2017/07/pr_ecoper_2017071500_fanfar_SMHI.nchttps://store.terradue.com/hydro-smhi/fanfar/Operational/ecoper/2017/07/pr_ecoper_2017071000_fanfar_SMHI.nchttps://store.terradue.com/hydro-smhi/fanfar/Operational/ecoper/2017/07/pr_ecoper_2017070900_fanfar_SMHI.nchttps://store.terradue.com/hydro-smhi/fanfar/Operational/ecoper/2017/07/pr_ecoper_2017070700_fanfar_SMHI.nchttps://store.terradue.com/hydro-smhi/fanfar/Operational/ecoper/2017/07/pr_ecoper_2017070600_fanfar_SMHI.nchttps://store.terradue.com/hydro-smhi/fanfar/Operational/ecoper/2017/07/pr_ecoper_2017070200_fanfar_SMHI.nchttps://store.terradue.com/hydro-smhi/fanfar/Operational/ecoper/2017/07/tasmax_ecoper_2017072700_fanfar_SMHI.nchttps://store.terradue.com/hydro-smhi/fanfar/Operational/ecoper/2017/07/tasmax_ecoper_2017070100_fanfar_SMHI.nchttps://store.terradue.com/hydro-smhi/fanfar/Operational/ecoper/2017/07/pr_ecoper_2017073000_fanfar_SMHI.nchttps://store.terradue.com/hydro-smhi/fanfar/Operational/ecoper/2017/07/pr_ecoper_2017072800_fanfar_SMHI.nchttps://store.terradue.com/hydro-smhi/fanfar/Operational/ecoper/2017/07/pr_ecoper_2017072200_fanfar_SMHI.nchttps://store.terradue.com/hydro-smhi/fanfar/Operational/ecoper/2017/07/pr_ecoper_2017072000_fanfar_SMHI.nchttps://store.terradue.com/hydro-smhi/fanfar/Operational/ecoper/2017/07/pr_ecoper_2017071900_fanfar_SMHI.nchttps://store.terradue.com/hydro-smhi/fanfar/Operational/ecoper/2017/07/pr_ecoper_2017071400_fanfar_SMHI.nchttps://store.terradue.com/hydro-smhi/fanfar/Operational/ecoper/2017/07/pr_ecoper_2017071200_fanfar_SMHI.nchttps://store.terradue.com/hydro-smhi/fanfar/Operational/ecoper/2017/07/pr_ecoper_2017070800_fanfar_SMHI.nchttps://store.terradue.com/hydro-smhi/fanfar/Operational/ecoper/2017/07/pr_ecoper_2017072600_fanfar_SMHI.nchttps://store.terradue.com/hydro-smhi/fanfar/Operational/ecoper/2017/07/pr_ecoper_2017072500_fanfar_SMHI.nchttps://store.terradue.com/hydro-smhi/fanfar/Operational/ecoper/2017/07/pr_ecoper_2017072400_fanfar_SMHI.nchttps://store.terradue.com/hydro-smhi/fanfar/Operational/ecoper/2017/07/pr_ecoper_2017071100_fanfar_SMHI.nchttps://store.terradue.com/hydro-smhi/fanfar/Operational/ecoper/2017/07/pr_ecoper_2017070300_fanfar_SMHI.nchttps://store.terradue.com/hydro-smhi/fanfar/Operational/ecoper/2017/07/pr_ecoper_2017070100_fanfar_SMHI.nchttps://store.terradue.com/hydro-smhi/fanfar/Operational/ecoper/2017/06/pr_ecoper_2017063000_fanfar_SMHI.nchttps://store.terradue.com/hydro-smhi/fanfar/Operational/ecoper/2017/06/pr_ecoper_2017061700_fanfar_SMHI.nchttps://store.terradue.com/hydro-smhi/fanfar/Operational/ecoper/2017/06/pr_ecoper_2017061500_fanfar_SMHI.nchttps://store.terradue.com/hydro-smhi/fanfar/Operational/ecoper/2017/06/pr_ecoper_2017061400_fanfar_SMHI.nchttps://store.terradue.com/hydro-smhi/fanfar/Operational/ecoper/2017/06/pr_ecoper_2017060200_fanfar_SMHI.nchttps://store.terradue.com/hydro-smhi/fanfar/Operational/ecoper/2017/06/pr_ecoper_2017062200_fanfar_SMHI.nchttps://store.terradue.com/hydro-smhi/fanfar/Operational/ecoper/2017/06/pr_ecoper_2017062000_fanfar_SMHI.nchttps://store.terradue.com/hydro-smhi/fanfar/Operational/ecoper/2017/06/pr_ecoper_2017061600_fanfar_SMHI.nchttps://store.terradue.com/hydro-smhi/fanfar/Operational/ecoper/2017/06/pr_ecoper_2017061000_fanfar_SMHI.nchttps://store.terradue.com/hydro-smhi/fanfar/Operational/ecoper/2017/06/pr_ecoper_2017060400_fanfar_SMHI.nchttps://store.terradue.com/hydro-smhi/fanfar/Operational/ecoper/2017/06/tas_ecoper_2017062400_fanfar_SMHI.nchttps://store.terradue.com/hydro-smhi/fanfar/Operational/ecoper/2017/06/tas_ecoper_2017061200_fanfar_SMHI.nchttps://store.terradue.com/hydro-smhi/fanfar/Operational/ecoper/2017/06/pr_ecoper_2017062800_fanfar_SMHI.nchttps://store.terradue.com/hydro-smhi/fanfar/Operational/ecoper/2017/06/pr_ecoper_2017062600_fanfar_SMHI.nchttps://store.terradue.com/hydro-smhi/fanfar/Operational/ecoper/2017/06/pr_ecoper_2017062400_fanfar_SMHI.nchttps://store.terradue.com/hydro-smhi/fanfar/Operational/ecoper/2017/06/pr_ecoper_2017061300_fanfar_SMHI.nchttps://store.terradue.com/hydro-smhi/fanfar/Operational/ecoper/2017/06/pr_ecoper_2017061200_fanfar_SMHI.nchttps://store.terradue.com/hydro-smhi/fanfar/Operational/ecoper/2017/06/pr_ecoper_2017061100_fanfar_SMHI.nchttps://store.terradue.com/hydro-smhi/fanfar/Operational/ecoper/2017/06/pr_ecoper_2017060700_fanfar_SMHI.nchttps://store.terradue.com/hydro-smhi/fanfar/Operational/ecoper/2017/06/pr_ecoper_2017062900_fanfar_SMHI.nchttps://store.terradue.com/hydro-smhi/fanfar/Operational/ecoper/2017/06/pr_ecoper_2017062700_fanfar_SMHI.nchttps://store.terradue.com/hydro-smhi/fanfar/Operational/ecoper/2017/06/pr_ecoper_2017062500_fanfar_SMHI.nchttps://store.terradue.com/hydro-smhi/fanfar/Operational/ecoper/2017/06/pr_ecoper_2017062300_fanfar_SMHI.nchttps://store.terradue.com/hydro-smhi/fanfar/Operational/ecoper/2017/06/pr_ecoper_2017061800_fanfar_SMHI.nchttps://store.terradue.com/hydro-smhi/fanfar/Operational/ecoper/2017/06/pr_ecoper_2017060900_fanfar_SMHI.nchttps://store.terradue.com/hydro-smhi/fanfar/Operational/ecoper/2017/06/pr_ecoper_2017060800_fanfar_SMHI.nchttps://store.terradue.com/hydro-smhi/fanfar/Operational/ecoper/2017/06/pr_ecoper_2017060600_fanfar_SMHI.nchttps://store.terradue.com/hydro-smhi/fanfar/Operational/ecoper/2017/06/pr_ecoper_2017061900_fanfar_SMHI.nchttps://store.terradue.com/hydro-smhi/fanfar/Operational/ecoper/2017/06/pr_ecoper_2017060500_fanfar_SMHI.nchttps://store.terradue.com/hydro-smhi/fanfar/Operational/ecoper/2017/06/pr_ecoper_2017060300_fanfar_SMHI.nchttps://store.terradue.com/hydro-smhi/fanfar/Operational/ecoper/2017/06/pr_ecoper_2017060100_fanfar_SMHI.nchttps://store.terradue.com/hydro-smhi/fanfar/Operational/ecoper/2017/06/tasmax_ecoper_2017063000_fanfar_SMHI.nchttps://store.terradue.com/hydro-smhi/fanfar/Operational/ecoper/2017/05/pr_ecoper_2017052800_fanfar_SMHI.nchttps://store.terradue.com/hydro-smhi/fanfar/Operational/ecoper/2017/05/pr_ecoper_2017052600_fanfar_SMHI.nchttps://store.terradue.com/hydro-smhi/fanfar/Operational/ecoper/2017/05/pr_ecoper_2017052300_fanfar_SMHI.nchttps://store.terradue.com/hydro-smhi/fanfar/Operational/ecoper/2017/05/pr_ecoper_2017051800_fanfar_SMHI.nchttps://store.terradue.com/hydro-smhi/fanfar/Operational/ecoper/2017/05/pr_ecoper_2017050900_fanfar_SMHI.nchttps://store.terradue.com/hydro-smhi/fanfar/Operational/ecoper/2017/05/pr_ecoper_2017052100_fanfar_SMHI.nchttps://store.terradue.com/hydro-smhi/fanfar/Operational/ecoper/2017/05/pr_ecoper_2017052200_fanfar_SMHI.nchttps://store.terradue.com/hydro-smhi/fanfar/Operational/ecoper/2017/05/pr_ecoper_2017051400_fanfar_SMHI.nchttps://store.terradue.com/hydro-smhi/fanfar/Operational/ecoper/2017/05/pr_ecoper_2017051100_fanfar_SMHI.nchttps://store.terradue.com/hydro-smhi/fanfar/Operational/ecoper/2017/05/pr_ecoper_2017050700_fanfar_SMHI.nchttps://store.terradue.com/hydro-smhi/fanfar/Operational/ecoper/2017/05/pr_ecoper_2017050300_fanfar_SMHI.nchttps://store.terradue.com/hydro-smhi/fanfar/Operational/ecoper/2017/05/pr_ecoper_2017053100_fanfar_SMHI.nchttps://store.terradue.com/hydro-smhi/fanfar/Operational/ecoper/2017/05/pr_ecoper_2017053000_fanfar_SMHI.nchttps://store.terradue.com/hydro-smhi/fanfar/Operational/ecoper/2017/05/pr_ecoper_2017052400_fanfar_SMHI.nchttps://store.terradue.com/hydro-smhi/fanfar/Operational/ecoper/2017/05/pr_ecoper_2017051700_fanfar_SMHI.nchttps://store.terradue.com/hydro-smhi/fanfar/Operational/ecoper/2017/05/pr_ecoper_2017051600_fanfar_SMHI.nchttps://store.terradue.com/hydro-smhi/fanfar/Operational/ecoper/2017/05/pr_ecoper_2017051200_fanfar_SMHI.nchttps://store.terradue.com/hydro-smhi/fanfar/Operational/ecoper/2017/05/pr_ecoper_2017050800_fanfar_SMHI.nchttps://store.terradue.com/hydro-smhi/fanfar/Operational/ecoper/2017/05/pr_ecoper_2017050500_fanfar_SMHI.nchttps://store.terradue.com/hydro-smhi/fanfar/Operational/ecoper/2017/05/pr_ecoper_2017050100_fanfar_SMHI.nchttps://store.terradue.com/hydro-smhi/fanfar/Operational/ecoper/2017/05/pr_ecoper_2017050400_fanfar_SMHI.nchttps://store.terradue.com/hydro-smhi/fanfar/Operational/ecoper/2017/05/pr_ecoper_2017050200_fanfar_SMHI.nchttps://store.terradue.com/hydro-smhi/fanfar/Operational/ecoper/2017/05/tasmin_ecoper_2017050800_fanfar_SMHI.nchttps://store.terradue.com/hydro-smhi/fanfar/Operational/ecoper/2017/05/pr_ecoper_2017052700_fanfar_SMHI.nchttps://store.terradue.com/hydro-smhi/fanfar/Operational/ecoper/2017/05/pr_ecoper_2017052500_fanfar_SMHI.nchttps://store.terradue.com/hydro-smhi/fanfar/Operational/ecoper/2017/05/pr_ecoper_2017052000_fanfar_SMHI.nchttps://store.terradue.com/hydro-smhi/fanfar/Operational/ecoper/2017/05/pr_ecoper_2017051900_fanfar_SMHI.nchttps://store.terradue.com/hydro-smhi/fanfar/Operational/ecoper/2017/05/pr_ecoper_2017051300_fanfar_SMHI.nchttps://store.terradue.com/hydro-smhi/fanfar/Operational/ecoper/2017/05/pr_ecoper_2017050600_fanfar_SMHI.nchttps://store.terradue.com/hydro-smhi/fanfar/Operational/ecoper/2017/05/pr_ecoper_2017052900_fanfar_SMHI.nchttps://store.terradue.com/hydro-smhi/fanfar/Operational/ecoper/2017/05/pr_ecoper_2017051000_fanfar_SMHI.nchttps://store.terradue.com/hydro-smhi/fanfar/Operational/ecoper/2017/04/pr_ecoper_2017042700_fanfar_SMHI.nchttps://store.terradue.com/hydro-smhi/fanfar/Operational/ecoper/2017/04/pr_ecoper_2017042600_fanfar_SMHI.nchttps://store.terradue.com/hydro-smhi/fanfar/Operational/ecoper/2017/04/pr_ecoper_2017042200_fanfar_SMHI.nchttps://store.terradue.com/hydro-smhi/fanfar/Operational/ecoper/2017/04/pr_ecoper_2017041500_fanfar_SMHI.nchttps://store.terradue.com/hydro-smhi/fanfar/Operational/ecoper/2017/04/pr_ecoper_2017041100_fanfar_SMHI.nchttps://store.terradue.com/hydro-smhi/fanfar/Operational/ecoper/2017/04/pr_ecoper_2017040900_fanfar_SMHI.nchttps://store.terradue.com/hydro-smhi/fanfar/Operational/ecoper/2017/04/pr_ecoper_2017040400_fanfar_SMHI.nchttps://store.terradue.com/hydro-smhi/fanfar/Operational/ecoper/2017/04/pr_ecoper_2017040100_fanfar_SMHI.nchttps://store.terradue.com/hydro-smhi/fanfar/Operational/ecoper/2017/04/pr_ecoper_2017043000_fanfar_SMHI.nchttps://store.terradue.com/hydro-smhi/fanfar/Operational/ecoper/2017/04/pr_ecoper_2017042300_fanfar_SMHI.nchttps://store.terradue.com/hydro-smhi/fanfar/Operational/ecoper/2017/04/pr_ecoper_2017041900_fanfar_SMHI.nchttps://store.terradue.com/hydro-smhi/fanfar/Operational/ecoper/2017/04/pr_ecoper_2017041300_fanfar_SMHI.nchttps://store.terradue.com/hydro-smhi/fanfar/Operational/ecoper/2017/04/pr_ecoper_2017040600_fanfar_SMHI.nchttps://store.terradue.com/hydro-smhi/fanfar/Operational/ecoper/2017/04/pr_ecoper_2017040300_fanfar_SMHI.nchttps://store.terradue.com/hydro-smhi/fanfar/Operational/ecoper/2017/04/pr_ecoper_2017040200_fanfar_SMHI.nchttps://store.terradue.com/hydro-smhi/fanfar/Operational/ecoper/2017/04/pr_ecoper_2017042500_fanfar_SMHI.nchttps://store.terradue.com/hydro-smhi/fanfar/Operational/ecoper/2017/04/pr_ecoper_2017042400_fanfar_SMHI.nchttps://store.terradue.com/hydro-smhi/fanfar/Operational/ecoper/2017/04/pr_ecoper_2017041800_fanfar_SMHI.nchttps://store.terradue.com/hydro-smhi/fanfar/Operational/ecoper/2017/04/pr_ecoper_2017040800_fanfar_SMHI.nchttps://store.terradue.com/hydro-smhi/fanfar/Operational/ecoper/2017/04/tasmax_ecoper_2017040900_fanfar_SMHI.nchttps://store.terradue.com/hydro-smhi/fanfar/Operational/ecoper/2017/04/pr_ecoper_2017042800_fanfar_SMHI.nchttps://store.terradue.com/hydro-smhi/fanfar/Operational/ecoper/2017/04/pr_ecoper_2017042000_fanfar_SMHI.nchttps://store.terradue.com/hydro-smhi/fanfar/Operational/ecoper/2017/04/pr_ecoper_2017040700_fanfar_SMHI.nchttps://store.terradue.com/hydro-smhi/fanfar/Operational/ecoper/2017/04/pr_ecoper_2017040500_fanfar_SMHI.nchttps://store.terradue.com/hydro-smhi/fanfar/Operational/ecoper/2017/04/tasmin_ecoper_2017042000_fanfar_SMHI.nchttps://store.terradue.com/hydro-smhi/fanfar/Operational/ecoper/2017/04/pr_ecoper_2017042900_fanfar_SMHI.nchttps://store.terradue.com/hydro-smhi/fanfar/Operational/ecoper/2017/04/pr_ecoper_2017042100_fanfar_SMHI.nchttps://store.terradue.com/hydro-smhi/fanfar/Operational/ecoper/2017/04/pr_ecoper_2017041700_fanfar_SMHI.nchttps://store.terradue.com/hydro-smhi/fanfar/Operational/ecoper/2017/04/pr_ecoper_2017041600_fanfar_SMHI.nchttps://store.terradue.com/hydro-smhi/fanfar/Operational/ecoper/2017/04/pr_ecoper_2017041400_fanfar_SMHI.nchttps://store.terradue.com/hydro-smhi/fanfar/Operational/ecoper/2017/04/pr_ecoper_2017041200_fanfar_SMHI.nchttps://store.terradue.com/hydro-smhi/fanfar/Operational/ecoper/2017/04/pr_ecoper_2017041000_fanfar_SMHI.nchttps://store.terradue.com/hydro-smhi/fanfar/Operational/ecoper/2017/03/pr_ecoper_2017032700_fanfar_SMHI.nchttps://store.terradue.com/hydro-smhi/fanfar/Operational/ecoper/2017/03/pr_ecoper_2017032200_fanfar_SMHI.nchttps://store.terradue.com/hydro-smhi/fanfar/Operational/ecoper/2017/03/pr_ecoper_2017031600_fanfar_SMHI.nchttps://store.terradue.com/hydro-smhi/fanfar/Operational/ecoper/2017/03/pr_ecoper_2017031200_fanfar_SMHI.nchttps://store.terradue.com/hydro-smhi/fanfar/Operational/ecoper/2017/03/pr_ecoper_2017030800_fanfar_SMHI.nchttps://store.terradue.com/hydro-smhi/fanfar/Operational/ecoper/2017/03/pr_ecoper_2017030100_fanfar_SMHI.nchttps://store.terradue.com/hydro-smhi/fanfar/Operational/ecoper/2017/03/pr_ecoper_2017033000_fanfar_SMHI.nchttps://store.terradue.com/hydro-smhi/fanfar/Operational/ecoper/2017/03/pr_ecoper_2017032000_fanfar_SMHI.nchttps://store.terradue.com/hydro-smhi/fanfar/Operational/ecoper/2017/03/pr_ecoper_2017031500_fanfar_SMHI.nchttps://store.terradue.com/hydro-smhi/fanfar/Operational/ecoper/2017/03/pr_ecoper_2017031300_fanfar_SMHI.nchttps://store.terradue.com/hydro-smhi/fanfar/Operational/ecoper/2017/03/pr_ecoper_2017031100_fanfar_SMHI.nchttps://store.terradue.com/hydro-smhi/fanfar/Operational/ecoper/2017/03/pr_ecoper_2017030300_fanfar_SMHI.nchttps://store.terradue.com/hydro-smhi/fanfar/Operational/ecoper/2017/03/pr_ecoper_2017030500_fanfar_SMHI.nchttps://store.terradue.com/hydro-smhi/fanfar/Operational/ecoper/2017/03/pr_ecoper_2017032500_fanfar_SMHI.nchttps://store.terradue.com/hydro-smhi/fanfar/Operational/ecoper/2017/03/pr_ecoper_2017032100_fanfar_SMHI.nchttps://store.terradue.com/hydro-smhi/fanfar/Operational/ecoper/2017/03/pr_ecoper_2017031400_fanfar_SMHI.nchttps://store.terradue.com/hydro-smhi/fanfar/Operational/ecoper/2017/03/pr_ecoper_2017030700_fanfar_SMHI.nchttps://store.terradue.com/hydro-smhi/fanfar/Operational/ecoper/2017/03/tas_ecoper_2017030400_fanfar_SMHI.nchttps://store.terradue.com/hydro-smhi/fanfar/Operational/ecoper/2017/03/pr_ecoper_2017033100_fanfar_SMHI.nchttps://store.terradue.com/hydro-smhi/fanfar/Operational/ecoper/2017/03/pr_ecoper_2017032900_fanfar_SMHI.nchttps://store.terradue.com/hydro-smhi/fanfar/Operational/ecoper/2017/03/pr_ecoper_2017032800_fanfar_SMHI.nchttps://store.terradue.com/hydro-smhi/fanfar/Operational/ecoper/2017/03/pr_ecoper_2017032600_fanfar_SMHI.nchttps://store.terradue.com/hydro-smhi/fanfar/Operational/ecoper/2017/03/pr_ecoper_2017032400_fanfar_SMHI.nchttps://store.terradue.com/hydro-smhi/fanfar/Operational/ecoper/2017/03/pr_ecoper_2017032300_fanfar_SMHI.nchttps://store.terradue.com/hydro-smhi/fanfar/Operational/ecoper/2017/03/pr_ecoper_2017031900_fanfar_SMHI.nchttps://store.terradue.com/hydro-smhi/fanfar/Operational/ecoper/2017/03/pr_ecoper_2017031000_fanfar_SMHI.nchttps://store.terradue.com/hydro-smhi/fanfar/Operational/ecoper/2017/03/tasmax_ecoper_2017030600_fanfar_SMHI.nchttps://store.terradue.com/hydro-smhi/fanfar/Operational/ecoper/2017/03/pr_ecoper_2017031800_fanfar_SMHI.nchttps://store.terradue.com/hydro-smhi/fanfar/Operational/ecoper/2017/03/pr_ecoper_2017031700_fanfar_SMHI.nchttps://store.terradue.com/hydro-smhi/fanfar/Operational/ecoper/2017/03/pr_ecoper_2017030900_fanfar_SMHI.nchttps://store.terradue.com/hydro-smhi/fanfar/Operational/ecoper/2017/03/pr_ecoper_2017030600_fanfar_SMHI.nchttps://store.terradue.com/hydro-smhi/fanfar/Operational/ecoper/2017/03/pr_ecoper_2017030400_fanfar_SMHI.nchttps://store.terradue.com/hydro-smhi/fanfar/Operational/ecoper/2017/03/pr_ecoper_2017030200_fanfar_SMHI.nchttps://store.terradue.com/hydro-smhi/fanfar/Operational/ecoper/2017/02/pr_ecoper_2017022000_fanfar_SMHI.nchttps://store.terradue.com/hydro-smhi/fanfar/Operational/ecoper/2017/02/pr_ecoper_2017021600_fanfar_SMHI.nchttps://store.terradue.com/hydro-smhi/fanfar/Operational/ecoper/2017/02/pr_ecoper_2017020900_fanfar_SMHI.nchttps://store.terradue.com/hydro-smhi/fanfar/Operational/ecoper/2017/02/pr_ecoper_2017020600_fanfar_SMHI.nchttps://store.terradue.com/hydro-smhi/fanfar/Operational/ecoper/2017/02/pr_ecoper_2017020300_fanfar_SMHI.nchttps://store.terradue.com/hydro-smhi/fanfar/Operational/ecoper/2017/02/pr_ecoper_2017020100_fanfar_SMHI.nchttps://store.terradue.com/hydro-smhi/fanfar/Operational/ecoper/2017/02/pr_ecoper_2017022500_fanfar_SMHI.nchttps://store.terradue.com/hydro-smhi/fanfar/Operational/ecoper/2017/02/pr_ecoper_2017022200_fanfar_SMHI.nchttps://store.terradue.com/hydro-smhi/fanfar/Operational/ecoper/2017/02/pr_ecoper_2017021400_fanfar_SMHI.nchttps://store.terradue.com/hydro-smhi/fanfar/Operational/ecoper/2017/02/pr_ecoper_2017021300_fanfar_SMHI.nchttps://store.terradue.com/hydro-smhi/fanfar/Operational/ecoper/2017/02/pr_ecoper_2017021000_fanfar_SMHI.nchttps://store.terradue.com/hydro-smhi/fanfar/Operational/ecoper/2017/02/pr_ecoper_2017020800_fanfar_SMHI.nchttps://store.terradue.com/hydro-smhi/fanfar/Operational/ecoper/2017/02/pr_ecoper_2017020200_fanfar_SMHI.nchttps://store.terradue.com/hydro-smhi/fanfar/Operational/ecoper/2017/02/tasmax_ecoper_2017021400_fanfar_SMHI.nchttps://store.terradue.com/hydro-smhi/fanfar/Operational/ecoper/2017/02/pr_ecoper_2017022300_fanfar_SMHI.nchttps://store.terradue.com/hydro-smhi/fanfar/Operational/ecoper/2017/02/pr_ecoper_2017022100_fanfar_SMHI.nchttps://store.terradue.com/hydro-smhi/fanfar/Operational/ecoper/2017/02/pr_ecoper_2017021700_fanfar_SMHI.nchttps://store.terradue.com/hydro-smhi/fanfar/Operational/ecoper/2017/02/pr_ecoper_2017020500_fanfar_SMHI.nchttps://store.terradue.com/hydro-smhi/fanfar/Operational/ecoper/2017/02/pr_ecoper_2017022800_fanfar_SMHI.nchttps://store.terradue.com/hydro-smhi/fanfar/Operational/ecoper/2017/02/pr_ecoper_2017022400_fanfar_SMHI.nchttps://store.terradue.com/hydro-smhi/fanfar/Operational/ecoper/2017/02/pr_ecoper_2017021800_fanfar_SMHI.nchttps://store.terradue.com/hydro-smhi/fanfar/Operational/ecoper/2017/02/pr_ecoper_2017021200_fanfar_SMHI.nchttps://store.terradue.com/hydro-smhi/fanfar/Operational/ecoper/2017/02/pr_ecoper_2017020700_fanfar_SMHI.nchttps://store.terradue.com/hydro-smhi/fanfar/Operational/ecoper/2017/02/pr_ecoper_2017020400_fanfar_SMHI.nchttps://store.terradue.com/hydro-smhi/fanfar/Operational/ecoper/2017/02/pr_ecoper_2017022600_fanfar_SMHI.nchttps://store.terradue.com/hydro-smhi/fanfar/Operational/ecoper/2017/02/pr_ecoper_2017022700_fanfar_SMHI.nchttps://store.terradue.com/hydro-smhi/fanfar/Operational/ecoper/2017/02/pr_ecoper_2017021900_fanfar_SMHI.nchttps://store.terradue.com/hydro-smhi/fanfar/Operational/ecoper/2017/02/pr_ecoper_2017021500_fanfar_SMHI.nchttps://store.terradue.com/hydro-smhi/fanfar/Operational/ecoper/2017/02/pr_ecoper_2017021100_fanfar_SMHI.nchttps://store.terradue.com/hydro-smhi/fanfar/Operational/ecoper/2017/01/pr_ecoper_2017010800_fanfar_SMHI.nchttps://store.terradue.com/hydro-smhi/fanfar/Operational/ecoper/2017/01/pr_ecoper_2017010400_fanfar_SMHI.nchttps://store.terradue.com/hydro-smhi/fanfar/Operational/ecoper/2017/01/pr_ecoper_2017010100_fanfar_SMHI.nchttps://store.terradue.com/hydro-smhi/fanfar/Operational/ecoper/2017/01/pr_ecoper_2017012800_fanfar_SMHI.nchttps://store.terradue.com/hydro-smhi/fanfar/Operational/ecoper/2017/01/pr_ecoper_2017012300_fanfar_SMHI.nchttps://store.terradue.com/hydro-smhi/fanfar/Operational/ecoper/2017/01/pr_ecoper_2017012200_fanfar_SMHI.nchttps://store.terradue.com/hydro-smhi/fanfar/Operational/ecoper/2017/01/pr_ecoper_2017012100_fanfar_SMHI.nchttps://store.terradue.com/hydro-smhi/fanfar/Operational/ecoper/2017/01/pr_ecoper_2017011400_fanfar_SMHI.nchttps://store.terradue.com/hydro-smhi/fanfar/Operational/ecoper/2017/01/pr_ecoper_2017011800_fanfar_SMHI.nchttps://store.terradue.com/hydro-smhi/fanfar/Operational/ecoper/2017/01/pr_ecoper_2017010900_fanfar_SMHI.nchttps://store.terradue.com/hydro-smhi/fanfar/Operational/ecoper/2017/01/pr_ecoper_2017010600_fanfar_SMHI.nchttps://store.terradue.com/hydro-smhi/fanfar/Operational/ecoper/2017/01/tas_ecoper_2017010100_fanfar_SMHI.nchttps://store.terradue.com/hydro-smhi/fanfar/Operational/ecoper/2017/01/pr_ecoper_2017013100_fanfar_SMHI.nchttps://store.terradue.com/hydro-smhi/fanfar/Operational/ecoper/2017/01/pr_ecoper_2017012700_fanfar_SMHI.nchttps://store.terradue.com/hydro-smhi/fanfar/Operational/ecoper/2017/01/pr_ecoper_2017012400_fanfar_SMHI.nchttps://store.terradue.com/hydro-smhi/fanfar/Operational/ecoper/2017/01/pr_ecoper_2017011700_fanfar_SMHI.nchttps://store.terradue.com/hydro-smhi/fanfar/Operational/ecoper/2017/01/pr_ecoper_2017011600_fanfar_SMHI.nchttps://store.terradue.com/hydro-smhi/fanfar/Operational/ecoper/2017/01/pr_ecoper_2017010300_fanfar_SMHI.nchttps://store.terradue.com/hydro-smhi/fanfar/Operational/ecoper/2017/01/tasmax_ecoper_2017010100_fanfar_SMHI.nchttps://store.terradue.com/hydro-smhi/fanfar/Operational/ecoper/2017/01/pr_ecoper_2017013000_fanfar_SMHI.nchttps://store.terradue.com/hydro-smhi/fanfar/Operational/ecoper/2017/01/pr_ecoper_2017012600_fanfar_SMHI.nchttps://store.terradue.com/hydro-smhi/fanfar/Operational/ecoper/2017/01/pr_ecoper_2017012000_fanfar_SMHI.nchttps://store.terradue.com/hydro-smhi/fanfar/Operational/ecoper/2017/01/pr_ecoper_2017011300_fanfar_SMHI.nchttps://store.terradue.com/hydro-smhi/fanfar/Operational/ecoper/2017/01/pr_ecoper_2017011200_fanfar_SMHI.nchttps://store.terradue.com/hydro-smhi/fanfar/Operational/ecoper/2017/01/pr_ecoper_2017010200_fanfar_SMHI.nchttps://store.terradue.com/hydro-smhi/fanfar/Operational/ecoper/2017/01/tasmin_ecoper_2017012500_fanfar_SMHI.nchttps://store.terradue.com/hydro-smhi/fanfar/Operational/ecoper/2017/01/tas_ecoper_2017010500_fanfar_SMHI.nchttps://store.terradue.com/hydro-smhi/fanfar/Operational/ecoper/2017/01/pr_ecoper_2017011100_fanfar_SMHI.nchttps://store.terradue.com/hydro-smhi/fanfar/Operational/ecoper/2017/01/pr_ecoper_2017010700_fanfar_SMHI.nchttps://store.terradue.com/hydro-smhi/fanfar/Operational/ecoper/2017/01/pr_ecoper_2017011000_fanfar_SMHI.nchttps://store.terradue.com/hydro-smhi/fanfar/Operational/ecoper/2017/01/pr_ecoper_2017010500_fanfar_SMHI.nchttps://store.terradue.com/hydro-smhi/fanfar/Operational/ecoper/2017/01/pr_ecoper_2017011500_fanfar_SMHI.nchttps://store.terradue.com/hydro-smhi/fanfar/Operational/ecoper/2017/01/tasmin_ecoper_2017010100_fanfar_SMHI.nchttps://store.terradue.com/hydro-smhi/fanfar/Operational/ecoper/2017/01/pr_ecoper_2017012900_fanfar_SMHI.nchttps://store.terradue.com/hydro-smhi/fanfar/Operational/ecoper/2017/01/pr_ecoper_2017012500_fanfar_SMHI.nchttps://store.terradue.com/hydro-smhi/fanfar/Operational/ecoper/2017/01/pr_ecoper_2017011900_fanfar_SMHI.nc\n"
     ]
    }
   ],
   "source": [
    "# Query the input reference\n",
    "#opensearchCmd=paste(\"opensearch-client 'https://catalog.terradue.com/hydro-smhi/description' -p 'count=unlimited' -p 'cat=[SMHI,operational,daily,od]' -p 'start=2019-03-01' -p 'stop=2019-03-01' enclosure,identifier\")\n",
    "# Gives a lot of urls to files, test with e.g. count=4 (for the 4 lastest?)\n",
    "\n",
    "# When time to perform the download, only use enclosure skip identifier etc.\n",
    "#opensearchCmd=paste(\"opensearch-client 'https://catalog.terradue.com/hydro-smhi/description' -p 'count=4' -p 'cat=[SMHI,operational,daily,od]' -p 'start=2019-03-01' -p 'stop=2019-03-01' enclosure\")\n",
    "# # count=4 (for the 4 lastest, yes) gives pr,tas,tasmin and tasmax\n",
    "#opensearchCmd=paste(\"opensearch-client 'https://catalog.terradue.com/hydro-smhi/description' -p 'count=1' -p 'cat=[SMHI,operational,daily,od]' -p 'start=2019-03-01' -p 'stop=2019-03-01' enclosure\")\n",
    "# # count=1 gives me pr at this time, maybe the lastest time\n",
    "#opensearchCmd=paste(\"opensearch-client 'https://catalog.terradue.com/hydro-smhi/description' -p 'count=1' -p 'cat=[SMHI,operational,daily,od,tas]' -p 'start=2019-03-01' -p 'stop=2019-03-01' enclosure\")\n",
    "# # count=1 and tas specified gives me tas - nice\n",
    "\n",
    "#\n",
    "# Test different variant of indata\n",
    "#\n",
    "opensearchCmd=paste(\"opensearch-client 'https://catalog.terradue.com/hydro-smhi/description' -p 'count=unlimited' -p 'cat=[SMHI,operational,daily,od,tas]' -p 'start=2019-03-01' -p 'stop=2019-03-01' enclosure\")\n",
    "# With unlimited and no time stamp we receive tas_od-daily_20190301_fanfar_SMHI.nc and tas_od-daily_20190228_fanfar_SMHI.nc - partial ok\n",
    "\n",
    "opensearchCmd=paste(\"opensearch-client 'https://catalog.terradue.com/hydro-smhi/description' -p 'count=unlimited' -p 'cat=[SMHI,operational,daily,od,tas]' -p 'start=2019-03-01T00:00:01' -p 'stop=2019-03-01T23:59:59' enclosure\")\n",
    "# With unlimited and time stamp we receive tas_od-daily_20190301_fanfar_SMHI.nc only - ok\n",
    "\n",
    "# Check all variables for daily-od with count 4\n",
    "opensearchCmd=paste(\"opensearch-client 'https://catalog.terradue.com/hydro-smhi/description' -p 'count=4' -p 'cat=[SMHI,operational,daily,od]' -p 'start=2019-03-01T00:00:01' -p 'stop=2019-03-01T23:59:59' enclosure\")\n",
    "# ok\n",
    "\n",
    "# Check all variables for daily-od with count, cat and different date/time intervals (timestamp to not get the previous day in results)\n",
    "opensearchCmd=paste(\"opensearch-client 'https://catalog.terradue.com/hydro-smhi/description' -p 'count=4' -p 'cat=[SMHI,operational,daily,od]' -p 'start=2019-04-15T00:00:01' -p 'stop=2019-04-15T23:59:59' enclosure\") # ok, files for 20190415 (pr,tas,tasmin,tasmax)\n",
    "opensearchCmd=paste(\"opensearch-client 'https://catalog.terradue.com/hydro-smhi/description' -p 'count=unlimited' -p 'cat=[SMHI,operational,daily,od,pr]' -p 'start=2019-04-01T00:00:01' -p 'stop=2019-04-01T23:59:59' enclosure\") # ok\n",
    "opensearchCmd=paste(\"opensearch-client 'https://catalog.terradue.com/hydro-smhi/description' -p 'count=unlimited' -p 'cat=[SMHI,operational,daily,od,tasmin]' -p 'start=2019-04-02T00:00:01' -p 'stop=2019-04-02T23:59:59' enclosure\") # ok\n",
    "opensearchCmd=paste(\"opensearch-client 'https://catalog.terradue.com/hydro-smhi/description' -p 'count=unlimited' -p 'cat=[SMHI,operational,daily,od,tasmax]' -p 'start=2019-04-03T00:00:01' -p 'stop=2019-04-03T23:59:59' enclosure\") # ok\n",
    "opensearchCmd=paste(\"opensearch-client 'https://catalog.terradue.com/hydro-smhi/description' -p 'count=unlimited' -p 'cat=[SMHI,operational,daily,od,tas]' -p 'start=2019-04-05T00:00:01' -p 'stop=2019-04-05T23:59:59' enclosure\") # 2019-04-04 did not exist at smhi # 05 ok\n",
    "\n",
    "# Check all variables for ecoper with count, cat and different date/time intervals (timestamp to not get the previous day in results)\n",
    "# cat=daily maybe only intended for gfd files in dir od-daily...\n",
    "opensearchCmd=paste(\"opensearch-client 'https://catalog.terradue.com/hydro-smhi/description' -p 'count=unlimited' -p 'cat=[SMHI,operational,daily,ecoper]' -p 'start=2019-05-20T00:00:01' -p 'stop=2019-05-20T23:59:59' enclosure\") # nok, nothing\n",
    "opensearchCmd=paste(\"opensearch-client 'https://catalog.terradue.com/hydro-smhi/description' -p 'count=unlimited' -p 'cat=[SMHI,operational,ecoper]' -p 'start=2019-05-20T00:00:01' -p 'stop=2019-05-20T23:59:59' enclosure\") # nok, everything 2017..2019\n",
    "opensearchCmd=paste(\"opensearch-client 'https://catalog.terradue.com/hydro-smhi/description' -p 'count=unlimited' -p 'cat=[SMHI,operational,daily,ecoper]' -p 'start=2019-05-20' -p 'stop=2019-05-20' enclosure\") # nok\n",
    "opensearchCmd=paste(\"opensearch-client 'https://catalog.terradue.com/hydro-smhi/description' -p 'count=unlimited' -p 'cat=[SMHI,operational,ecoper]' -p 'start=2019-05-20' -p 'stop=2019-05-20' enclosure\") # nok, everything 2017..2019\n",
    "opensearchCmd=paste(\"opensearch-client 'https://catalog.terradue.com/hydro-smhi/description' -p 'count=unlimited' -p 'cat=[SMHI,operational,ecoper]' -p 'start=2019052000' -p 'stop=2019052000' enclosure\") # filename style, nok, everything 2017..2019\n",
    "# Try ecoper without SMHI and operational, ignore daily, only intended for od-daily)\n",
    "opensearchCmd=paste(\"opensearch-client 'https://catalog.terradue.com/hydro-smhi/description' -p 'count=unlimited' -p 'cat=[SMHI,operational,ecoper]' -p 'start=2019-05-20T00:00:01' -p 'stop=2019-05-20T23:59:59' enclosure\") # nok, everything 2017..2019\n",
    "opensearchCmd=paste(\"opensearch-client 'https://catalog.terradue.com/hydro-smhi/description' -p 'count=unlimited' -p 'cat=[operational,ecoper]' -p 'start=2019-05-20T00:00:01' -p 'stop=2019-05-20T23:59:59' enclosure\") # nok, everything 2017..2019\n",
    "opensearchCmd=paste(\"opensearch-client 'https://catalog.terradue.com/hydro-smhi/description' -p 'count=unlimited' -p 'cat=[SMHI,ecoper]' -p 'start=2019-05-20T00:00:01' -p 'stop=2019-05-20T23:59:59' enclosure\") # nok, everything 2017..2019\n",
    "opensearchCmd=paste(\"opensearch-client 'https://catalog.terradue.com/hydro-smhi/description' -p 'count=unlimited' -p 'cat=[ecoper]' -p 'start=2019-05-20T00:00:01' -p 'stop=2019-05-20T23:59:59' enclosure\") # nok, everything 2017..2019\n",
    "\n",
    "# Check all variables for hydrogfdod with count, cat and different date/time intervals\n",
    "opensearchCmd=paste(\"opensearch-client 'https://catalog.terradue.com/hydro-smhi/description' -p 'count=4' -p 'cat=[SMHI,operational,hydrogfdod]' -p 'start=2019-06-13T00:00:01' -p 'stop=2019-06-13T23:59:59' enclosure\") # ok, files for 201906 (pr,tas,tasmin,tasmax)\n",
    "opensearchCmd=paste(\"opensearch-client 'https://catalog.terradue.com/hydro-smhi/description' -p 'count=4' -p 'cat=[SMHI,operational,hydrogfdod]' -p 'start=2019-07-01T00:00:01' -p 'stop=2019-07-31T23:59:59' enclosure\") # ok, files for 201907 (pr,tas,tasmin,tasmax)\n",
    "opensearchCmd=paste(\"opensearch-client 'https://catalog.terradue.com/hydro-smhi/description' -p 'count=unlimited' -p 'cat=[SMHI,operational,hydrogfdod,pr]' -p 'start=2018-03-01T00:00:01' -p 'stop=2018-03-31T23:59:59' enclosure\") # ok\n",
    "opensearchCmd=paste(\"opensearch-client 'https://catalog.terradue.com/hydro-smhi/description' -p 'count=unlimited' -p 'cat=[SMHI,operational,hydrogfdod,tas]' -p 'start=2018-02-11T00:00:01' -p 'stop=2018-02-11T23:59:59' enclosure\") # ok\n",
    "opensearchCmd=paste(\"opensearch-client 'https://catalog.terradue.com/hydro-smhi/description' -p 'count=unlimited' -p 'cat=[SMHI,operational,hydrogfdod,tasmin]' -p 'start=2017-01-11T00:00:01' -p 'stop=2017-01-11T23:59:59' enclosure\") # ok\n",
    "opensearchCmd=paste(\"opensearch-client 'https://catalog.terradue.com/hydro-smhi/description' -p 'count=unlimited' -p 'cat=[SMHI,operational,hydrogfdod,tasmax]' -p 'start=2016-11-20T00:00:01' -p 'stop=2016-11-20T23:59:59' enclosure\") # ok\n",
    "opensearchCmd=paste(\"opensearch-client 'https://catalog.terradue.com/hydro-smhi/description' -p 'count=unlimited' -p 'cat=[SMHI,operational,monthly,hydrogfdod,tasmax]' -p 'start=2016-11-20T00:00:01' -p 'stop=2016-11-20T23:59:59' enclosure\") # ok without cat=monthly\n",
    "\n",
    "# Check all variables for hydrogfdei with count, cat and different date/time intervals\n",
    "opensearchCmd=paste(\"opensearch-client 'https://catalog.terradue.com/hydro-smhi/description' -p 'count=4' -p 'cat=[SMHI,operational,hydrogfdei]' -p 'start=2019-02-07T00:00:01' -p 'stop=2019-02-07T23:59:59' enclosure\") # ok, files for 201902 (pr,tas,tasmin,tasmax)\n",
    "opensearchCmd=paste(\"opensearch-client 'https://catalog.terradue.com/hydro-smhi/description' -p 'count=4' -p 'cat=[SMHI,operational,hydrogfdei]' -p 'start=2019-01-01T00:00:01' -p 'stop=2019-01-01T23:59:59' enclosure\") # ok, files for 201901 (pr,tas,tasmin,tasmax)\n",
    "opensearchCmd=paste(\"opensearch-client 'https://catalog.terradue.com/hydro-smhi/description' -p 'count=unlimited' -p 'cat=[SMHI,operational,hydrogfdei,pr]' -p 'start=2018-01-01T00:00:01' -p 'stop=2018-01-31T23:59:59' enclosure\") # ok\n",
    "opensearchCmd=paste(\"opensearch-client 'https://catalog.terradue.com/hydro-smhi/description' -p 'count=unlimited' -p 'cat=[SMHI,operational,hydrogfdei,tas]' -p 'start=2017-01-01T00:00:01' -p 'stop=2017-01-31T23:59:59' enclosure\") # ok\n",
    "opensearchCmd=paste(\"opensearch-client 'https://catalog.terradue.com/hydro-smhi/description' -p 'count=unlimited' -p 'cat=[SMHI,operational,hydrogfdei,tasmin]' -p 'start=2017-11-01T00:00:01' -p 'stop=2017-11-30T23:59:59' enclosure\") # ok\n",
    "opensearchCmd=paste(\"opensearch-client 'https://catalog.terradue.com/hydro-smhi/description' -p 'count=unlimited' -p 'cat=[SMHI,operational,hydrogfdei,tasmax]' -p 'start=2016-12-01T00:00:01' -p 'stop=2016-12-31T23:59:59' enclosure\") # ok\n",
    "opensearchCmd=paste(\"opensearch-client 'https://catalog.terradue.com/hydro-smhi/description' -p 'count=unlimited' -p 'cat=[SMHI,operational,monthly,hydrogfdei,tasmax]' -p 'start=2016-12-01T00:00:01' -p 'stop=2016-12-31T23:59:59' enclosure\") # ok without cat=monthly\n",
    "\n",
    "# Check all variables for ei-monthly with count, cat and different date/time intervals\n",
    "opensearchCmd=paste(\"opensearch-client 'https://catalog.terradue.com/hydro-smhi/description' -p 'count=2' -p 'cat=[SMHI,operational,ei,monthly]' -p 'start=1997-01-01T00:00:01' -p 'stop=1997-01-31T23:59:59' enclosure\") # ok, files for 199701 (pr,tas)\n",
    "opensearchCmd=paste(\"opensearch-client 'https://catalog.terradue.com/hydro-smhi/description' -p 'count=2' -p 'cat=[SMHI,operational,ei,monthly]' -p 'start=1998-02' -p 'stop=1998-02' enclosure\") # ok, files for 199802 (pr,tas)\n",
    "opensearchCmd=paste(\"opensearch-client 'https://catalog.terradue.com/hydro-smhi/description' -p 'count=unlimited' -p 'cat=[SMHI,operational,ei,monthly,pr]' -p 'start=2004-03-01T00:00:01' -p 'stop=2004-03-31T23:59:59' enclosure\") # ok\n",
    "opensearchCmd=paste(\"opensearch-client 'https://catalog.terradue.com/hydro-smhi/description' -p 'count=unlimited' -p 'cat=[SMHI,operational,ei,monthly,tas]' -p 'start=2007-11-01T00:00:01' -p 'stop=2007-11-30T23:59:59' enclosure\") # ok\n",
    "\n",
    "# Check all variables for od-monthly with count, cat and different date/time intervals\n",
    "opensearchCmd=paste(\"opensearch-client 'https://catalog.terradue.com/hydro-smhi/description' -p 'count=2' -p 'cat=[SMHI,operational,od,monthly]' -p 'start=2016-08-01T00:00:01' -p 'stop=2016-08-31T23:59:59' enclosure\") # ok, files for 201608 (pr,tas)\n",
    "opensearchCmd=paste(\"opensearch-client 'https://catalog.terradue.com/hydro-smhi/description' -p 'count=2' -p 'cat=[SMHI,operational,od,monthly]' -p 'start=2017-10' -p 'stop=2017-10' enclosure\") # ok, files for 201710 (pr,tas)\n",
    "opensearchCmd=paste(\"opensearch-client 'https://catalog.terradue.com/hydro-smhi/description' -p 'count=unlimited' -p 'cat=[SMHI,operational,od,monthly,pr]' -p 'start=2017-12-01T00:00:01' -p 'stop=2017-12-31T23:59:59' enclosure\") # ok\n",
    "opensearchCmd=paste(\"opensearch-client 'https://catalog.terradue.com/hydro-smhi/description' -p 'count=unlimited' -p 'cat=[SMHI,operational,od,monthly,tas]' -p 'start=2019-08-01T00:00:01' -p 'stop=2019-08-31T23:59:59' enclosure\") # ok\n",
    "\n",
    "\n",
    "#\n",
    "# Search\n",
    "#\n",
    "input_enclosure <- system(command = opensearchCmd,intern = T)\n",
    "# Print\n",
    "message(input_enclosure)\n",
    "\n",
    "if (length(input_enclosure >= 1)) {\n",
    "    nc_tmpdir <- paste(TMPDIR,\"nc-files\",sep=\"/\")\n",
    "    if (! dir.exists(nc_tmpdir)) { dir.create(nc_tmpdir) }\n",
    "    for (url in 1:length(input_enclosure)) {\n",
    "        rciop.copy(input_enclosure[url],nc_tmpdir)\n",
    "    }\n",
    "}"
   ]
  },
  {
   "cell_type": "code",
   "execution_count": null,
   "metadata": {},
   "outputs": [],
   "source": [
    "products_monthly <- c('hydrogfdei','hydrogfdod')\n",
    "products_daily <- c('od-daily','ecoper')\n",
    "#variables <- c('pr','tas','tasmin','tasmax')\n",
    "#dates_monthly=\"2019-03-01\" #\"2019-03\"\n",
    "#dates_daily=\"2019-04-01\"\n",
    "\n",
    "#for (p in products_daily) {\n",
    "#for (v in variables) {\n",
    "##paste...\n",
    "#opensearchCmd=paste(\"opensearch-client 'https://catalog.terradue.com/hydro-smhi/description' -p 'count=1' -p 'cat=[SMHI,operational,daily,od,tas]' -p 'start=2019-03-01' -p 'stop=2019-03-01' enclosure\")\n",
    "#}\n",
    "#}"
   ]
  }
 ],
 "metadata": {
  "kernelspec": {
   "display_name": "R",
   "language": "R",
   "name": "ir"
  },
  "language_info": {
   "codemirror_mode": "r",
   "file_extension": ".r",
   "mimetype": "text/x-r-source",
   "name": "R",
   "pygments_lexer": "r",
   "version": "3.6.1"
  }
 },
 "nbformat": 4,
 "nbformat_minor": 2
}
