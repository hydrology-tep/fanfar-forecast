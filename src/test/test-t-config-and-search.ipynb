{
 "cells": [
  {
   "cell_type": "markdown",
   "metadata": {},
   "source": [
    "## 0. Environment Setup\n",
    "We create a smiliar environemnt that simulate the inputs and variables as per in ciop jobs"
   ]
  },
  {
   "cell_type": "code",
   "execution_count": 199,
   "metadata": {},
   "outputs": [
    {
     "data": {
      "text/html": [
       "'/workspace/tmpdir'"
      ],
      "text/latex": [
       "'/workspace/tmpdir'"
      ],
      "text/markdown": [
       "'/workspace/tmpdir'"
      ],
      "text/plain": [
       "[1] \"/workspace/tmpdir\""
      ]
     },
     "metadata": {},
     "output_type": "display_data"
    }
   ],
   "source": [
    "#old input1='https://recast.terradue.com/t2api/search/hydro-smhi/models?uid=230286758E25FD953AF736DE85F01CDF9C539EC7' #niger-hype-model.zip, one file when unzipped\n",
    "#old input2='https://recast.terradue.com/t2api/search/hydro-smhi/models?uid=9345ED73B72F49E6FF31B07B57013BC519210E24' #niger-hype-model-2.23.zip, one dir when unzipped\n",
    "input2='https://recast.terradue.com/t2api/search/hydro-smhi/models?uid=9345ED73B72F49E6FF31B07B57013BC519210E24' #niger-hype-model-2.23.zip, one dir when unzipped\n",
    "#use this from model.zip instead  input_hype_data='https://recast.terradue.com/t2api/search/hydro-smhi/models?uid=9CE420998D9EC367470EEAEEA6B6DA0B0E4604D2' #niger-hype-data.zip, dirs when unzipped\n",
    "TMPDIR=\"/workspace/tmpdir\"\n",
    "TMPDIR"
   ]
  },
  {
   "cell_type": "markdown",
   "metadata": {},
   "source": [
    "1. Read input model\n",
    "This inital step collect via proper opensearch call and copy the HYPE model config archive"
   ]
  },
  {
   "cell_type": "code",
   "execution_count": 200,
   "metadata": {},
   "outputs": [],
   "source": [
    "app.date = format(Sys.time(), \"%Y%m%d_%H%M\")\n",
    "\n",
    "## set application name\n",
    "app.name = \"forecast\"\n",
    "## ------------------------------------------------------------------------------\n",
    "## flag which environment is used, if not set\n",
    "if(!exists(\"app.sys\")){\n",
    "    app.sys =\"tep\"\n",
    "    }\n",
    "## ------------------------------------------------------------------------------\n",
    "## load rciop package and set working directory to TMPDIR when running on TEP \n",
    "if(app.sys==\"tep\"){\n",
    "    library(\"rciop\")\n",
    "\n",
    "    rciop.log (\"DEBUG\", \" *** hypeapps-forecast *** TEP hydrological modelling applications ***\", \"/node_forecast/run.R\")\n",
    "    rciop.log (\"DEBUG\", \" rciop library loaded\", \"/node_forecast/run.R\")\n",
    "\n",
    "    setwd(TMPDIR)\n",
    "    rciop.log(\"DEBUG\", paste(\" R session working directory set to \",TMPDIR,sep=\"\"), \"/node_forecast/run.R\")\n",
    "}"
   ]
  },
  {
   "cell_type": "markdown",
   "metadata": {},
   "source": [
    "Some rciop functions may need to be overridden in the notebook environment.\n",
    "Set to your current needs."
   ]
  },
  {
   "cell_type": "code",
   "execution_count": 201,
   "metadata": {},
   "outputs": [],
   "source": [
    "ENABLE_STUB_RCIOP_LOG <- FALSE\n",
    "#ENABLE_STUB_RCIOP_LOG <- TRUE\n",
    "\n",
    "if (ENABLE_STUB_RCIOP_LOG == TRUE) {\n",
    "    message(\"rciop.log() overridden by local stub function...\")\n",
    "    \n",
    "    rciop.log <- function(type, message, proc='') {\n",
    "\n",
    "        type <- type\n",
    "        msg <- message\n",
    "    if (proc=='') { proc <- \"user process\" }\n",
    "\n",
    "    out.msg <- paste(format(Sys.time(), format=\"%Y-%m-%dT%H:%M:%S\"), \"[\", type, \"][\", proc, \"] \", msg, sep=\"\")\n",
    "\n",
    "    message(out.msg)\n",
    "    } # rciop.log\n",
    "\n",
    "} # end stub"
   ]
  },
  {
   "cell_type": "code",
   "execution_count": 202,
   "metadata": {},
   "outputs": [
    {
     "name": "stderr",
     "output_type": "stream",
     "text": [
      "rciop.getparam() overridden by local stub function...\n"
     ]
    }
   ],
   "source": [
    "#ENABLE_STUB_RCIOP_GETPARAM <- FALSE\n",
    "ENABLE_STUB_RCIOP_GETPARAM <- TRUE\n",
    "\n",
    "if (ENABLE_STUB_RCIOP_GETPARAM == TRUE) {\n",
    "    message(\"rciop.getparam() overridden by local stub function...\")\n",
    "    # Change according to your test objective.\n",
    "    # Would normally return values defined in application.xml for specified ids'.\n",
    "    \n",
    "    rciop.getparam <- function(id) {\n",
    "        value <- NULL # or \"\"\n",
    "        \n",
    "        if (id == \"model\") {\n",
    "            value <- \"https://recast.terradue.com/t2api/search/hydro-smhi/models?uid=230286758E25FD953AF736DE85F01CDF9C539EC7\"\n",
    "        }\n",
    "        else if (id == \"idate\" ) {\n",
    "            value <- \"2018-09-01\"\n",
    "        }\n",
    "        else if (id == \"hydmodel\" ) {\n",
    "            c()\n",
    "            #value[1] <- \"Niger-HYPE\"\n",
    "            #value[2] <- \"WestAfrica-HYPE\"\n",
    "            value <- c('Niger-HYPE','WestAfrica-HYPE')\n",
    "        }\n",
    "        else {\n",
    "            message(\"rciop.get_param:id not found...\")\n",
    "        }\n",
    "        \n",
    "        return (value)\n",
    "    } # rciop.getparam\n",
    "\n",
    "} # end stub"
   ]
  },
  {
   "cell_type": "markdown",
   "metadata": {},
   "source": [
    "Add your code to test...\n",
    "Remove current, or paste other code or add additional code blocks."
   ]
  },
  {
   "cell_type": "code",
   "execution_count": 26,
   "metadata": {},
   "outputs": [],
   "source": [
    "## Read the main input\n",
    "## This is the reference link to the model configuration\n",
    "\n",
    "# print\n",
    "#rciop.log(\"INFO\", paste(\"Processing input:\", input1, sep=\" \"))\n",
    "\n",
    "# Query the input reference\n",
    "#message(paste(\"opensearch-client '\",input1,\"' enclosure\", sep=\"\"))\n",
    "#opensearchCmd=paste(\"opensearch-client '\",input1,\"' enclosure\")\n",
    "#input_enclosure <- system(command = opensearchCmd,intern = T)\n",
    "#rciop.log(\"INFO\", input_enclosure)\n",
    "\n",
    "# Download the file\n",
    "#model_file <- rciop.copy(input_enclosure, TMPDIR, uncompress=TRUE)\n",
    "\n",
    "#if (model_file$exit.code==0) {\n",
    "#    local.url <- model_file$output\n",
    "#}\n",
    "\n",
    "# Works for single file after unzip\n",
    "#local.url # One file, complete path incl. filename\n",
    "#my_data <- read.delim(local.url)\n",
    "#print (my_data)"
   ]
  },
  {
   "cell_type": "code",
   "execution_count": 27,
   "metadata": {},
   "outputs": [],
   "source": [
    "#par_model <- rciop.getparam(\"model\")\n",
    "#message(par_model)"
   ]
  },
  {
   "cell_type": "raw",
   "metadata": {},
   "source": [
    "Brief:\n",
    "Search and retrive model config object.\n",
    "Read contents in dependencies.txt.\n",
    "From read contents:\n",
    "Use url for hype model data, other R code is currently handling the downloading (rciop.copy) for now. Should maybe later on be rciop.copy contents once to tmp dir, and paths be passed as parameters to other R code (and that code changed to do file copy from tmp dir to run dir etc.).\n",
    "Use gfd urls and querypattern as search later on to retrieve certain netcdf files, urls needs to be passed to netcdf2obs code, code handling time interval to search and retrieve specfic netcdf file to use."
   ]
  },
  {
   "cell_type": "code",
   "execution_count": 203,
   "metadata": {},
   "outputs": [
    {
     "name": "stderr",
     "output_type": "stream",
     "text": [
      "opensearch-client 'https://recast.terradue.com/t2api/search/hydro-smhi/models?uid=9345ED73B72F49E6FF31B07B57013BC519210E24' enclosure\n"
     ]
    },
    {
     "name": "stdout",
     "output_type": "stream",
     "text": [
      "[1] \" -o /workspace/tmpdir https://store.terradue.com/hydro-smhi/models/niger-hype-model-2.23.zip\"\n"
     ]
    },
    {
     "data": {
      "text/html": [
       "'/workspace/tmpdir/niger-hype-model-2.23'"
      ],
      "text/latex": [
       "'/workspace/tmpdir/niger-hype-model-2.23'"
      ],
      "text/markdown": [
       "'/workspace/tmpdir/niger-hype-model-2.23'"
      ],
      "text/plain": [
       "[1] \"/workspace/tmpdir/niger-hype-model-2.23\""
      ]
     },
     "metadata": {},
     "output_type": "display_data"
    },
    {
     "data": {
      "text/html": [
       "'/workspace/tmpdir/niger-hype-model-2.23/dependencies.txt'"
      ],
      "text/latex": [
       "'/workspace/tmpdir/niger-hype-model-2.23/dependencies.txt'"
      ],
      "text/markdown": [
       "'/workspace/tmpdir/niger-hype-model-2.23/dependencies.txt'"
      ],
      "text/plain": [
       "[1] \"/workspace/tmpdir/niger-hype-model-2.23/dependencies.txt\""
      ]
     },
     "metadata": {},
     "output_type": "display_data"
    },
    {
     "data": {
      "text/html": [
       "<table>\n",
       "<thead><tr><th scope=col>subdir</th><th scope=col>url</th><th scope=col>querypattern</th><th scope=col>info</th></tr></thead>\n",
       "<tbody>\n",
       "\t<tr><td>model-data                                                   </td><td>https://recast.terradue.com/t2api/search/hydro-smhi/models   </td><td>?uid=9CE420998D9EC367470EEAEEA6B6DA0B0E4604D2                </td><td># zip-file. niger-hype v2.23 and gfd obs.                    </td></tr>\n",
       "\t<tr><td>model-data-old-url                                           </td><td>https://store.terradue.com/hydro-smhi/fanfar/model/niger-hype</td><td>                                                             </td><td># stop using. not zip-file. niger-hype v2.23 and gfd obs.    </td></tr>\n",
       "\t<tr><td>hydrogfdei                                                   </td><td>https://catalog.terradue.com/hydro-smhi/description          </td><td>[hydrogfdei,SMHI,operational]                                </td><td># netcdf                                                     </td></tr>\n",
       "\t<tr><td>hydrogfdod                                                   </td><td>https://catalog.terradue.com/hydro-smhi/description          </td><td>[hydrogfdod,SMHI,operational]                                </td><td># netcdf                                                     </td></tr>\n",
       "\t<tr><td>ei-monthly                                                   </td><td>https://catalog.terradue.com/hydro-smhi/description          </td><td>[ei,monthly,SMHI,operational]                                </td><td># netcdf                                                     </td></tr>\n",
       "\t<tr><td>od-daily                                                     </td><td>https://catalog.terradue.com/hydro-smhi/description          </td><td>[od,daily,SMHI,operational]                                  </td><td># netcdf                                                     </td></tr>\n",
       "\t<tr><td>od-monthly                                                   </td><td>https://catalog.terradue.com/hydro-smhi/description          </td><td>[od,monthly,SMHI,operational]                                </td><td># netcdf                                                     </td></tr>\n",
       "\t<tr><td>ecoper                                                       </td><td>https://catalog.terradue.com/hydro-smhi/description          </td><td>[ecoper,SMHI,operational]                                    </td><td># netcdf                                                     </td></tr>\n",
       "</tbody>\n",
       "</table>\n"
      ],
      "text/latex": [
       "\\begin{tabular}{r|llll}\n",
       " subdir & url & querypattern & info\\\\\n",
       "\\hline\n",
       "\t model-data                                                    & https://recast.terradue.com/t2api/search/hydro-smhi/models    & ?uid=9CE420998D9EC367470EEAEEA6B6DA0B0E4604D2                 & \\# zip-file. niger-hype v2.23 and gfd obs.                  \\\\\n",
       "\t model-data-old-url                                            & https://store.terradue.com/hydro-smhi/fanfar/model/niger-hype &                                                               & \\# stop using. not zip-file. niger-hype v2.23 and gfd obs.  \\\\\n",
       "\t hydrogfdei                                                    & https://catalog.terradue.com/hydro-smhi/description           & {[}hydrogfdei,SMHI,operational{]}                             & \\# netcdf                                                   \\\\\n",
       "\t hydrogfdod                                                    & https://catalog.terradue.com/hydro-smhi/description           & {[}hydrogfdod,SMHI,operational{]}                             & \\# netcdf                                                   \\\\\n",
       "\t ei-monthly                                                    & https://catalog.terradue.com/hydro-smhi/description           & {[}ei,monthly,SMHI,operational{]}                             & \\# netcdf                                                   \\\\\n",
       "\t od-daily                                                      & https://catalog.terradue.com/hydro-smhi/description           & {[}od,daily,SMHI,operational{]}                               & \\# netcdf                                                   \\\\\n",
       "\t od-monthly                                                    & https://catalog.terradue.com/hydro-smhi/description           & {[}od,monthly,SMHI,operational{]}                             & \\# netcdf                                                   \\\\\n",
       "\t ecoper                                                        & https://catalog.terradue.com/hydro-smhi/description           & {[}ecoper,SMHI,operational{]}                                 & \\# netcdf                                                   \\\\\n",
       "\\end{tabular}\n"
      ],
      "text/markdown": [
       "\n",
       "| subdir | url | querypattern | info |\n",
       "|---|---|---|---|\n",
       "| model-data                                                    | https://recast.terradue.com/t2api/search/hydro-smhi/models    | ?uid=9CE420998D9EC367470EEAEEA6B6DA0B0E4604D2                 | # zip-file. niger-hype v2.23 and gfd obs.                     |\n",
       "| model-data-old-url                                            | https://store.terradue.com/hydro-smhi/fanfar/model/niger-hype |                                                               | # stop using. not zip-file. niger-hype v2.23 and gfd obs.     |\n",
       "| hydrogfdei                                                    | https://catalog.terradue.com/hydro-smhi/description           | [hydrogfdei,SMHI,operational]                                 | # netcdf                                                      |\n",
       "| hydrogfdod                                                    | https://catalog.terradue.com/hydro-smhi/description           | [hydrogfdod,SMHI,operational]                                 | # netcdf                                                      |\n",
       "| ei-monthly                                                    | https://catalog.terradue.com/hydro-smhi/description           | [ei,monthly,SMHI,operational]                                 | # netcdf                                                      |\n",
       "| od-daily                                                      | https://catalog.terradue.com/hydro-smhi/description           | [od,daily,SMHI,operational]                                   | # netcdf                                                      |\n",
       "| od-monthly                                                    | https://catalog.terradue.com/hydro-smhi/description           | [od,monthly,SMHI,operational]                                 | # netcdf                                                      |\n",
       "| ecoper                                                        | https://catalog.terradue.com/hydro-smhi/description           | [ecoper,SMHI,operational]                                     | # netcdf                                                      |\n",
       "\n"
      ],
      "text/plain": [
       "  subdir            \n",
       "1 model-data        \n",
       "2 model-data-old-url\n",
       "3 hydrogfdei        \n",
       "4 hydrogfdod        \n",
       "5 ei-monthly        \n",
       "6 od-daily          \n",
       "7 od-monthly        \n",
       "8 ecoper            \n",
       "  url                                                          \n",
       "1 https://recast.terradue.com/t2api/search/hydro-smhi/models   \n",
       "2 https://store.terradue.com/hydro-smhi/fanfar/model/niger-hype\n",
       "3 https://catalog.terradue.com/hydro-smhi/description          \n",
       "4 https://catalog.terradue.com/hydro-smhi/description          \n",
       "5 https://catalog.terradue.com/hydro-smhi/description          \n",
       "6 https://catalog.terradue.com/hydro-smhi/description          \n",
       "7 https://catalog.terradue.com/hydro-smhi/description          \n",
       "8 https://catalog.terradue.com/hydro-smhi/description          \n",
       "  querypattern                                 \n",
       "1 ?uid=9CE420998D9EC367470EEAEEA6B6DA0B0E4604D2\n",
       "2                                              \n",
       "3 [hydrogfdei,SMHI,operational]                \n",
       "4 [hydrogfdod,SMHI,operational]                \n",
       "5 [ei,monthly,SMHI,operational]                \n",
       "6 [od,daily,SMHI,operational]                  \n",
       "7 [od,monthly,SMHI,operational]                \n",
       "8 [ecoper,SMHI,operational]                    \n",
       "  info                                                     \n",
       "1 # zip-file. niger-hype v2.23 and gfd obs.                \n",
       "2 # stop using. not zip-file. niger-hype v2.23 and gfd obs.\n",
       "3 # netcdf                                                 \n",
       "4 # netcdf                                                 \n",
       "5 # netcdf                                                 \n",
       "6 # netcdf                                                 \n",
       "7 # netcdf                                                 \n",
       "8 # netcdf                                                 "
      ]
     },
     "metadata": {},
     "output_type": "display_data"
    },
    {
     "name": "stderr",
     "output_type": "stream",
     "text": [
      "model-data at row index:1\n",
      "od-daily at row index:6\n"
     ]
    }
   ],
   "source": [
    "## Read the main input\n",
    "## This is the reference link to the model configuration\n",
    "\n",
    "# print\n",
    "rciop.log(\"INFO\", paste(\"Processing input:\", input2, sep=\" \"))\n",
    "\n",
    "# Query the input reference\n",
    "message(paste(\"opensearch-client '\",input2,\"' enclosure\", sep=\"\"))\n",
    "opensearchCmd=paste(\"opensearch-client '\",input2,\"' enclosure\")\n",
    "input_enclosure <- system(command = opensearchCmd,intern = T)\n",
    "rciop.log(\"INFO\", input_enclosure)\n",
    "\n",
    "# Download the dir(s)\n",
    "model_config_dir <- rciop.copy(input_enclosure, TMPDIR, uncompress=TRUE)\n",
    "\n",
    "if (model_config_dir$exit.code==0) {\n",
    "    local.model_config_dir <- model_config_dir$output\n",
    "}\n",
    "local.model_config_dir # File or directory, complete path incl.\n",
    "# Content for now:\n",
    "# info-forecast.txt - config file for Hype model\n",
    "\n",
    "#if (local.model_config_dir == \"\" || local.model_config_dir == NULL) {\n",
    "#    message(\"No model config path...\")\n",
    "#    q(99)\n",
    "#}\n",
    "\n",
    "model_config_file <- \"dependencies.txt\" # Shall be parsed to get different config items\n",
    "# tmpdir/niger-hype-model-2.23/ # Currently for now:\n",
    "# - dependencies.txt # Config for GFD-files etc.\n",
    "# - info-forecast.txt # Hype config file\n",
    "\n",
    "\n",
    "path_to_file <- paste(local.model_config_dir, model_config_file, sep=\"/\")\n",
    "path_to_file\n",
    "# Read contents of file, handling separators ';'.\n",
    "model_config_data <- read.csv2(path_to_file, header=FALSE, sep=\";\")\n",
    "#class(model_config_data) # data.frame\n",
    "#dim(model_config_data) # 6,3 (rows,cols)\n",
    "# Add column names\n",
    "names(model_config_data) <- c('subdir','url','querypattern','info')\n",
    "model_config_data\n",
    "# Select column by name\n",
    "#model_config_data[,'query-pattern'] # all rows, col 3 ok\n",
    "#model_config_data[,c('subdir','querypattern')] # all rows, multiple columns ok\n",
    "\n",
    "#model_config_data$subdir\n",
    "#model_config_data[3,'subdir']\n",
    "# Iterate over each row to locate e.g. sub directory, od-daily, to use column data\n",
    "for (r in 1:nrow(model_config_data)) { #  if statement below not works\n",
    "    subdir <- model_config_data[r,'subdir']\n",
    "    if (subdir == 'od-daily') {\n",
    "        message(paste0(\"od-daily at row index:\", r))\n",
    "    }\n",
    "    if (subdir == 'model-data') {\n",
    "        message(paste0(\"model-data at row index:\", r))\n",
    "    }\n",
    "}"
   ]
  },
  {
   "cell_type": "code",
   "execution_count": 204,
   "metadata": {},
   "outputs": [
    {
     "name": "stderr",
     "output_type": "stream",
     "text": [
      "model-data at row index:1\n",
      "opensearch-client 'https://recast.terradue.com/t2api/search/hydro-smhi/models?uid=9CE420998D9EC367470EEAEEA6B6DA0B0E4604D2' enclosure\n"
     ]
    },
    {
     "name": "stdout",
     "output_type": "stream",
     "text": [
      "[1] \" -o /workspace/tmpdir https://store.terradue.com/hydro-smhi/models/niger-hype-data.zip\"\n"
     ]
    },
    {
     "data": {
      "text/html": [
       "'/workspace/tmpdir/niger-hype-data'"
      ],
      "text/latex": [
       "'/workspace/tmpdir/niger-hype-data'"
      ],
      "text/markdown": [
       "'/workspace/tmpdir/niger-hype-data'"
      ],
      "text/plain": [
       "[1] \"/workspace/tmpdir/niger-hype-data\""
      ]
     },
     "metadata": {},
     "output_type": "display_data"
    }
   ],
   "source": [
    "## Read the Hype data dirs\n",
    "## This code continues to retrieve the data dirs (rciop.copy)\n",
    "## Other R code not yet updated to handle paths (file copy from tmp dir to run dir etc.) instead of urls.\n",
    "\n",
    "# print\n",
    "#rciop.log(\"INFO\", paste(\"Processing config for model data:\", input2, sep=\" \"))\n",
    "rciop.log(\"INFO\", \"Processing config for model data\")\n",
    "\n",
    "rowIndex=0\n",
    "for (r in 1:nrow(model_config_data)) {\n",
    "    subdir <- model_config_data[r,'subdir']\n",
    "    if (subdir == 'model-data') {\n",
    "        rowIndex=r\n",
    "        message(paste0(\"model-data at row index:\", r))\n",
    "    }\n",
    "}\n",
    "if (rowIndex == 0) {\n",
    "    q(98)\n",
    "}\n",
    "#subdir <- model_config_data[rowIndex,'subdir']\n",
    "url <- model_config_data[rowIndex,'url']\n",
    "query <- model_config_data[rowIndex,'querypattern']\n",
    "#comment <- model_config_data[rowIndex,'info']\n",
    "\n",
    "# For now, if needed, pass url from model_config_data['model-data-old-url'] to let present R code continue rciop.copy locally.\n",
    "\n",
    "# Query the input reference\n",
    "message(paste(\"opensearch-client '\",url,query,\"' enclosure\", sep=\"\"))\n",
    "opensearchCmd=paste(\"opensearch-client '\",url,query,\"' enclosure\")\n",
    "input_enclosure <- system(command = opensearchCmd,intern = T)\n",
    "rciop.log(\"INFO\", input_enclosure)\n",
    "\n",
    "# Download the dir(s)\n",
    "model_data_dirs <- rciop.copy(input_enclosure, TMPDIR, uncompress=TRUE)\n",
    "\n",
    "if (model_data_dirs$exit.code==0) {\n",
    "    local.dir <- model_data_dirs$output\n",
    "}\n",
    "local.dir # File or directory, complete path incl.\n",
    "# tmpdir/niger-hype-data/\n",
    "# - data/gfd/archive/Pobs.txt, TMAXobs.txt, TMINobs.txt, Tobs.txt\n",
    "# - v2.23/....... root dir for forcingarchive, shapefiles, statefiles etc.\n",
    "# This/These path(s) shall be passed to getHypeAppSetup as dir, now urls that it currently downloads - now already downloaded...\n",
    "# No file to parse etc. only pass path to the R-get functions\n"
   ]
  },
  {
   "cell_type": "code",
   "execution_count": 54,
   "metadata": {},
   "outputs": [],
   "source": [
    "# opensearch for netcdf files:\n"
   ]
  },
  {
   "cell_type": "raw",
   "metadata": {},
   "source": [
    "Search for netcdf files, with dates from input (webpage/app) as opensearch query parameters.\n",
    "Check that expected gfd files for that time interval are located in the catalogue.\n",
    "Add code to retreive pr,tas,tasmin,tasmax to test that its downloaded locally (other code in netcdf2obs will do this at a later time).\n",
    "Summary:\n",
    "To be able to call netcdf2obs function, some of these parameters need to be available (input from user and gfd urls from config object)."
   ]
  },
  {
   "cell_type": "raw",
   "metadata": {},
   "source": [
    "Some query examples:\n",
    "opensearch-client 'https://catalog.terradue.com/hydro-smhi/description' -p count=unlimited -p cat=[ecoper,tas] -p start='201903' -p stop='201905'  enclosure,identifier\n",
    "opensearch-client 'https://catalog.terradue.com/hydro-smhi/description' -p count=unlimited -p cat=[ecoper,tas] -p start='2019-03' -p stop='2019-05'  enclosure,identifier\n",
    "opensearch-client 'https://catalog.terradue.com/hydro-smhi/description' -p count=unlimited -p cat=[ecoper,tas] -p start='2019-03-01' -p stop='2019-05-31'  enclosure,identifier\n",
    "opensearch-client 'https://catalog.terradue.com/hydro-smhi/description' -p count=unlimited -p cat=[ecoper,tas] -p start='2019-03-01T00:00:00' -p stop='2019-05-31T00:00:00'  enclosure,identifier\n",
    "opensearch-client 'https://catalog.terradue.com/hydro-smhi/description' -p count=unlimited -p cat=[ecoper,tas] -p start=2019-03-01 -p stop=2019-05-31  enclosure,identifier\n",
    "opensearch-client 'https://catalog.terradue.com/hydro-smhi/description' -p count=unlimited -p start=2019-03-01 -p stop=2019-05-31  enclosure,identifier\n",
    "opensearch-client 'https://catalog.terradue.com/hydro-smhi/description' -p count=unlimited -p=cat -p start=2019-03-01 -p stop=2019-03-31  enclosure,identifier\n",
    "opensearch-client 'https://catalog.terradue.com/hydro-smhi/description' -p count=unlimited -p start=2019-03-01 -p stop=2019-03-31  enclosure,identifier\n",
    "opensearch-client 'https://catalog.terradue.com/hydro-smhi/description' -p count=unlimited -p cat=ecoper -p start=2019-03-01 -p stop=2019-03-31  enclosure,identifier\n",
    "opensearch-client 'https://catalog.terradue.com/hydro-smhi/description' -p count=unlimited -p cat=[ecoper] -p start=2019-03-01 -p stop=2019-03-31  enclosure,identifier\n",
    "opensearch-client 'https://catalog.terradue.com/hydro-smhi/description' -p count=unlimited -p cat=[hydrogfdod] -p start=2019-03-01 -p stop=2019-03-31  enclosure,identifier\n",
    "opensearch-client 'https://recast.terradue.com/t2api/search/hydro-smhi/models' enclosure,identifier\n",
    "opensearch-client 'https://catalog.terradue.com/hydro-smhi/description' enclosure,identifier\n",
    "opensearch-client 'https://catalog.terradue.com/hydro-smhi/description' enclosure,identifier -p cat=[SMHI]\n",
    "opensearch-client 'https://catalog.terradue.com/hydro-smhi/description' enclosure,identifier -p cat=[SMHI,operational]\n",
    "#opensearch-client 'https://catalog.terradue.com/hydro-smhi/description' -p count=unlimited -p cat=[hydrogfdod] -p start=2019-03-01 -p stop=2019-03-31  enclosure,identifier\n",
    "opensearch-client 'https://catalog.terradue.com/hydro-smhi/description' enclosure,identifier -p count=unlimited -p cat=[SMHI,operational]\n",
    "opensearch-client 'https://catalog.terradue.com/hydro-smhi/description' enclosure,identifier -p count=unlimited -p cat=[SMHI,operational,daily]\n",
    "opensearch-client 'https://catalog.terradue.com/hydro-smhi/description' enclosure,identifier -p count=unlimited -p cat=[SMHI,operational,daily,ei]\n",
    "opensearch-client 'https://catalog.terradue.com/hydro-smhi/description' enclosure,identifier -p count=unlimited -p cat=[SMHI,operational,daily,od]\n",
    "opensearch-client 'https://catalog.terradue.com/hydro-smhi/description' enclosure,identifier -p count=unlimited -p cat=[SMHI,operational,monthly,od]\n",
    "opensearch-client 'https://catalog.terradue.com/hydro-smhi/description' enclosure,identifier -p count=unlimited -p cat=[SMHI,operational,monthly,ei]\n",
    "opensearch-client 'https://catalog.terradue.com/hydro-smhi/description' enclosure,identifier -p count=unlimited -p cat=[models]\n",
    "opensearch-client 'https://catalog.terradue.com/hydro-smhi/description' enclosure,identifier -p count=unlimited -p cat=[model]\n",
    "opensearch-client 'https://catalog.terradue.com/hydro-smhi/description' enclosure,identifier -p count=unlimited -p cat=[fanfar]\n"
   ]
  },
  {
   "cell_type": "code",
   "execution_count": 228,
   "metadata": {},
   "outputs": [
    {
     "name": "stderr",
     "output_type": "stream",
     "text": [
      "https://store.terradue.com/hydro-smhi/fanfar/Operational/od-monthly/2019/08/tas_od-monthly_201908_fanfar_SMHI.nchttps://store.terradue.com/hydro-smhi/fanfar/Operational/od-monthly/2019/08/pr_od-monthly_201908_fanfar_SMHI.nc\n"
     ]
    },
    {
     "name": "stdout",
     "output_type": "stream",
     "text": [
      "[1] \" -o /workspace/tmpdir/nc-files https://store.terradue.com/hydro-smhi/fanfar/Operational/od-monthly/2019/08/tas_od-monthly_201908_fanfar_SMHI.nc\"\n",
      "[1] \" -o /workspace/tmpdir/nc-files https://store.terradue.com/hydro-smhi/fanfar/Operational/od-monthly/2019/08/pr_od-monthly_201908_fanfar_SMHI.nc\"\n"
     ]
    }
   ],
   "source": [
    "# Query the input reference\n",
    "#opensearchCmd=paste(\"opensearch-client 'https://catalog.terradue.com/hydro-smhi/description' -p 'count=unlimited' -p 'cat=[SMHI,operational,daily,od]' -p 'start=2019-03-01' -p 'stop=2019-03-01' enclosure,identifier\")\n",
    "# Gives a lot of urls to files, test with e.g. count=4 (for the 4 lastest?)\n",
    "\n",
    "# When time to perform the download, only use enclosure skip identifier etc.\n",
    "#opensearchCmd=paste(\"opensearch-client 'https://catalog.terradue.com/hydro-smhi/description' -p 'count=4' -p 'cat=[SMHI,operational,daily,od]' -p 'start=2019-03-01' -p 'stop=2019-03-01' enclosure\")\n",
    "# # count=4 (for the 4 lastest, yes) gives pr,tas,tasmin and tasmax\n",
    "#opensearchCmd=paste(\"opensearch-client 'https://catalog.terradue.com/hydro-smhi/description' -p 'count=1' -p 'cat=[SMHI,operational,daily,od]' -p 'start=2019-03-01' -p 'stop=2019-03-01' enclosure\")\n",
    "# # count=1 gives me pr at this time, maybe the lastest time\n",
    "#opensearchCmd=paste(\"opensearch-client 'https://catalog.terradue.com/hydro-smhi/description' -p 'count=1' -p 'cat=[SMHI,operational,daily,od,tas]' -p 'start=2019-03-01' -p 'stop=2019-03-01' enclosure\")\n",
    "# # count=1 and tas specified gives me tas - nice\n",
    "\n",
    "#\n",
    "# Test different variant of indata\n",
    "#\n",
    "opensearchCmd=paste(\"opensearch-client 'https://catalog.terradue.com/hydro-smhi/description' -p 'count=unlimited' -p 'cat=[SMHI,operational,daily,od,tas]' -p 'start=2019-03-01' -p 'stop=2019-03-01' enclosure\")\n",
    "# With unlimited and no time stamp we receive tas_od-daily_20190301_fanfar_SMHI.nc and tas_od-daily_20190228_fanfar_SMHI.nc - partial ok\n",
    "\n",
    "opensearchCmd=paste(\"opensearch-client 'https://catalog.terradue.com/hydro-smhi/description' -p 'count=unlimited' -p 'cat=[SMHI,operational,daily,od,tas]' -p 'start=2019-03-01T00:00:01' -p 'stop=2019-03-01T23:59:59' enclosure\")\n",
    "# With unlimited and time stamp we receive tas_od-daily_20190301_fanfar_SMHI.nc only - ok\n",
    "\n",
    "# Check all variables for daily-od with count 4\n",
    "opensearchCmd=paste(\"opensearch-client 'https://catalog.terradue.com/hydro-smhi/description' -p 'count=4' -p 'cat=[SMHI,operational,daily,od]' -p 'start=2019-03-01T00:00:01' -p 'stop=2019-03-01T23:59:59' enclosure\")\n",
    "# ok\n",
    "\n",
    "# Check all variables for daily-od with count, cat and different date/time intervals (timestamp to not get the previous day in results)\n",
    "opensearchCmd=paste(\"opensearch-client 'https://catalog.terradue.com/hydro-smhi/description' -p 'count=4' -p 'cat=[SMHI,operational,daily,od]' -p 'start=2019-04-15T00:00:01' -p 'stop=2019-04-15T23:59:59' enclosure\") # ok, files for 20190415 (pr,tas,tasmin,tasmax)\n",
    "opensearchCmd=paste(\"opensearch-client 'https://catalog.terradue.com/hydro-smhi/description' -p 'count=unlimited' -p 'cat=[SMHI,operational,daily,od,pr]' -p 'start=2019-04-01T00:00:01' -p 'stop=2019-04-01T23:59:59' enclosure\") # ok\n",
    "opensearchCmd=paste(\"opensearch-client 'https://catalog.terradue.com/hydro-smhi/description' -p 'count=unlimited' -p 'cat=[SMHI,operational,daily,od,tasmin]' -p 'start=2019-04-02T00:00:01' -p 'stop=2019-04-02T23:59:59' enclosure\") # ok\n",
    "opensearchCmd=paste(\"opensearch-client 'https://catalog.terradue.com/hydro-smhi/description' -p 'count=unlimited' -p 'cat=[SMHI,operational,daily,od,tasmax]' -p 'start=2019-04-03T00:00:01' -p 'stop=2019-04-03T23:59:59' enclosure\") # ok\n",
    "opensearchCmd=paste(\"opensearch-client 'https://catalog.terradue.com/hydro-smhi/description' -p 'count=unlimited' -p 'cat=[SMHI,operational,daily,od,tas]' -p 'start=2019-04-05T00:00:01' -p 'stop=2019-04-05T23:59:59' enclosure\") # 2019-04-04 did not exist at smhi # 05 ok\n",
    "\n",
    "# Check all variables for ecoper with count, cat and different date/time intervals (timestamp to not get the previous day in results)\n",
    "# cat=daily maybe only intended for gfd files in dir od-daily...\n",
    "opensearchCmd=paste(\"opensearch-client 'https://catalog.terradue.com/hydro-smhi/description' -p 'count=unlimited' -p 'cat=[SMHI,operational,daily,ecoper]' -p 'start=2019-05-20T00:00:01' -p 'stop=2019-05-20T23:59:59' enclosure\") # nok, nothing\n",
    "opensearchCmd=paste(\"opensearch-client 'https://catalog.terradue.com/hydro-smhi/description' -p 'count=unlimited' -p 'cat=[SMHI,operational,ecoper]' -p 'start=2019-05-20T00:00:01' -p 'stop=2019-05-20T23:59:59' enclosure\") # nok, everything 2017..2019\n",
    "opensearchCmd=paste(\"opensearch-client 'https://catalog.terradue.com/hydro-smhi/description' -p 'count=unlimited' -p 'cat=[SMHI,operational,daily,ecoper]' -p 'start=2019-05-20' -p 'stop=2019-05-20' enclosure\") # nok\n",
    "opensearchCmd=paste(\"opensearch-client 'https://catalog.terradue.com/hydro-smhi/description' -p 'count=unlimited' -p 'cat=[SMHI,operational,ecoper]' -p 'start=2019-05-20' -p 'stop=2019-05-20' enclosure\") # nok, everything 2017..2019\n",
    "opensearchCmd=paste(\"opensearch-client 'https://catalog.terradue.com/hydro-smhi/description' -p 'count=unlimited' -p 'cat=[SMHI,operational,ecoper]' -p 'start=2019052000' -p 'stop=2019052000' enclosure\") # filename style, nok, everything 2017..2019\n",
    "# Try ecoper without SMHI and operational, ignore daily, only intended for od-daily)\n",
    "opensearchCmd=paste(\"opensearch-client 'https://catalog.terradue.com/hydro-smhi/description' -p 'count=unlimited' -p 'cat=[SMHI,operational,ecoper]' -p 'start=2019-05-20T00:00:01' -p 'stop=2019-05-20T23:59:59' enclosure\") # nok, everything 2017..2019\n",
    "opensearchCmd=paste(\"opensearch-client 'https://catalog.terradue.com/hydro-smhi/description' -p 'count=unlimited' -p 'cat=[operational,ecoper]' -p 'start=2019-05-20T00:00:01' -p 'stop=2019-05-20T23:59:59' enclosure\") # nok, everything 2017..2019\n",
    "opensearchCmd=paste(\"opensearch-client 'https://catalog.terradue.com/hydro-smhi/description' -p 'count=unlimited' -p 'cat=[SMHI,ecoper]' -p 'start=2019-05-20T00:00:01' -p 'stop=2019-05-20T23:59:59' enclosure\") # nok, everything 2017..2019\n",
    "opensearchCmd=paste(\"opensearch-client 'https://catalog.terradue.com/hydro-smhi/description' -p 'count=unlimited' -p 'cat=[ecoper]' -p 'start=2019-05-20T00:00:01' -p 'stop=2019-05-20T23:59:59' enclosure\") # nok, everything 2017..2019\n",
    "\n",
    "# Check all variables for hydrogfdod with count, cat and different date/time intervals\n",
    "opensearchCmd=paste(\"opensearch-client 'https://catalog.terradue.com/hydro-smhi/description' -p 'count=4' -p 'cat=[SMHI,operational,hydrogfdod]' -p 'start=2019-06-13T00:00:01' -p 'stop=2019-06-13T23:59:59' enclosure\") # ok, files for 201906 (pr,tas,tasmin,tasmax)\n",
    "opensearchCmd=paste(\"opensearch-client 'https://catalog.terradue.com/hydro-smhi/description' -p 'count=4' -p 'cat=[SMHI,operational,hydrogfdod]' -p 'start=2019-07-01T00:00:01' -p 'stop=2019-07-31T23:59:59' enclosure\") # ok, files for 201907 (pr,tas,tasmin,tasmax)\n",
    "opensearchCmd=paste(\"opensearch-client 'https://catalog.terradue.com/hydro-smhi/description' -p 'count=unlimited' -p 'cat=[SMHI,operational,hydrogfdod,pr]' -p 'start=2018-03-01T00:00:01' -p 'stop=2018-03-31T23:59:59' enclosure\") # ok\n",
    "opensearchCmd=paste(\"opensearch-client 'https://catalog.terradue.com/hydro-smhi/description' -p 'count=unlimited' -p 'cat=[SMHI,operational,hydrogfdod,tas]' -p 'start=2018-02-11T00:00:01' -p 'stop=2018-02-11T23:59:59' enclosure\") # ok\n",
    "opensearchCmd=paste(\"opensearch-client 'https://catalog.terradue.com/hydro-smhi/description' -p 'count=unlimited' -p 'cat=[SMHI,operational,hydrogfdod,tasmin]' -p 'start=2017-01-11T00:00:01' -p 'stop=2017-01-11T23:59:59' enclosure\") # ok\n",
    "opensearchCmd=paste(\"opensearch-client 'https://catalog.terradue.com/hydro-smhi/description' -p 'count=unlimited' -p 'cat=[SMHI,operational,hydrogfdod,tasmax]' -p 'start=2016-11-20T00:00:01' -p 'stop=2016-11-20T23:59:59' enclosure\") # ok\n",
    "opensearchCmd=paste(\"opensearch-client 'https://catalog.terradue.com/hydro-smhi/description' -p 'count=unlimited' -p 'cat=[SMHI,operational,monthly,hydrogfdod,tasmax]' -p 'start=2016-11-20T00:00:01' -p 'stop=2016-11-20T23:59:59' enclosure\") # ok without cat=monthly\n",
    "\n",
    "# Check all variables for hydrogfdei with count, cat and different date/time intervals\n",
    "opensearchCmd=paste(\"opensearch-client 'https://catalog.terradue.com/hydro-smhi/description' -p 'count=4' -p 'cat=[SMHI,operational,hydrogfdei]' -p 'start=2019-02-07T00:00:01' -p 'stop=2019-02-07T23:59:59' enclosure\") # ok, files for 201902 (pr,tas,tasmin,tasmax)\n",
    "opensearchCmd=paste(\"opensearch-client 'https://catalog.terradue.com/hydro-smhi/description' -p 'count=4' -p 'cat=[SMHI,operational,hydrogfdei]' -p 'start=2019-01-01T00:00:01' -p 'stop=2019-01-01T23:59:59' enclosure\") # ok, files for 201901 (pr,tas,tasmin,tasmax)\n",
    "opensearchCmd=paste(\"opensearch-client 'https://catalog.terradue.com/hydro-smhi/description' -p 'count=unlimited' -p 'cat=[SMHI,operational,hydrogfdei,pr]' -p 'start=2018-01-01T00:00:01' -p 'stop=2018-01-31T23:59:59' enclosure\") # ok\n",
    "opensearchCmd=paste(\"opensearch-client 'https://catalog.terradue.com/hydro-smhi/description' -p 'count=unlimited' -p 'cat=[SMHI,operational,hydrogfdei,tas]' -p 'start=2017-01-01T00:00:01' -p 'stop=2017-01-31T23:59:59' enclosure\") # ok\n",
    "opensearchCmd=paste(\"opensearch-client 'https://catalog.terradue.com/hydro-smhi/description' -p 'count=unlimited' -p 'cat=[SMHI,operational,hydrogfdei,tasmin]' -p 'start=2017-11-01T00:00:01' -p 'stop=2017-11-30T23:59:59' enclosure\") # ok\n",
    "opensearchCmd=paste(\"opensearch-client 'https://catalog.terradue.com/hydro-smhi/description' -p 'count=unlimited' -p 'cat=[SMHI,operational,hydrogfdei,tasmax]' -p 'start=2016-12-01T00:00:01' -p 'stop=2016-12-31T23:59:59' enclosure\") # ok\n",
    "opensearchCmd=paste(\"opensearch-client 'https://catalog.terradue.com/hydro-smhi/description' -p 'count=unlimited' -p 'cat=[SMHI,operational,monthly,hydrogfdei,tasmax]' -p 'start=2016-12-01T00:00:01' -p 'stop=2016-12-31T23:59:59' enclosure\") # ok without cat=monthly\n",
    "\n",
    "# Check all variables for ei-monthly with count, cat and different date/time intervals\n",
    "opensearchCmd=paste(\"opensearch-client 'https://catalog.terradue.com/hydro-smhi/description' -p 'count=2' -p 'cat=[SMHI,operational,ei,monthly]' -p 'start=1997-01-01T00:00:01' -p 'stop=1997-01-31T23:59:59' enclosure\") # ok, files for 199701 (pr,tas)\n",
    "opensearchCmd=paste(\"opensearch-client 'https://catalog.terradue.com/hydro-smhi/description' -p 'count=2' -p 'cat=[SMHI,operational,ei,monthly]' -p 'start=1998-02' -p 'stop=1998-02' enclosure\") # ok, files for 199802 (pr,tas)\n",
    "opensearchCmd=paste(\"opensearch-client 'https://catalog.terradue.com/hydro-smhi/description' -p 'count=unlimited' -p 'cat=[SMHI,operational,ei,monthly,pr]' -p 'start=2004-03-01T00:00:01' -p 'stop=2004-03-31T23:59:59' enclosure\") # ok\n",
    "opensearchCmd=paste(\"opensearch-client 'https://catalog.terradue.com/hydro-smhi/description' -p 'count=unlimited' -p 'cat=[SMHI,operational,ei,monthly,tas]' -p 'start=2007-11-01T00:00:01' -p 'stop=2007-11-30T23:59:59' enclosure\") # ok\n",
    "\n",
    "# Check all variables for od-monthly with count, cat and different date/time intervals\n",
    "opensearchCmd=paste(\"opensearch-client 'https://catalog.terradue.com/hydro-smhi/description' -p 'count=2' -p 'cat=[SMHI,operational,od,monthly]' -p 'start=2016-08-01T00:00:01' -p 'stop=2016-08-31T23:59:59' enclosure\") # ok, files for 201608 (pr,tas)\n",
    "opensearchCmd=paste(\"opensearch-client 'https://catalog.terradue.com/hydro-smhi/description' -p 'count=2' -p 'cat=[SMHI,operational,od,monthly]' -p 'start=2017-10' -p 'stop=2017-10' enclosure\") # ok, files for 201710 (pr,tas)\n",
    "opensearchCmd=paste(\"opensearch-client 'https://catalog.terradue.com/hydro-smhi/description' -p 'count=unlimited' -p 'cat=[SMHI,operational,od,monthly,pr]' -p 'start=2017-12-01T00:00:01' -p 'stop=2017-12-31T23:59:59' enclosure\") # ok\n",
    "opensearchCmd=paste(\"opensearch-client 'https://catalog.terradue.com/hydro-smhi/description' -p 'count=unlimited' -p 'cat=[SMHI,operational,od,monthly,tas]' -p 'start=2019-08-01T00:00:01' -p 'stop=2019-08-31T23:59:59' enclosure\") # ok\n",
    "\n",
    "\n",
    "# 2019-10-07:\n",
    "#ok 201901 opensearchCmd=paste(\"opensearch-client 'https://catalog.terradue.com/hydro-smhi/description' -p 'count=unlimited' -p 'cat=[SMHI,operational,ei,monthly]' -p 'start=2019-01-02T00:00:01' -p 'stop=2019-01-03T23:59:59' enclosure\")\n",
    "#ok 201901 opensearchCmd=paste(\"opensearch-client 'https://catalog.terradue.com/hydro-smhi/description' -p 'count=unlimited' -p 'cat=[SMHI,operational,od,monthly]' -p 'start=2019-01-02T00:00:01' -p 'stop=2019-01-03T23:59:59' enclosure\")\n",
    "#ok 20190102 and 20190103 opensearchCmd=paste(\"opensearch-client 'https://catalog.terradue.com/hydro-smhi/description' -p 'count=unlimited' -p 'cat=[SMHI,operational,od,daily]' -p 'start=2019-01-02T00:00:01' -p 'stop=2019-01-03T23:59:59' enclosure\")\n",
    "#ok 201901 opensearchCmd=paste(\"opensearch-client 'https://catalog.terradue.com/hydro-smhi/description' -p 'count=unlimited' -p 'cat=[SMHI,operational,hydrogfdei]' -p 'start=2019-01-02T00:00:01' -p 'stop=2019-01-03T23:59:59' enclosure\")\n",
    "#ok 201901 opensearchCmd=paste(\"opensearch-client 'https://catalog.terradue.com/hydro-smhi/description' -p 'count=unlimited' -p 'cat=[SMHI,operational,hydrogfdod]' -p 'start=2019-01-02T00:00:01' -p 'stop=2019-01-03T23:59:59' enclosure\")\n",
    "#nok \"all available dates\" opensearchCmd=paste(\"opensearch-client 'https://catalog.terradue.com/hydro-smhi/description' -p 'count=unlimited' -p 'cat=[SMHI,operational,ecoper]' -p 'start=2019-01-02T00:00:01' -p 'stop=2019-01-03T23:59:59' enclosure\")\n",
    "\n",
    "# Test with two cat parameters\n",
    "#nok opensearchCmd=paste(\"opensearch-client 'https://catalog.terradue.com/hydro-smhi/description' -p 'count=unlimited' -p 'cat=[SMHI,operational,od,monthly]' -p 'cat=tas' -p 'start=2019-08-01T00:00:01' -p 'stop=2019-08-31T23:59:59' enclosure\") # ok\n",
    "\n",
    "#\n",
    "# Search\n",
    "#\n",
    "input_enclosure <- system(command = opensearchCmd,intern = T)\n",
    "# Print\n",
    "message(input_enclosure)\n",
    "\n",
    "if (length(input_enclosure >= 1)) {\n",
    "    nc_tmpdir <- paste(TMPDIR,\"nc-files\",sep=\"/\")\n",
    "    if (! dir.exists(nc_tmpdir)) { dir.create(nc_tmpdir) }\n",
    "    for (url in 1:length(input_enclosure)) {\n",
    "        rciop.copy(input_enclosure[url],nc_tmpdir)\n",
    "    }\n",
    "}"
   ]
  },
  {
   "cell_type": "code",
   "execution_count": 205,
   "metadata": {},
   "outputs": [],
   "source": [
    "products_monthly <- c('hydrogfdei','hydrogfdod')\n",
    "products_daily <- c('od-daily','ecoper')\n",
    "#variables <- c('pr','tas','tasmin','tasmax')\n",
    "#dates_monthly=\"2019-03-01\" #\"2019-03\"\n",
    "#dates_daily=\"2019-04-01\"\n",
    "\n",
    "#for (p in products_daily) {\n",
    "#for (v in variables) {\n",
    "##paste...\n",
    "#opensearchCmd=paste(\"opensearch-client 'https://catalog.terradue.com/hydro-smhi/description' -p 'count=1' -p 'cat=[SMHI,operational,daily,od,tas]' -p 'start=2019-03-01' -p 'stop=2019-03-01' enclosure\")\n",
    "#}\n",
    "#}"
   ]
  },
  {
   "cell_type": "code",
   "execution_count": 217,
   "metadata": {},
   "outputs": [],
   "source": [
    "# From process-netcdf.R\n",
    "# Fake some data\n",
    "\n",
    "netcdfDirRoot <- paste(TMPDIR,\"process-nc\",sep=\"/\")\n",
    "\n",
    "osClientApp <- \"opensearch-client\"\n",
    "secStartDay <- \"T00:00:01\"\n",
    "secEndDay   <- \"T23:59:59\"\n",
    "\n",
    "modelConfig <- list(\"gfdHydrogfdeiSubDir\"=\"hydrogfdei\",\n",
    "                    \"gfdHydrogfdeiUrl\"=\"https://catalog.terradue.com/hydro-smhi/description\",\n",
    "                    \"gfdHydrogfdeiQuery\"=\"[hydrogfdei,SMHI,operational]\",\n",
    "                    \"gfdHydrogfdeiComment\"=\"\",\n",
    "                            \n",
    "                    \"gfdHydrogfdodSubDir\"=\"hydrogfdod\",\n",
    "                    \"gfdHydrogfdodUrl\"=\"https://catalog.terradue.com/hydro-smhi/description\",\n",
    "                    \"gfdHydrogfdodQuery\"=\"[hydrogfdod,SMHI,operational]\",\n",
    "                    \"gfdHydrogfdodComment\"=\"\",\n",
    "                            \n",
    "                    \"gfdOdDailySubDir\"=\"od-daily\",\n",
    "                    \"gfdOdDailyUrl\"=\"https://catalog.terradue.com/hydro-smhi/description\",\n",
    "                    \"gfdOdDailyQuery\"=\"[od,daily,SMHI,operational]\",\n",
    "                    \"gfdOdDailyComment\"=\"\",\n",
    "                            \n",
    "                    \"gfdEcoperSubDir\"=\"ecoper\",\n",
    "                    \"gfdEcoperUrl\"=\"https://catalog.terradue.com/hydro-smhi/description\",\n",
    "                    \"gfdEcoperQuery\"=\"[ecoper,SMHI,operational]\",\n",
    "                    \"gfdEcoperComment\"=\"\"\n",
    "  )\n",
    "\n",
    "xCastsInterval <- list(\"hydrogfdeiStartDateSearch\"=\"2019-06-01\",\n",
    "                       \"hydrogfdeiEndDateSearch\"=\"2019-06-30\",\n",
    "                       \"hydrogfdeiStartDateFilename\"=\"201906\",\n",
    "                       \"hydrogfdeiEndDateFilename\"=\"201906\",\n",
    "                       \"hydrogfdodStartDateSearch\"=\"2019-07-01\",\n",
    "                       \"hydrogfdodEndDateSearch\"=\"2019-08-31\",\n",
    "                       \"hydrogfdodStartDateFilename\"=\"201907\",\n",
    "                       \"hydrogfdodEndDateFilename\"=\"201908\",\n",
    "                       \"odStartDateSearch\"=\"2019-09-01\",\n",
    "                       \"odEndDateSearch\"=\"2019-10-02\",\n",
    "                       \"odStartDateFilename\"=\"20190901\",\n",
    "                       \"odEndDateFilename\"=\"20191002\",\n",
    "                       #\"ecoperStartDateSearch\"=\"2019-10-03\",\n",
    "                       #\"ecoperEndDateSearch\"=\"2019-10-12\",\n",
    "                       \"ecoperStartDateSearch\"=\"2019-08-26\",\n",
    "                       \"ecoperEndDateSearch\"=\"2019-06-26\",\n",
    "                       \"ecoperStartDateFilename\"=\"20191003\",\n",
    "                       \"ecoperEndDateFilename\"=\"20191012\"\n",
    "  )\n"
   ]
  },
  {
   "cell_type": "code",
   "execution_count": 232,
   "metadata": {},
   "outputs": [
    {
     "name": "stdout",
     "output_type": "stream",
     "text": [
      "[1] \"[hydrogfdei,SMHI,operational]\"\n"
     ]
    },
    {
     "data": {
      "text/html": [
       "'[hydrogfdei,SMHI,operational,pr]'"
      ],
      "text/latex": [
       "'{[}hydrogfdei,SMHI,operational,pr{]}'"
      ],
      "text/markdown": [
       "'[hydrogfdei,SMHI,operational,pr]'"
      ],
      "text/plain": [
       "[1] \"[hydrogfdei,SMHI,operational,pr]\""
      ]
     },
     "metadata": {},
     "output_type": "display_data"
    },
    {
     "name": "stdout",
     "output_type": "stream",
     "text": [
      "[1] \"[hydrogfdei\"\n",
      "[1] \"SMHI\"\n",
      "[1] \"operational]\"\n"
     ]
    },
    {
     "name": "stderr",
     "output_type": "stream",
     "text": [
      "opensearch-client 'https://catalog.terradue.com/hydro-smhi/description' -p 'count=unlimited' -p 'cat=[hydrogfdei,SMHI,operational]' -p 'start=2019-06-01T00:00:01' -p 'stop=2019-06-30T23:59:59' enclosure\n",
      "https://store.terradue.com/hydro-smhi/fanfar/Operational/hydrogfdei/2019/06/tas_hydrogfdei_201906_fanfar_SMHI.nchttps://store.terradue.com/hydro-smhi/fanfar/Operational/hydrogfdei/2019/06/tasmin_hydrogfdei_201906_fanfar_SMHI.nchttps://store.terradue.com/hydro-smhi/fanfar/Operational/hydrogfdei/2019/06/tasmax_hydrogfdei_201906_fanfar_SMHI.nchttps://store.terradue.com/hydro-smhi/fanfar/Operational/hydrogfdei/2019/06/pr_hydrogfdei_201906_fanfar_SMHI.nc\n"
     ]
    },
    {
     "name": "stdout",
     "output_type": "stream",
     "text": [
      "[1] \" -o /workspace/tmpdir/process-nc/hydrogfdei https://store.terradue.com/hydro-smhi/fanfar/Operational/hydrogfdei/2019/06/tas_hydrogfdei_201906_fanfar_SMHI.nc\"\n",
      "[1] \" -o /workspace/tmpdir/process-nc/hydrogfdei https://store.terradue.com/hydro-smhi/fanfar/Operational/hydrogfdei/2019/06/tasmin_hydrogfdei_201906_fanfar_SMHI.nc\"\n",
      "[1] \" -o /workspace/tmpdir/process-nc/hydrogfdei https://store.terradue.com/hydro-smhi/fanfar/Operational/hydrogfdei/2019/06/tasmax_hydrogfdei_201906_fanfar_SMHI.nc\"\n",
      "[1] \" -o /workspace/tmpdir/process-nc/hydrogfdei https://store.terradue.com/hydro-smhi/fanfar/Operational/hydrogfdei/2019/06/pr_hydrogfdei_201906_fanfar_SMHI.nc\"\n"
     ]
    }
   ],
   "source": [
    "urlNC     <- modelConfig$gfdHydrogfdeiUrl\n",
    "catQuery  <- modelConfig$gfdHydrogfdeiQuery\n",
    "startDate <- xCastsInterval$hydrogfdeiStartDateSearch\n",
    "stopDate  <- xCastsInterval$hydrogfdeiEndDateSearch\n",
    "\n",
    "netcdfDir <- paste(netcdfDirRoot,modelConfig$gfdHydrogfdeiSubDir,sep=\"/\")\n",
    "\n",
    "# Extend catQuery with variable name\n",
    "print(catQuery)\n",
    "variables <- c('pr','tas','tasmin','tasmax')\n",
    "\n",
    "varcatQuery <- gsub(']',',pr]',catQuery)\n",
    "varcatQuery\n",
    "\n",
    "outvarSplit = trimws(strsplit(catQuery,split = \",\")[[1]])\n",
    "nOut=length(outvarSplit)\n",
    "for(i in 1:nOut){\n",
    "    #print(i)\n",
    "    print(outvarSplit[i])\n",
    "    \n",
    "#    splitFirst = trimws(strsplit(outvarSplit[i],split = \"(\",fixed=T)[[1]])\n",
    "#    oName=splitFirst[1]\n",
    "#    splitSecond = trimws(strsplit(splitFirst[2],split = \")\",fixed=T)[[1]])\n",
    "#    oUnit=splitSecond[1]\n",
    "#    oID=substr(splitSecond[2],nchar(splitSecond[2])-3,nchar(splitSecond[2]))\n",
    "#    oName2=substr(splitSecond[2],1,nchar(splitSecond[2])-5)\n",
    "#    if(i==1){\n",
    "#        outvars.name=oName\n",
    "#        outvars.name2=oName2\n",
    "#        outvars.unit=oUnit\n",
    "#        outvars.id=oID\n",
    "#    }else{\n",
    "#        outvars.name=c(outvars.name,oName)\n",
    "#        outvars.name2=c(outvars.name2,oName2)\n",
    "#        outvars.unit=c(outvars.unit,oUnit)\n",
    "#        outvars.id=c(outvars.id,oID)\n",
    "#    }\n",
    "}\n",
    "# Extend end\n",
    "\n",
    "  opensearchCmd=paste0(osClientApp,\" '\",urlNC,\"'\",\" -p \",\"'count=unlimited'\",\" -p \",\"'cat=\",catQuery,\"'\",\" -p \",\"'start=\",startDate,secStartDay,\"'\",\" -p \",\"'stop=\",stopDate,secEndDay,\"'\",\" enclosure\")\n",
    "  message(opensearchCmd)\n",
    "  input_enclosure <- system(command = opensearchCmd,intern = T)\n",
    "  message(input_enclosure)\n",
    "  if (length(input_enclosure >= 1)) {\n",
    "    if (! dir.exists(netcdfDir)) { dir.create(netcdfDir) }\n",
    "    for (url in 1:length(input_enclosure)) {\n",
    "      rciop.copy(input_enclosure[url],netcdfDir)\n",
    "    }\n",
    "  }\n",
    "\n",
    "# Looks like all files has been downloaded with start/stop in the same month interval.\n",
    "#Test with an additional month? - 20190401-20190630 - ok, all 12 files."
   ]
  },
  {
   "cell_type": "code",
   "execution_count": 172,
   "metadata": {},
   "outputs": [
    {
     "name": "stderr",
     "output_type": "stream",
     "text": [
      "opensearch-client 'https://catalog.terradue.com/hydro-smhi/description' -p 'count=unlimited' -p 'cat=[hydrogfdod,SMHI,operational]' -p 'start=2019-07-01T00:00:01' -p 'stop=2019-08-31T23:59:59' enclosure\n",
      "https://store.terradue.com/hydro-smhi/fanfar/Operational/hydrogfdod/2019/08/tas_hydrogfdod_201908_fanfar_SMHI.nchttps://store.terradue.com/hydro-smhi/fanfar/Operational/hydrogfdod/2019/08/tasmin_hydrogfdod_201908_fanfar_SMHI.nchttps://store.terradue.com/hydro-smhi/fanfar/Operational/hydrogfdod/2019/08/tasmax_hydrogfdod_201908_fanfar_SMHI.nchttps://store.terradue.com/hydro-smhi/fanfar/Operational/hydrogfdod/2019/07/tas_hydrogfdod_201907_fanfar_SMHI.nchttps://store.terradue.com/hydro-smhi/fanfar/Operational/hydrogfdod/2019/07/tasmax_hydrogfdod_201907_fanfar_SMHI.nchttps://store.terradue.com/hydro-smhi/fanfar/Operational/hydrogfdod/2019/07/tasmin_hydrogfdod_201907_fanfar_SMHI.nchttps://store.terradue.com/hydro-smhi/fanfar/Operational/hydrogfdod/2019/07/pr_hydrogfdod_201907_fanfar_SMHI.nc\n"
     ]
    },
    {
     "name": "stdout",
     "output_type": "stream",
     "text": [
      "[1] \" -o /workspace/tmpdir/process-nc/hydrogfdod https://store.terradue.com/hydro-smhi/fanfar/Operational/hydrogfdod/2019/08/tas_hydrogfdod_201908_fanfar_SMHI.nc\"\n",
      "[1] \" -o /workspace/tmpdir/process-nc/hydrogfdod https://store.terradue.com/hydro-smhi/fanfar/Operational/hydrogfdod/2019/08/tasmin_hydrogfdod_201908_fanfar_SMHI.nc\"\n",
      "[1] \" -o /workspace/tmpdir/process-nc/hydrogfdod https://store.terradue.com/hydro-smhi/fanfar/Operational/hydrogfdod/2019/08/tasmax_hydrogfdod_201908_fanfar_SMHI.nc\"\n",
      "[1] \" -o /workspace/tmpdir/process-nc/hydrogfdod https://store.terradue.com/hydro-smhi/fanfar/Operational/hydrogfdod/2019/07/tas_hydrogfdod_201907_fanfar_SMHI.nc\"\n",
      "[1] \" -o /workspace/tmpdir/process-nc/hydrogfdod https://store.terradue.com/hydro-smhi/fanfar/Operational/hydrogfdod/2019/07/tasmax_hydrogfdod_201907_fanfar_SMHI.nc\"\n",
      "[1] \" -o /workspace/tmpdir/process-nc/hydrogfdod https://store.terradue.com/hydro-smhi/fanfar/Operational/hydrogfdod/2019/07/tasmin_hydrogfdod_201907_fanfar_SMHI.nc\"\n",
      "[1] \" -o /workspace/tmpdir/process-nc/hydrogfdod https://store.terradue.com/hydro-smhi/fanfar/Operational/hydrogfdod/2019/07/pr_hydrogfdod_201907_fanfar_SMHI.nc\"\n"
     ]
    }
   ],
   "source": [
    "netcdfDir <- paste(netcdfDirRoot,modelConfig$gfdHydrogfdodSubDir,sep=\"/\")\n",
    "\n",
    "opensearchCmd=paste0(osClientApp,\" '\",modelConfig$gfdHydrogfdodUrl,\"'\",\" -p \",\"'count=unlimited'\",\" -p \",\"'cat=\",modelConfig$gfdHydrogfdodQuery,\"'\",\" -p \",\"'start=\",xCastsInterval$hydrogfdodStartDateSearch,secStartDay,\"'\",\" -p \",\"'stop=\",xCastsInterval$hydrogfdodEndDateSearch,secEndDay,\"'\",\" enclosure\")\n",
    "  message(opensearchCmd)\n",
    "  input_enclosure <- system(command = opensearchCmd,intern = T)\n",
    "  message(input_enclosure)\n",
    "  if (length(input_enclosure >= 1)) {\n",
    "    if (! dir.exists(netcdfDir)) { dir.create(netcdfDir) }\n",
    "    for (url in 1:length(input_enclosure)) {\n",
    "      rciop.copy(input_enclosure[url],netcdfDir)\n",
    "    }\n",
    "  }\n",
    "\n",
    "#Test with an additional month? - 20190301-20190531 - ok, all 12 files.\n",
    "#With the standard start/stop, this file seems to be missing pr_hydrogfdod_201908_fanfar_SMHI.nc\n"
   ]
  },
  {
   "cell_type": "code",
   "execution_count": 214,
   "metadata": {},
   "outputs": [
    {
     "name": "stderr",
     "output_type": "stream",
     "text": [
      "opensearch-client 'https://catalog.terradue.com/hydro-smhi/description' -p 'count=unlimited' -p 'cat=[od,daily,SMHI,operational]' -p 'start=2019-09-01T00:00:01' -p 'stop=2019-10-02T23:59:59' enclosure\n",
      "https://store.terradue.com/hydro-smhi/fanfar/Operational/od-daily/2019/09/tasmin_od-daily_20190929_fanfar_SMHI.nchttps://store.terradue.com/hydro-smhi/fanfar/Operational/od-daily/2019/09/tas_od-daily_20190929_fanfar_SMHI.nchttps://store.terradue.com/hydro-smhi/fanfar/Operational/od-daily/2019/09/pr_od-daily_20190929_fanfar_SMHI.nchttps://store.terradue.com/hydro-smhi/fanfar/Operational/od-daily/2019/09/tas_od-daily_20190928_fanfar_SMHI.nchttps://store.terradue.com/hydro-smhi/fanfar/Operational/od-daily/2019/09/pr_od-daily_20190928_fanfar_SMHI.nchttps://store.terradue.com/hydro-smhi/fanfar/Operational/od-daily/2019/09/pr_od-daily_20190927_fanfar_SMHI.nchttps://store.terradue.com/hydro-smhi/fanfar/Operational/od-daily/2019/09/tasmin_od-daily_20190927_fanfar_SMHI.nchttps://store.terradue.com/hydro-smhi/fanfar/Operational/od-daily/2019/09/tasmax_od-daily_20190927_fanfar_SMHI.nchttps://store.terradue.com/hydro-smhi/fanfar/Operational/od-daily/2019/09/tas_od-daily_20190927_fanfar_SMHI.nchttps://store.terradue.com/hydro-smhi/fanfar/Operational/od-daily/2019/09/tasmax_od-daily_20190926_fanfar_SMHI.nchttps://store.terradue.com/hydro-smhi/fanfar/Operational/od-daily/2019/09/tasmin_od-daily_20190926_fanfar_SMHI.nchttps://store.terradue.com/hydro-smhi/fanfar/Operational/od-daily/2019/09/tas_od-daily_20190926_fanfar_SMHI.nchttps://store.terradue.com/hydro-smhi/fanfar/Operational/od-daily/2019/09/pr_od-daily_20190926_fanfar_SMHI.nchttps://store.terradue.com/hydro-smhi/fanfar/Operational/od-daily/2019/09/tasmin_od-daily_20190925_fanfar_SMHI.nchttps://store.terradue.com/hydro-smhi/fanfar/Operational/od-daily/2019/09/tasmax_od-daily_20190925_fanfar_SMHI.nchttps://store.terradue.com/hydro-smhi/fanfar/Operational/od-daily/2019/09/tas_od-daily_20190925_fanfar_SMHI.nchttps://store.terradue.com/hydro-smhi/fanfar/Operational/od-daily/2019/09/pr_od-daily_20190925_fanfar_SMHI.nchttps://store.terradue.com/hydro-smhi/fanfar/Operational/od-daily/2019/09/tas_od-daily_20190924_fanfar_SMHI.nchttps://store.terradue.com/hydro-smhi/fanfar/Operational/od-daily/2019/09/tasmin_od-daily_20190924_fanfar_SMHI.nchttps://store.terradue.com/hydro-smhi/fanfar/Operational/od-daily/2019/09/pr_od-daily_20190924_fanfar_SMHI.nchttps://store.terradue.com/hydro-smhi/fanfar/Operational/od-daily/2019/09/tasmax_od-daily_20190924_fanfar_SMHI.nchttps://store.terradue.com/hydro-smhi/fanfar/Operational/od-daily/2019/09/tas_od-daily_20190923_fanfar_SMHI.nchttps://store.terradue.com/hydro-smhi/fanfar/Operational/od-daily/2019/09/pr_od-daily_20190923_fanfar_SMHI.nchttps://store.terradue.com/hydro-smhi/fanfar/Operational/od-daily/2019/09/tasmax_od-daily_20190923_fanfar_SMHI.nchttps://store.terradue.com/hydro-smhi/fanfar/Operational/od-daily/2019/09/tasmin_od-daily_20190923_fanfar_SMHI.nchttps://store.terradue.com/hydro-smhi/fanfar/Operational/od-daily/2019/09/tasmin_od-daily_20190922_fanfar_SMHI.nchttps://store.terradue.com/hydro-smhi/fanfar/Operational/od-daily/2019/09/tasmax_od-daily_20190922_fanfar_SMHI.nchttps://store.terradue.com/hydro-smhi/fanfar/Operational/od-daily/2019/09/pr_od-daily_20190922_fanfar_SMHI.nchttps://store.terradue.com/hydro-smhi/fanfar/Operational/od-daily/2019/09/tas_od-daily_20190922_fanfar_SMHI.nchttps://store.terradue.com/hydro-smhi/fanfar/Operational/od-daily/2019/09/pr_od-daily_20190921_fanfar_SMHI.nchttps://store.terradue.com/hydro-smhi/fanfar/Operational/od-daily/2019/09/tasmin_od-daily_20190921_fanfar_SMHI.nchttps://store.terradue.com/hydro-smhi/fanfar/Operational/od-daily/2019/09/tasmax_od-daily_20190921_fanfar_SMHI.nchttps://store.terradue.com/hydro-smhi/fanfar/Operational/od-daily/2019/09/tas_od-daily_20190921_fanfar_SMHI.nchttps://store.terradue.com/hydro-smhi/fanfar/Operational/od-daily/2019/09/pr_od-daily_20190920_fanfar_SMHI.nchttps://store.terradue.com/hydro-smhi/fanfar/Operational/od-daily/2019/09/tasmax_od-daily_20190920_fanfar_SMHI.nchttps://store.terradue.com/hydro-smhi/fanfar/Operational/od-daily/2019/09/tasmin_od-daily_20190920_fanfar_SMHI.nchttps://store.terradue.com/hydro-smhi/fanfar/Operational/od-daily/2019/09/tas_od-daily_20190920_fanfar_SMHI.nchttps://store.terradue.com/hydro-smhi/fanfar/Operational/od-daily/2019/09/tasmin_od-daily_20190919_fanfar_SMHI.nchttps://store.terradue.com/hydro-smhi/fanfar/Operational/od-daily/2019/09/pr_od-daily_20190919_fanfar_SMHI.nchttps://store.terradue.com/hydro-smhi/fanfar/Operational/od-daily/2019/09/tasmax_od-daily_20190919_fanfar_SMHI.nchttps://store.terradue.com/hydro-smhi/fanfar/Operational/od-daily/2019/09/tas_od-daily_20190919_fanfar_SMHI.nchttps://store.terradue.com/hydro-smhi/fanfar/Operational/od-daily/2019/09/tas_od-daily_20190918_fanfar_SMHI.nchttps://store.terradue.com/hydro-smhi/fanfar/Operational/od-daily/2019/09/tasmax_od-daily_20190918_fanfar_SMHI.nchttps://store.terradue.com/hydro-smhi/fanfar/Operational/od-daily/2019/09/pr_od-daily_20190918_fanfar_SMHI.nchttps://store.terradue.com/hydro-smhi/fanfar/Operational/od-daily/2019/09/tasmin_od-daily_20190918_fanfar_SMHI.nchttps://store.terradue.com/hydro-smhi/fanfar/Operational/od-daily/2019/09/tasmin_od-daily_20190917_fanfar_SMHI.nchttps://store.terradue.com/hydro-smhi/fanfar/Operational/od-daily/2019/09/tasmax_od-daily_20190917_fanfar_SMHI.nchttps://store.terradue.com/hydro-smhi/fanfar/Operational/od-daily/2019/09/tas_od-daily_20190917_fanfar_SMHI.nchttps://store.terradue.com/hydro-smhi/fanfar/Operational/od-daily/2019/09/pr_od-daily_20190917_fanfar_SMHI.nchttps://store.terradue.com/hydro-smhi/fanfar/Operational/od-daily/2019/09/tasmin_od-daily_20190916_fanfar_SMHI.nchttps://store.terradue.com/hydro-smhi/fanfar/Operational/od-daily/2019/09/tasmax_od-daily_20190916_fanfar_SMHI.nchttps://store.terradue.com/hydro-smhi/fanfar/Operational/od-daily/2019/09/tas_od-daily_20190916_fanfar_SMHI.nchttps://store.terradue.com/hydro-smhi/fanfar/Operational/od-daily/2019/09/pr_od-daily_20190916_fanfar_SMHI.nchttps://store.terradue.com/hydro-smhi/fanfar/Operational/od-daily/2019/09/tas_od-daily_20190915_fanfar_SMHI.nchttps://store.terradue.com/hydro-smhi/fanfar/Operational/od-daily/2019/09/pr_od-daily_20190915_fanfar_SMHI.nchttps://store.terradue.com/hydro-smhi/fanfar/Operational/od-daily/2019/09/tasmax_od-daily_20190915_fanfar_SMHI.nchttps://store.terradue.com/hydro-smhi/fanfar/Operational/od-daily/2019/09/tasmin_od-daily_20190915_fanfar_SMHI.nchttps://store.terradue.com/hydro-smhi/fanfar/Operational/od-daily/2019/09/tasmax_od-daily_20190914_fanfar_SMHI.nchttps://store.terradue.com/hydro-smhi/fanfar/Operational/od-daily/2019/09/tas_od-daily_20190914_fanfar_SMHI.nchttps://store.terradue.com/hydro-smhi/fanfar/Operational/od-daily/2019/09/tasmin_od-daily_20190914_fanfar_SMHI.nchttps://store.terradue.com/hydro-smhi/fanfar/Operational/od-daily/2019/09/tasmax_od-daily_20190913_fanfar_SMHI.nchttps://store.terradue.com/hydro-smhi/fanfar/Operational/od-daily/2019/09/tas_od-daily_20190913_fanfar_SMHI.nchttps://store.terradue.com/hydro-smhi/fanfar/Operational/od-daily/2019/09/pr_od-daily_20190913_fanfar_SMHI.nchttps://store.terradue.com/hydro-smhi/fanfar/Operational/od-daily/2019/09/tasmin_od-daily_20190913_fanfar_SMHI.nchttps://store.terradue.com/hydro-smhi/fanfar/Operational/od-daily/2019/09/pr_od-daily_20190912_fanfar_SMHI.nchttps://store.terradue.com/hydro-smhi/fanfar/Operational/od-daily/2019/09/tas_od-daily_20190912_fanfar_SMHI.nchttps://store.terradue.com/hydro-smhi/fanfar/Operational/od-daily/2019/09/tasmin_od-daily_20190912_fanfar_SMHI.nchttps://store.terradue.com/hydro-smhi/fanfar/Operational/od-daily/2019/09/tasmax_od-daily_20190912_fanfar_SMHI.nchttps://store.terradue.com/hydro-smhi/fanfar/Operational/od-daily/2019/09/tas_od-daily_20190911_fanfar_SMHI.nchttps://store.terradue.com/hydro-smhi/fanfar/Operational/od-daily/2019/09/tasmin_od-daily_20190911_fanfar_SMHI.nchttps://store.terradue.com/hydro-smhi/fanfar/Operational/od-daily/2019/09/tasmax_od-daily_20190911_fanfar_SMHI.nchttps://store.terradue.com/hydro-smhi/fanfar/Operational/od-daily/2019/09/pr_od-daily_20190911_fanfar_SMHI.nchttps://store.terradue.com/hydro-smhi/fanfar/Operational/od-daily/2019/09/pr_od-daily_20190910_fanfar_SMHI.nchttps://store.terradue.com/hydro-smhi/fanfar/Operational/od-daily/2019/09/tas_od-daily_20190910_fanfar_SMHI.nchttps://store.terradue.com/hydro-smhi/fanfar/Operational/od-daily/2019/09/tasmax_od-daily_20190910_fanfar_SMHI.nchttps://store.terradue.com/hydro-smhi/fanfar/Operational/od-daily/2019/09/tasmax_od-daily_20190909_fanfar_SMHI.nchttps://store.terradue.com/hydro-smhi/fanfar/Operational/od-daily/2019/09/pr_od-daily_20190909_fanfar_SMHI.nchttps://store.terradue.com/hydro-smhi/fanfar/Operational/od-daily/2019/09/tasmin_od-daily_20190909_fanfar_SMHI.nchttps://store.terradue.com/hydro-smhi/fanfar/Operational/od-daily/2019/09/tas_od-daily_20190909_fanfar_SMHI.nchttps://store.terradue.com/hydro-smhi/fanfar/Operational/od-daily/2019/09/tasmin_od-daily_20190908_fanfar_SMHI.nchttps://store.terradue.com/hydro-smhi/fanfar/Operational/od-daily/2019/09/tasmax_od-daily_20190908_fanfar_SMHI.nchttps://store.terradue.com/hydro-smhi/fanfar/Operational/od-daily/2019/09/pr_od-daily_20190908_fanfar_SMHI.nchttps://store.terradue.com/hydro-smhi/fanfar/Operational/od-daily/2019/09/tas_od-daily_20190908_fanfar_SMHI.nchttps://store.terradue.com/hydro-smhi/fanfar/Operational/od-daily/2019/09/pr_od-daily_20190907_fanfar_SMHI.nchttps://store.terradue.com/hydro-smhi/fanfar/Operational/od-daily/2019/09/tasmin_od-daily_20190907_fanfar_SMHI.nchttps://store.terradue.com/hydro-smhi/fanfar/Operational/od-daily/2019/09/tasmax_od-daily_20190907_fanfar_SMHI.nchttps://store.terradue.com/hydro-smhi/fanfar/Operational/od-daily/2019/09/tas_od-daily_20190907_fanfar_SMHI.nchttps://store.terradue.com/hydro-smhi/fanfar/Operational/od-daily/2019/09/pr_od-daily_20190906_fanfar_SMHI.nchttps://store.terradue.com/hydro-smhi/fanfar/Operational/od-daily/2019/09/tasmin_od-daily_20190906_fanfar_SMHI.nchttps://store.terradue.com/hydro-smhi/fanfar/Operational/od-daily/2019/09/tas_od-daily_20190906_fanfar_SMHI.nchttps://store.terradue.com/hydro-smhi/fanfar/Operational/od-daily/2019/09/tasmax_od-daily_20190906_fanfar_SMHI.nchttps://store.terradue.com/hydro-smhi/fanfar/Operational/od-daily/2019/09/tasmin_od-daily_20190905_fanfar_SMHI.nchttps://store.terradue.com/hydro-smhi/fanfar/Operational/od-daily/2019/09/pr_od-daily_20190905_fanfar_SMHI.nchttps://store.terradue.com/hydro-smhi/fanfar/Operational/od-daily/2019/09/tasmax_od-daily_20190905_fanfar_SMHI.nchttps://store.terradue.com/hydro-smhi/fanfar/Operational/od-daily/2019/09/tas_od-daily_20190905_fanfar_SMHI.nchttps://store.terradue.com/hydro-smhi/fanfar/Operational/od-daily/2019/09/tasmin_od-daily_20190904_fanfar_SMHI.nchttps://store.terradue.com/hydro-smhi/fanfar/Operational/od-daily/2019/09/pr_od-daily_20190904_fanfar_SMHI.nchttps://store.terradue.com/hydro-smhi/fanfar/Operational/od-daily/2019/09/tasmax_od-daily_20190904_fanfar_SMHI.nchttps://store.terradue.com/hydro-smhi/fanfar/Operational/od-daily/2019/09/tas_od-daily_20190904_fanfar_SMHI.nchttps://store.terradue.com/hydro-smhi/fanfar/Operational/od-daily/2019/09/tas_od-daily_20190903_fanfar_SMHI.nchttps://store.terradue.com/hydro-smhi/fanfar/Operational/od-daily/2019/09/pr_od-daily_20190903_fanfar_SMHI.nchttps://store.terradue.com/hydro-smhi/fanfar/Operational/od-daily/2019/09/tasmin_od-daily_20190902_fanfar_SMHI.nchttps://store.terradue.com/hydro-smhi/fanfar/Operational/od-daily/2019/09/pr_od-daily_20190902_fanfar_SMHI.nchttps://store.terradue.com/hydro-smhi/fanfar/Operational/od-daily/2019/09/tasmax_od-daily_20190902_fanfar_SMHI.nchttps://store.terradue.com/hydro-smhi/fanfar/Operational/od-daily/2019/09/tas_od-daily_20190902_fanfar_SMHI.nchttps://store.terradue.com/hydro-smhi/fanfar/Operational/od-daily/2019/09/tasmax_od-daily_20190901_fanfar_SMHI.nchttps://store.terradue.com/hydro-smhi/fanfar/Operational/od-daily/2019/09/tasmin_od-daily_20190901_fanfar_SMHI.nchttps://store.terradue.com/hydro-smhi/fanfar/Operational/od-daily/2019/09/tas_od-daily_20190901_fanfar_SMHI.nchttps://store.terradue.com/hydro-smhi/fanfar/Operational/od-daily/2019/09/pr_od-daily_20190901_fanfar_SMHI.nchttps://store.terradue.com/hydro-smhi/fanfar/Operational/od-daily/2019/09/tasmin_od-daily_20190910_fanfar_SMHI.nchttps://store.terradue.com/hydro-smhi/fanfar/Operational/od-daily/2019/09/tasmin_od-daily_20190903_fanfar_SMHI.nchttps://store.terradue.com/hydro-smhi/fanfar/Operational/od-daily/2019/09/tasmax_od-daily_20190903_fanfar_SMHI.nc\n"
     ]
    },
    {
     "name": "stdout",
     "output_type": "stream",
     "text": [
      "[1] \" -o /workspace/tmpdir/process-nc/od-daily https://store.terradue.com/hydro-smhi/fanfar/Operational/od-daily/2019/09/tasmin_od-daily_20190929_fanfar_SMHI.nc\"\n",
      "[1] \" -o /workspace/tmpdir/process-nc/od-daily https://store.terradue.com/hydro-smhi/fanfar/Operational/od-daily/2019/09/tas_od-daily_20190929_fanfar_SMHI.nc\"\n",
      "[1] \" -o /workspace/tmpdir/process-nc/od-daily https://store.terradue.com/hydro-smhi/fanfar/Operational/od-daily/2019/09/pr_od-daily_20190929_fanfar_SMHI.nc\"\n",
      "[1] \" -o /workspace/tmpdir/process-nc/od-daily https://store.terradue.com/hydro-smhi/fanfar/Operational/od-daily/2019/09/tas_od-daily_20190928_fanfar_SMHI.nc\"\n",
      "[1] \" -o /workspace/tmpdir/process-nc/od-daily https://store.terradue.com/hydro-smhi/fanfar/Operational/od-daily/2019/09/pr_od-daily_20190928_fanfar_SMHI.nc\"\n",
      "[1] \" -o /workspace/tmpdir/process-nc/od-daily https://store.terradue.com/hydro-smhi/fanfar/Operational/od-daily/2019/09/pr_od-daily_20190927_fanfar_SMHI.nc\"\n",
      "[1] \" -o /workspace/tmpdir/process-nc/od-daily https://store.terradue.com/hydro-smhi/fanfar/Operational/od-daily/2019/09/tasmin_od-daily_20190927_fanfar_SMHI.nc\"\n",
      "[1] \" -o /workspace/tmpdir/process-nc/od-daily https://store.terradue.com/hydro-smhi/fanfar/Operational/od-daily/2019/09/tasmax_od-daily_20190927_fanfar_SMHI.nc\"\n",
      "[1] \" -o /workspace/tmpdir/process-nc/od-daily https://store.terradue.com/hydro-smhi/fanfar/Operational/od-daily/2019/09/tas_od-daily_20190927_fanfar_SMHI.nc\"\n",
      "[1] \" -o /workspace/tmpdir/process-nc/od-daily https://store.terradue.com/hydro-smhi/fanfar/Operational/od-daily/2019/09/tasmax_od-daily_20190926_fanfar_SMHI.nc\"\n",
      "[1] \" -o /workspace/tmpdir/process-nc/od-daily https://store.terradue.com/hydro-smhi/fanfar/Operational/od-daily/2019/09/tasmin_od-daily_20190926_fanfar_SMHI.nc\"\n",
      "[1] \" -o /workspace/tmpdir/process-nc/od-daily https://store.terradue.com/hydro-smhi/fanfar/Operational/od-daily/2019/09/tas_od-daily_20190926_fanfar_SMHI.nc\"\n",
      "[1] \" -o /workspace/tmpdir/process-nc/od-daily https://store.terradue.com/hydro-smhi/fanfar/Operational/od-daily/2019/09/pr_od-daily_20190926_fanfar_SMHI.nc\"\n",
      "[1] \" -o /workspace/tmpdir/process-nc/od-daily https://store.terradue.com/hydro-smhi/fanfar/Operational/od-daily/2019/09/tasmin_od-daily_20190925_fanfar_SMHI.nc\"\n",
      "[1] \" -o /workspace/tmpdir/process-nc/od-daily https://store.terradue.com/hydro-smhi/fanfar/Operational/od-daily/2019/09/tasmax_od-daily_20190925_fanfar_SMHI.nc\"\n",
      "[1] \" -o /workspace/tmpdir/process-nc/od-daily https://store.terradue.com/hydro-smhi/fanfar/Operational/od-daily/2019/09/tas_od-daily_20190925_fanfar_SMHI.nc\"\n",
      "[1] \" -o /workspace/tmpdir/process-nc/od-daily https://store.terradue.com/hydro-smhi/fanfar/Operational/od-daily/2019/09/pr_od-daily_20190925_fanfar_SMHI.nc\"\n",
      "[1] \" -o /workspace/tmpdir/process-nc/od-daily https://store.terradue.com/hydro-smhi/fanfar/Operational/od-daily/2019/09/tas_od-daily_20190924_fanfar_SMHI.nc\"\n",
      "[1] \" -o /workspace/tmpdir/process-nc/od-daily https://store.terradue.com/hydro-smhi/fanfar/Operational/od-daily/2019/09/tasmin_od-daily_20190924_fanfar_SMHI.nc\"\n",
      "[1] \" -o /workspace/tmpdir/process-nc/od-daily https://store.terradue.com/hydro-smhi/fanfar/Operational/od-daily/2019/09/pr_od-daily_20190924_fanfar_SMHI.nc\"\n",
      "[1] \" -o /workspace/tmpdir/process-nc/od-daily https://store.terradue.com/hydro-smhi/fanfar/Operational/od-daily/2019/09/tasmax_od-daily_20190924_fanfar_SMHI.nc\"\n",
      "[1] \" -o /workspace/tmpdir/process-nc/od-daily https://store.terradue.com/hydro-smhi/fanfar/Operational/od-daily/2019/09/tas_od-daily_20190923_fanfar_SMHI.nc\"\n",
      "[1] \" -o /workspace/tmpdir/process-nc/od-daily https://store.terradue.com/hydro-smhi/fanfar/Operational/od-daily/2019/09/pr_od-daily_20190923_fanfar_SMHI.nc\"\n",
      "[1] \" -o /workspace/tmpdir/process-nc/od-daily https://store.terradue.com/hydro-smhi/fanfar/Operational/od-daily/2019/09/tasmax_od-daily_20190923_fanfar_SMHI.nc\"\n",
      "[1] \" -o /workspace/tmpdir/process-nc/od-daily https://store.terradue.com/hydro-smhi/fanfar/Operational/od-daily/2019/09/tasmin_od-daily_20190923_fanfar_SMHI.nc\"\n",
      "[1] \" -o /workspace/tmpdir/process-nc/od-daily https://store.terradue.com/hydro-smhi/fanfar/Operational/od-daily/2019/09/tasmin_od-daily_20190922_fanfar_SMHI.nc\"\n",
      "[1] \" -o /workspace/tmpdir/process-nc/od-daily https://store.terradue.com/hydro-smhi/fanfar/Operational/od-daily/2019/09/tasmax_od-daily_20190922_fanfar_SMHI.nc\"\n",
      "[1] \" -o /workspace/tmpdir/process-nc/od-daily https://store.terradue.com/hydro-smhi/fanfar/Operational/od-daily/2019/09/pr_od-daily_20190922_fanfar_SMHI.nc\"\n",
      "[1] \" -o /workspace/tmpdir/process-nc/od-daily https://store.terradue.com/hydro-smhi/fanfar/Operational/od-daily/2019/09/tas_od-daily_20190922_fanfar_SMHI.nc\"\n",
      "[1] \" -o /workspace/tmpdir/process-nc/od-daily https://store.terradue.com/hydro-smhi/fanfar/Operational/od-daily/2019/09/pr_od-daily_20190921_fanfar_SMHI.nc\"\n",
      "[1] \" -o /workspace/tmpdir/process-nc/od-daily https://store.terradue.com/hydro-smhi/fanfar/Operational/od-daily/2019/09/tasmin_od-daily_20190921_fanfar_SMHI.nc\"\n",
      "[1] \" -o /workspace/tmpdir/process-nc/od-daily https://store.terradue.com/hydro-smhi/fanfar/Operational/od-daily/2019/09/tasmax_od-daily_20190921_fanfar_SMHI.nc\"\n",
      "[1] \" -o /workspace/tmpdir/process-nc/od-daily https://store.terradue.com/hydro-smhi/fanfar/Operational/od-daily/2019/09/tas_od-daily_20190921_fanfar_SMHI.nc\"\n",
      "[1] \" -o /workspace/tmpdir/process-nc/od-daily https://store.terradue.com/hydro-smhi/fanfar/Operational/od-daily/2019/09/pr_od-daily_20190920_fanfar_SMHI.nc\"\n",
      "[1] \" -o /workspace/tmpdir/process-nc/od-daily https://store.terradue.com/hydro-smhi/fanfar/Operational/od-daily/2019/09/tasmax_od-daily_20190920_fanfar_SMHI.nc\"\n",
      "[1] \" -o /workspace/tmpdir/process-nc/od-daily https://store.terradue.com/hydro-smhi/fanfar/Operational/od-daily/2019/09/tasmin_od-daily_20190920_fanfar_SMHI.nc\"\n",
      "[1] \" -o /workspace/tmpdir/process-nc/od-daily https://store.terradue.com/hydro-smhi/fanfar/Operational/od-daily/2019/09/tas_od-daily_20190920_fanfar_SMHI.nc\"\n",
      "[1] \" -o /workspace/tmpdir/process-nc/od-daily https://store.terradue.com/hydro-smhi/fanfar/Operational/od-daily/2019/09/tasmin_od-daily_20190919_fanfar_SMHI.nc\"\n",
      "[1] \" -o /workspace/tmpdir/process-nc/od-daily https://store.terradue.com/hydro-smhi/fanfar/Operational/od-daily/2019/09/pr_od-daily_20190919_fanfar_SMHI.nc\"\n",
      "[1] \" -o /workspace/tmpdir/process-nc/od-daily https://store.terradue.com/hydro-smhi/fanfar/Operational/od-daily/2019/09/tasmax_od-daily_20190919_fanfar_SMHI.nc\"\n",
      "[1] \" -o /workspace/tmpdir/process-nc/od-daily https://store.terradue.com/hydro-smhi/fanfar/Operational/od-daily/2019/09/tas_od-daily_20190919_fanfar_SMHI.nc\"\n",
      "[1] \" -o /workspace/tmpdir/process-nc/od-daily https://store.terradue.com/hydro-smhi/fanfar/Operational/od-daily/2019/09/tas_od-daily_20190918_fanfar_SMHI.nc\"\n",
      "[1] \" -o /workspace/tmpdir/process-nc/od-daily https://store.terradue.com/hydro-smhi/fanfar/Operational/od-daily/2019/09/tasmax_od-daily_20190918_fanfar_SMHI.nc\"\n",
      "[1] \" -o /workspace/tmpdir/process-nc/od-daily https://store.terradue.com/hydro-smhi/fanfar/Operational/od-daily/2019/09/pr_od-daily_20190918_fanfar_SMHI.nc\"\n",
      "[1] \" -o /workspace/tmpdir/process-nc/od-daily https://store.terradue.com/hydro-smhi/fanfar/Operational/od-daily/2019/09/tasmin_od-daily_20190918_fanfar_SMHI.nc\"\n",
      "[1] \" -o /workspace/tmpdir/process-nc/od-daily https://store.terradue.com/hydro-smhi/fanfar/Operational/od-daily/2019/09/tasmin_od-daily_20190917_fanfar_SMHI.nc\"\n",
      "[1] \" -o /workspace/tmpdir/process-nc/od-daily https://store.terradue.com/hydro-smhi/fanfar/Operational/od-daily/2019/09/tasmax_od-daily_20190917_fanfar_SMHI.nc\"\n",
      "[1] \" -o /workspace/tmpdir/process-nc/od-daily https://store.terradue.com/hydro-smhi/fanfar/Operational/od-daily/2019/09/tas_od-daily_20190917_fanfar_SMHI.nc\"\n",
      "[1] \" -o /workspace/tmpdir/process-nc/od-daily https://store.terradue.com/hydro-smhi/fanfar/Operational/od-daily/2019/09/pr_od-daily_20190917_fanfar_SMHI.nc\"\n",
      "[1] \" -o /workspace/tmpdir/process-nc/od-daily https://store.terradue.com/hydro-smhi/fanfar/Operational/od-daily/2019/09/tasmin_od-daily_20190916_fanfar_SMHI.nc\"\n",
      "[1] \" -o /workspace/tmpdir/process-nc/od-daily https://store.terradue.com/hydro-smhi/fanfar/Operational/od-daily/2019/09/tasmax_od-daily_20190916_fanfar_SMHI.nc\"\n",
      "[1] \" -o /workspace/tmpdir/process-nc/od-daily https://store.terradue.com/hydro-smhi/fanfar/Operational/od-daily/2019/09/tas_od-daily_20190916_fanfar_SMHI.nc\"\n",
      "[1] \" -o /workspace/tmpdir/process-nc/od-daily https://store.terradue.com/hydro-smhi/fanfar/Operational/od-daily/2019/09/pr_od-daily_20190916_fanfar_SMHI.nc\"\n",
      "[1] \" -o /workspace/tmpdir/process-nc/od-daily https://store.terradue.com/hydro-smhi/fanfar/Operational/od-daily/2019/09/tas_od-daily_20190915_fanfar_SMHI.nc\"\n",
      "[1] \" -o /workspace/tmpdir/process-nc/od-daily https://store.terradue.com/hydro-smhi/fanfar/Operational/od-daily/2019/09/pr_od-daily_20190915_fanfar_SMHI.nc\"\n",
      "[1] \" -o /workspace/tmpdir/process-nc/od-daily https://store.terradue.com/hydro-smhi/fanfar/Operational/od-daily/2019/09/tasmax_od-daily_20190915_fanfar_SMHI.nc\"\n",
      "[1] \" -o /workspace/tmpdir/process-nc/od-daily https://store.terradue.com/hydro-smhi/fanfar/Operational/od-daily/2019/09/tasmin_od-daily_20190915_fanfar_SMHI.nc\"\n",
      "[1] \" -o /workspace/tmpdir/process-nc/od-daily https://store.terradue.com/hydro-smhi/fanfar/Operational/od-daily/2019/09/tasmax_od-daily_20190914_fanfar_SMHI.nc\"\n",
      "[1] \" -o /workspace/tmpdir/process-nc/od-daily https://store.terradue.com/hydro-smhi/fanfar/Operational/od-daily/2019/09/tas_od-daily_20190914_fanfar_SMHI.nc\"\n",
      "[1] \" -o /workspace/tmpdir/process-nc/od-daily https://store.terradue.com/hydro-smhi/fanfar/Operational/od-daily/2019/09/tasmin_od-daily_20190914_fanfar_SMHI.nc\"\n",
      "[1] \" -o /workspace/tmpdir/process-nc/od-daily https://store.terradue.com/hydro-smhi/fanfar/Operational/od-daily/2019/09/tasmax_od-daily_20190913_fanfar_SMHI.nc\"\n",
      "[1] \" -o /workspace/tmpdir/process-nc/od-daily https://store.terradue.com/hydro-smhi/fanfar/Operational/od-daily/2019/09/tas_od-daily_20190913_fanfar_SMHI.nc\"\n",
      "[1] \" -o /workspace/tmpdir/process-nc/od-daily https://store.terradue.com/hydro-smhi/fanfar/Operational/od-daily/2019/09/pr_od-daily_20190913_fanfar_SMHI.nc\"\n",
      "[1] \" -o /workspace/tmpdir/process-nc/od-daily https://store.terradue.com/hydro-smhi/fanfar/Operational/od-daily/2019/09/tasmin_od-daily_20190913_fanfar_SMHI.nc\"\n",
      "[1] \" -o /workspace/tmpdir/process-nc/od-daily https://store.terradue.com/hydro-smhi/fanfar/Operational/od-daily/2019/09/pr_od-daily_20190912_fanfar_SMHI.nc\"\n",
      "[1] \" -o /workspace/tmpdir/process-nc/od-daily https://store.terradue.com/hydro-smhi/fanfar/Operational/od-daily/2019/09/tas_od-daily_20190912_fanfar_SMHI.nc\"\n",
      "[1] \" -o /workspace/tmpdir/process-nc/od-daily https://store.terradue.com/hydro-smhi/fanfar/Operational/od-daily/2019/09/tasmin_od-daily_20190912_fanfar_SMHI.nc\"\n",
      "[1] \" -o /workspace/tmpdir/process-nc/od-daily https://store.terradue.com/hydro-smhi/fanfar/Operational/od-daily/2019/09/tasmax_od-daily_20190912_fanfar_SMHI.nc\"\n",
      "[1] \" -o /workspace/tmpdir/process-nc/od-daily https://store.terradue.com/hydro-smhi/fanfar/Operational/od-daily/2019/09/tas_od-daily_20190911_fanfar_SMHI.nc\"\n",
      "[1] \" -o /workspace/tmpdir/process-nc/od-daily https://store.terradue.com/hydro-smhi/fanfar/Operational/od-daily/2019/09/tasmin_od-daily_20190911_fanfar_SMHI.nc\"\n",
      "[1] \" -o /workspace/tmpdir/process-nc/od-daily https://store.terradue.com/hydro-smhi/fanfar/Operational/od-daily/2019/09/tasmax_od-daily_20190911_fanfar_SMHI.nc\"\n",
      "[1] \" -o /workspace/tmpdir/process-nc/od-daily https://store.terradue.com/hydro-smhi/fanfar/Operational/od-daily/2019/09/pr_od-daily_20190911_fanfar_SMHI.nc\"\n",
      "[1] \" -o /workspace/tmpdir/process-nc/od-daily https://store.terradue.com/hydro-smhi/fanfar/Operational/od-daily/2019/09/pr_od-daily_20190910_fanfar_SMHI.nc\"\n",
      "[1] \" -o /workspace/tmpdir/process-nc/od-daily https://store.terradue.com/hydro-smhi/fanfar/Operational/od-daily/2019/09/tas_od-daily_20190910_fanfar_SMHI.nc\"\n",
      "[1] \" -o /workspace/tmpdir/process-nc/od-daily https://store.terradue.com/hydro-smhi/fanfar/Operational/od-daily/2019/09/tasmax_od-daily_20190910_fanfar_SMHI.nc\"\n",
      "[1] \" -o /workspace/tmpdir/process-nc/od-daily https://store.terradue.com/hydro-smhi/fanfar/Operational/od-daily/2019/09/tasmax_od-daily_20190909_fanfar_SMHI.nc\"\n",
      "[1] \" -o /workspace/tmpdir/process-nc/od-daily https://store.terradue.com/hydro-smhi/fanfar/Operational/od-daily/2019/09/pr_od-daily_20190909_fanfar_SMHI.nc\"\n",
      "[1] \" -o /workspace/tmpdir/process-nc/od-daily https://store.terradue.com/hydro-smhi/fanfar/Operational/od-daily/2019/09/tasmin_od-daily_20190909_fanfar_SMHI.nc\"\n",
      "[1] \" -o /workspace/tmpdir/process-nc/od-daily https://store.terradue.com/hydro-smhi/fanfar/Operational/od-daily/2019/09/tas_od-daily_20190909_fanfar_SMHI.nc\"\n",
      "[1] \" -o /workspace/tmpdir/process-nc/od-daily https://store.terradue.com/hydro-smhi/fanfar/Operational/od-daily/2019/09/tasmin_od-daily_20190908_fanfar_SMHI.nc\"\n",
      "[1] \" -o /workspace/tmpdir/process-nc/od-daily https://store.terradue.com/hydro-smhi/fanfar/Operational/od-daily/2019/09/tasmax_od-daily_20190908_fanfar_SMHI.nc\"\n",
      "[1] \" -o /workspace/tmpdir/process-nc/od-daily https://store.terradue.com/hydro-smhi/fanfar/Operational/od-daily/2019/09/pr_od-daily_20190908_fanfar_SMHI.nc\"\n",
      "[1] \" -o /workspace/tmpdir/process-nc/od-daily https://store.terradue.com/hydro-smhi/fanfar/Operational/od-daily/2019/09/tas_od-daily_20190908_fanfar_SMHI.nc\"\n",
      "[1] \" -o /workspace/tmpdir/process-nc/od-daily https://store.terradue.com/hydro-smhi/fanfar/Operational/od-daily/2019/09/pr_od-daily_20190907_fanfar_SMHI.nc\"\n",
      "[1] \" -o /workspace/tmpdir/process-nc/od-daily https://store.terradue.com/hydro-smhi/fanfar/Operational/od-daily/2019/09/tasmin_od-daily_20190907_fanfar_SMHI.nc\"\n",
      "[1] \" -o /workspace/tmpdir/process-nc/od-daily https://store.terradue.com/hydro-smhi/fanfar/Operational/od-daily/2019/09/tasmax_od-daily_20190907_fanfar_SMHI.nc\"\n",
      "[1] \" -o /workspace/tmpdir/process-nc/od-daily https://store.terradue.com/hydro-smhi/fanfar/Operational/od-daily/2019/09/tas_od-daily_20190907_fanfar_SMHI.nc\"\n",
      "[1] \" -o /workspace/tmpdir/process-nc/od-daily https://store.terradue.com/hydro-smhi/fanfar/Operational/od-daily/2019/09/pr_od-daily_20190906_fanfar_SMHI.nc\"\n",
      "[1] \" -o /workspace/tmpdir/process-nc/od-daily https://store.terradue.com/hydro-smhi/fanfar/Operational/od-daily/2019/09/tasmin_od-daily_20190906_fanfar_SMHI.nc\"\n",
      "[1] \" -o /workspace/tmpdir/process-nc/od-daily https://store.terradue.com/hydro-smhi/fanfar/Operational/od-daily/2019/09/tas_od-daily_20190906_fanfar_SMHI.nc\"\n",
      "[1] \" -o /workspace/tmpdir/process-nc/od-daily https://store.terradue.com/hydro-smhi/fanfar/Operational/od-daily/2019/09/tasmax_od-daily_20190906_fanfar_SMHI.nc\"\n",
      "[1] \" -o /workspace/tmpdir/process-nc/od-daily https://store.terradue.com/hydro-smhi/fanfar/Operational/od-daily/2019/09/tasmin_od-daily_20190905_fanfar_SMHI.nc\"\n",
      "[1] \" -o /workspace/tmpdir/process-nc/od-daily https://store.terradue.com/hydro-smhi/fanfar/Operational/od-daily/2019/09/pr_od-daily_20190905_fanfar_SMHI.nc\"\n",
      "[1] \" -o /workspace/tmpdir/process-nc/od-daily https://store.terradue.com/hydro-smhi/fanfar/Operational/od-daily/2019/09/tasmax_od-daily_20190905_fanfar_SMHI.nc\"\n",
      "[1] \" -o /workspace/tmpdir/process-nc/od-daily https://store.terradue.com/hydro-smhi/fanfar/Operational/od-daily/2019/09/tas_od-daily_20190905_fanfar_SMHI.nc\"\n",
      "[1] \" -o /workspace/tmpdir/process-nc/od-daily https://store.terradue.com/hydro-smhi/fanfar/Operational/od-daily/2019/09/tasmin_od-daily_20190904_fanfar_SMHI.nc\"\n",
      "[1] \" -o /workspace/tmpdir/process-nc/od-daily https://store.terradue.com/hydro-smhi/fanfar/Operational/od-daily/2019/09/pr_od-daily_20190904_fanfar_SMHI.nc\"\n",
      "[1] \" -o /workspace/tmpdir/process-nc/od-daily https://store.terradue.com/hydro-smhi/fanfar/Operational/od-daily/2019/09/tasmax_od-daily_20190904_fanfar_SMHI.nc\"\n",
      "[1] \" -o /workspace/tmpdir/process-nc/od-daily https://store.terradue.com/hydro-smhi/fanfar/Operational/od-daily/2019/09/tas_od-daily_20190904_fanfar_SMHI.nc\"\n",
      "[1] \" -o /workspace/tmpdir/process-nc/od-daily https://store.terradue.com/hydro-smhi/fanfar/Operational/od-daily/2019/09/tas_od-daily_20190903_fanfar_SMHI.nc\"\n",
      "[1] \" -o /workspace/tmpdir/process-nc/od-daily https://store.terradue.com/hydro-smhi/fanfar/Operational/od-daily/2019/09/pr_od-daily_20190903_fanfar_SMHI.nc\"\n",
      "[1] \" -o /workspace/tmpdir/process-nc/od-daily https://store.terradue.com/hydro-smhi/fanfar/Operational/od-daily/2019/09/tasmin_od-daily_20190902_fanfar_SMHI.nc\"\n",
      "[1] \" -o /workspace/tmpdir/process-nc/od-daily https://store.terradue.com/hydro-smhi/fanfar/Operational/od-daily/2019/09/pr_od-daily_20190902_fanfar_SMHI.nc\"\n",
      "[1] \" -o /workspace/tmpdir/process-nc/od-daily https://store.terradue.com/hydro-smhi/fanfar/Operational/od-daily/2019/09/tasmax_od-daily_20190902_fanfar_SMHI.nc\"\n",
      "[1] \" -o /workspace/tmpdir/process-nc/od-daily https://store.terradue.com/hydro-smhi/fanfar/Operational/od-daily/2019/09/tas_od-daily_20190902_fanfar_SMHI.nc\"\n",
      "[1] \" -o /workspace/tmpdir/process-nc/od-daily https://store.terradue.com/hydro-smhi/fanfar/Operational/od-daily/2019/09/tasmax_od-daily_20190901_fanfar_SMHI.nc\"\n",
      "[1] \" -o /workspace/tmpdir/process-nc/od-daily https://store.terradue.com/hydro-smhi/fanfar/Operational/od-daily/2019/09/tasmin_od-daily_20190901_fanfar_SMHI.nc\"\n",
      "[1] \" -o /workspace/tmpdir/process-nc/od-daily https://store.terradue.com/hydro-smhi/fanfar/Operational/od-daily/2019/09/tas_od-daily_20190901_fanfar_SMHI.nc\"\n",
      "[1] \" -o /workspace/tmpdir/process-nc/od-daily https://store.terradue.com/hydro-smhi/fanfar/Operational/od-daily/2019/09/pr_od-daily_20190901_fanfar_SMHI.nc\"\n",
      "[1] \" -o /workspace/tmpdir/process-nc/od-daily https://store.terradue.com/hydro-smhi/fanfar/Operational/od-daily/2019/09/tasmin_od-daily_20190910_fanfar_SMHI.nc\"\n",
      "[1] \" -o /workspace/tmpdir/process-nc/od-daily https://store.terradue.com/hydro-smhi/fanfar/Operational/od-daily/2019/09/tasmin_od-daily_20190903_fanfar_SMHI.nc\"\n",
      "[1] \" -o /workspace/tmpdir/process-nc/od-daily https://store.terradue.com/hydro-smhi/fanfar/Operational/od-daily/2019/09/tasmax_od-daily_20190903_fanfar_SMHI.nc\"\n"
     ]
    }
   ],
   "source": [
    "netcdfDir <- paste(netcdfDirRoot,modelConfig$gfdOdDailySubDir,sep=\"/\")\n",
    "  \n",
    "opensearchCmd=paste0(osClientApp,\" '\",modelConfig$gfdOdDailyUrl,\"'\",\" -p \",\"'count=unlimited'\",\" -p \",\"'cat=\",modelConfig$gfdOdDailyQuery,\"'\",\" -p \",\"'start=\",xCastsInterval$odStartDateSearch,secStartDay,\"'\",\" -p \",\"'stop=\",xCastsInterval$odEndDateSearch,secEndDay,\"'\",\" enclosure\")\n",
    "  message(opensearchCmd)\n",
    "  input_enclosure <- system(command = opensearchCmd,intern = T)\n",
    "  message(input_enclosure)\n",
    "  if (length(input_enclosure >= 1)) {\n",
    "    #nc_tmpdir <- paste(netcdfDir,\"nc-files\",sep=\"/\")\n",
    "    #if (! dir.exists(nc_tmpdir)) { dir.create(nc_tmpdir) }\n",
    "    if (! dir.exists(netcdfDir)) { dir.create(netcdfDir) }\n",
    "    for (url in 1:length(input_enclosure)) {\n",
    "      #rciop.copy(input_enclosure[url],nc_tmpdir)\n",
    "      rciop.copy(input_enclosure[url],netcdfDir)\n",
    "    }\n",
    "  }\n",
    "\n",
    "# 2019-09-01 - 2019-10-02:\n",
    "#Mostly ok, no files for october (maybe not uploaded to htep yet)\n",
    "#There might also be one or two missing files in this range."
   ]
  },
  {
   "cell_type": "code",
   "execution_count": 221,
   "metadata": {},
   "outputs": [
    {
     "name": "stderr",
     "output_type": "stream",
     "text": [
      "opensearch-client 'https://catalog.terradue.com/hydro-smhi/description' -p 'count=unlimited' -p 'cat=[ecoper,SMHI,operational]' -p 'start=2019-08-26T00:00:01' -p 'stop=2019-06-26T23:59:59' enclosure\n",
      "\n"
     ]
    }
   ],
   "source": [
    "netcdfDir <- paste(netcdfDirRoot,modelConfig$gfdEcoperSubDir,sep=\"/\")\n",
    "  \n",
    "opensearchCmd=paste0(osClientApp,\" '\",modelConfig$gfdEcoperUrl,\"'\",\" -p \",\"'count=unlimited'\",\" -p \",\"'cat=\",modelConfig$gfdEcoperQuery,\"'\",\" -p \",\"'start=\",xCastsInterval$ecoperStartDateSearch,secStartDay,\"'\",\" -p \",\"'stop=\",xCastsInterval$ecoperEndDateSearch,secEndDay,\"'\",\" enclosure\")\n",
    "  message(opensearchCmd)\n",
    "  input_enclosure <- system(command = opensearchCmd,intern = T)\n",
    "  message(input_enclosure)\n",
    "  if (length(input_enclosure >= 1)) {\n",
    "    #nc_tmpdir <- paste(netcdfDir,\"nc-files\",sep=\"/\")\n",
    "    #if (! dir.exists(nc_tmpdir)) { dir.create(nc_tmpdir) }\n",
    "    if (! dir.exists(netcdfDir)) { dir.create(netcdfDir) }\n",
    "    for (url in 1:length(input_enclosure)) {\n",
    "      #rciop.copy(input_enclosure[url],nc_tmpdir)\n",
    "      rciop.copy(input_enclosure[url],netcdfDir)\n",
    "    }\n",
    "  }\n",
    "\n",
    "# Problem, query gives all files and from other years etc.\n",
    "#\n",
    "#opensearch-client 'https://catalog.terradue.com/hydro-smhi/description' -p 'count=unlimited' -p 'cat=[ecoper,SMHI,operational]' -p 'start=2019-10-03T00:00:01' -p 'stop=2019-10-12T23:59:59' enclosure\n",
    "#opensearch-client 'https://catalog.terradue.com/hydro-smhi/description' -p 'count=unlimited' -p 'cat=[ecoper,SMHI,operational]' -p 'start=2019-03-25T00:00:01' -p 'stop=2019-04-12T23:59:59' enclosure\n",
    "#\n",
    "#https://store.terradue.com/hydro-smhi/fanfar/Operational/ecoper/2018/07/tasmin_ecoper_2018072900_fanfar_SMHI.nc\n",
    "#https://store.terradue.com/hydro-smhi/fanfar/Operational/ecoper/2019/08/tasmax_ecoper_2019080200_fanfar_SMHI.nc\n",
    "#..."
   ]
  },
  {
   "cell_type": "code",
   "execution_count": 211,
   "metadata": {},
   "outputs": [
    {
     "data": {
      "text/html": [
       "<ol class=list-inline>\n",
       "\t<li>'Niger-HYPE'</li>\n",
       "\t<li>'WestAfrica-HYPE'</li>\n",
       "</ol>\n"
      ],
      "text/latex": [
       "\\begin{enumerate*}\n",
       "\\item 'Niger-HYPE'\n",
       "\\item 'WestAfrica-HYPE'\n",
       "\\end{enumerate*}\n"
      ],
      "text/markdown": [
       "1. 'Niger-HYPE'\n",
       "2. 'WestAfrica-HYPE'\n",
       "\n",
       "\n"
      ],
      "text/plain": [
       "[1] \"Niger-HYPE\"      \"WestAfrica-HYPE\""
      ]
     },
     "metadata": {},
     "output_type": "display_data"
    },
    {
     "name": "stdout",
     "output_type": "stream",
     "text": [
      "[1] 1\n",
      "[1] \"Niger-HYPE\"\n"
     ]
    }
   ],
   "source": [
    "#\n",
    "#\n",
    "#\n",
    "hydModel <- rciop.getparam('hydmodel')\n",
    "hydModel\n",
    "\n",
    "\n",
    "outvarSplit = trimws(strsplit(hydModel,split = \",\")[[1]])\n",
    "nOut=length(outvarSplit)\n",
    "for(i in 1:nOut){\n",
    "    print(i)\n",
    "    print(outvarSplit[i])\n",
    "    \n",
    "    splitFirst = trimws(strsplit(outvarSplit[i],split = \"(\",fixed=T)[[1]])\n",
    "    oName=splitFirst[1]\n",
    "    splitSecond = trimws(strsplit(splitFirst[2],split = \")\",fixed=T)[[1]])\n",
    "    oUnit=splitSecond[1]\n",
    "    oID=substr(splitSecond[2],nchar(splitSecond[2])-3,nchar(splitSecond[2]))\n",
    "    oName2=substr(splitSecond[2],1,nchar(splitSecond[2])-5)\n",
    "    if(i==1){\n",
    "        outvars.name=oName\n",
    "        outvars.name2=oName2\n",
    "        outvars.unit=oUnit\n",
    "        outvars.id=oID\n",
    "    }else{\n",
    "        outvars.name=c(outvars.name,oName)\n",
    "        outvars.name2=c(outvars.name2,oName2)\n",
    "        outvars.unit=c(outvars.unit,oUnit)\n",
    "        outvars.id=c(outvars.id,oID)\n",
    "    }\n",
    "}\n"
   ]
  },
  {
   "cell_type": "code",
   "execution_count": null,
   "metadata": {},
   "outputs": [],
   "source": []
  }
 ],
 "metadata": {
  "kernelspec": {
   "display_name": "R",
   "language": "R",
   "name": "ir"
  },
  "language_info": {
   "codemirror_mode": "r",
   "file_extension": ".r",
   "mimetype": "text/x-r-source",
   "name": "R",
   "pygments_lexer": "r",
   "version": "3.6.1"
  }
 },
 "nbformat": 4,
 "nbformat_minor": 2
}
