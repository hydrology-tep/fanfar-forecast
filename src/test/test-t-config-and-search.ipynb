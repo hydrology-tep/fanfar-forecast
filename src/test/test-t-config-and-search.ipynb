{
 "cells": [
  {
   "cell_type": "markdown",
   "metadata": {},
   "source": [
    "## 0. Environment Setup\n",
    "We create a smiliar environemnt that simulate the inputs and variables as per in ciop jobs"
   ]
  },
  {
   "cell_type": "code",
   "execution_count": 22,
   "metadata": {},
   "outputs": [
    {
     "data": {
      "text/html": [
       "'/workspace/tmpdir'"
      ],
      "text/latex": [
       "'/workspace/tmpdir'"
      ],
      "text/markdown": [
       "'/workspace/tmpdir'"
      ],
      "text/plain": [
       "[1] \"/workspace/tmpdir\""
      ]
     },
     "metadata": {},
     "output_type": "display_data"
    }
   ],
   "source": [
    "#old input1='https://recast.terradue.com/t2api/search/hydro-smhi/models?uid=230286758E25FD953AF736DE85F01CDF9C539EC7' #niger-hype-model.zip, one file when unzipped\n",
    "#old input2='https://recast.terradue.com/t2api/search/hydro-smhi/models?uid=9345ED73B72F49E6FF31B07B57013BC519210E24' #niger-hype-model-2.23.zip, one dir when unzipped\n",
    "input2='https://recast.terradue.com/t2api/search/hydro-smhi/models?uid=9345ED73B72F49E6FF31B07B57013BC519210E24' #niger-hype-model-2.23.zip, one dir when unzipped\n",
    "#use this from model.zip instead  input_hype_data='https://recast.terradue.com/t2api/search/hydro-smhi/models?uid=9CE420998D9EC367470EEAEEA6B6DA0B0E4604D2' #niger-hype-data.zip, dirs when unzipped\n",
    "TMPDIR=\"/workspace/tmpdir\"\n",
    "TMPDIR"
   ]
  },
  {
   "cell_type": "markdown",
   "metadata": {},
   "source": [
    "1. Read input model\n",
    "This inital step collect via proper opensearch call and copy the HYPE model config archive"
   ]
  },
  {
   "cell_type": "code",
   "execution_count": 23,
   "metadata": {},
   "outputs": [],
   "source": [
    "app.date = format(Sys.time(), \"%Y%m%d_%H%M\")\n",
    "\n",
    "## set application name\n",
    "app.name = \"forecast\"\n",
    "## ------------------------------------------------------------------------------\n",
    "## flag which environment is used, if not set\n",
    "if(!exists(\"app.sys\")){\n",
    "    app.sys =\"tep\"\n",
    "    }\n",
    "## ------------------------------------------------------------------------------\n",
    "## load rciop package and set working directory to TMPDIR when running on TEP \n",
    "if(app.sys==\"tep\"){\n",
    "    library(\"rciop\")\n",
    "\n",
    "    rciop.log (\"DEBUG\", \" *** hypeapps-forecast *** TEP hydrological modelling applications ***\", \"/node_forecast/run.R\")\n",
    "    rciop.log (\"DEBUG\", \" rciop library loaded\", \"/node_forecast/run.R\")\n",
    "\n",
    "    setwd(TMPDIR)\n",
    "    rciop.log(\"DEBUG\", paste(\" R session working directory set to \",TMPDIR,sep=\"\"), \"/node_forecast/run.R\")\n",
    "}"
   ]
  },
  {
   "cell_type": "markdown",
   "metadata": {},
   "source": [
    "Some rciop functions may need to be overridden in the notebook environment.\n",
    "Set to your current needs."
   ]
  },
  {
   "cell_type": "code",
   "execution_count": 24,
   "metadata": {},
   "outputs": [],
   "source": [
    "ENABLE_STUB_RCIOP_LOG <- FALSE\n",
    "#ENABLE_STUB_RCIOP_LOG <- TRUE\n",
    "\n",
    "if (ENABLE_STUB_RCIOP_LOG == TRUE) {\n",
    "    message(\"rciop.log() overridden by local stub function...\")\n",
    "    \n",
    "    rciop.log <- function(type, message, proc='') {\n",
    "\n",
    "        type <- type\n",
    "        msg <- message\n",
    "    if (proc=='') { proc <- \"user process\" }\n",
    "\n",
    "    out.msg <- paste(format(Sys.time(), format=\"%Y-%m-%dT%H:%M:%S\"), \"[\", type, \"][\", proc, \"] \", msg, sep=\"\")\n",
    "\n",
    "    message(out.msg)\n",
    "    } # rciop.log\n",
    "\n",
    "} # end stub"
   ]
  },
  {
   "cell_type": "code",
   "execution_count": 25,
   "metadata": {},
   "outputs": [
    {
     "name": "stderr",
     "output_type": "stream",
     "text": [
      "rciop.getparam() overridden by local stub function...\n"
     ]
    }
   ],
   "source": [
    "#ENABLE_STUB_RCIOP_GETPARAM <- FALSE\n",
    "ENABLE_STUB_RCIOP_GETPARAM <- TRUE\n",
    "\n",
    "if (ENABLE_STUB_RCIOP_GETPARAM == TRUE) {\n",
    "    message(\"rciop.getparam() overridden by local stub function...\")\n",
    "    # Change according to your test objective.\n",
    "    # Would normally return values defined in application.xml for specified ids'.\n",
    "    \n",
    "    rciop.getparam <- function(id) {\n",
    "        value <- NULL # or \"\"\n",
    "        \n",
    "        if (id == \"model\") {\n",
    "            value <- \"https://recast.terradue.com/t2api/search/hydro-smhi/models?uid=230286758E25FD953AF736DE85F01CDF9C539EC7\"\n",
    "        }\n",
    "        else if (id == \"idate\" ) {\n",
    "            value <- \"2018-09-01\"\n",
    "        }\n",
    "        else {\n",
    "            message(\"rciop.get_param:id not found...\")\n",
    "        }\n",
    "        \n",
    "        return (value)\n",
    "    } # rciop.getparam\n",
    "\n",
    "} # end stub"
   ]
  },
  {
   "cell_type": "markdown",
   "metadata": {},
   "source": [
    "Add your code to test...\n",
    "Remove current, or paste other code or add additional code blocks."
   ]
  },
  {
   "cell_type": "code",
   "execution_count": 26,
   "metadata": {},
   "outputs": [],
   "source": [
    "## Read the main input\n",
    "## This is the reference link to the model configuration\n",
    "\n",
    "# print\n",
    "#rciop.log(\"INFO\", paste(\"Processing input:\", input1, sep=\" \"))\n",
    "\n",
    "# Query the input reference\n",
    "#message(paste(\"opensearch-client '\",input1,\"' enclosure\", sep=\"\"))\n",
    "#opensearchCmd=paste(\"opensearch-client '\",input1,\"' enclosure\")\n",
    "#input_enclosure <- system(command = opensearchCmd,intern = T)\n",
    "#rciop.log(\"INFO\", input_enclosure)\n",
    "\n",
    "# Download the file\n",
    "#model_file <- rciop.copy(input_enclosure, TMPDIR, uncompress=TRUE)\n",
    "\n",
    "#if (model_file$exit.code==0) {\n",
    "#    local.url <- model_file$output\n",
    "#}\n",
    "\n",
    "# Works for single file after unzip\n",
    "#local.url # One file, complete path incl. filename\n",
    "#my_data <- read.delim(local.url)\n",
    "#print (my_data)"
   ]
  },
  {
   "cell_type": "code",
   "execution_count": 27,
   "metadata": {},
   "outputs": [],
   "source": [
    "#par_model <- rciop.getparam(\"model\")\n",
    "#message(par_model)"
   ]
  },
  {
   "cell_type": "raw",
   "metadata": {},
   "source": [
    "Brief:\n",
    "Search and retrive model config object.\n",
    "Read contents in dependencies.txt.\n",
    "From read contents:\n",
    "Use url for hype model data, other R code is currently handling the downloading (rciop.copy) for now. Should maybe later on be rciop.copy contents once to tmp dir, and paths be passed as parameters to other R code (and that code changed to do file copy from tmp dir to run dir etc.).\n",
    "Use gfd urls and querypattern as search later on to retrieve certain netcdf files, urls needs to be passed to netcdf2obs code, code handling time interval to search and retrieve specfic netcdf file to use."
   ]
  },
  {
   "cell_type": "code",
   "execution_count": 39,
   "metadata": {},
   "outputs": [
    {
     "name": "stderr",
     "output_type": "stream",
     "text": [
      "opensearch-client 'https://recast.terradue.com/t2api/search/hydro-smhi/models?uid=9345ED73B72F49E6FF31B07B57013BC519210E24' enclosure\n"
     ]
    },
    {
     "name": "stdout",
     "output_type": "stream",
     "text": [
      "[1] \" -o /workspace/tmpdir https://store.terradue.com/hydro-smhi/models/niger-hype-model-2.23.zip\"\n"
     ]
    },
    {
     "data": {
      "text/html": [
       "'/workspace/tmpdir/niger-hype-model-2.23'"
      ],
      "text/latex": [
       "'/workspace/tmpdir/niger-hype-model-2.23'"
      ],
      "text/markdown": [
       "'/workspace/tmpdir/niger-hype-model-2.23'"
      ],
      "text/plain": [
       "[1] \"/workspace/tmpdir/niger-hype-model-2.23\""
      ]
     },
     "metadata": {},
     "output_type": "display_data"
    },
    {
     "data": {
      "text/html": [
       "'/workspace/tmpdir/niger-hype-model-2.23/dependencies.txt'"
      ],
      "text/latex": [
       "'/workspace/tmpdir/niger-hype-model-2.23/dependencies.txt'"
      ],
      "text/markdown": [
       "'/workspace/tmpdir/niger-hype-model-2.23/dependencies.txt'"
      ],
      "text/plain": [
       "[1] \"/workspace/tmpdir/niger-hype-model-2.23/dependencies.txt\""
      ]
     },
     "metadata": {},
     "output_type": "display_data"
    },
    {
     "data": {
      "text/html": [
       "<table>\n",
       "<thead><tr><th scope=col>subdir</th><th scope=col>url</th><th scope=col>querypattern</th><th scope=col>info</th></tr></thead>\n",
       "<tbody>\n",
       "\t<tr><td>model-data                                                   </td><td>https://recast.terradue.com/t2api/search/hydro-smhi/models   </td><td>?uid=9CE420998D9EC367470EEAEEA6B6DA0B0E4604D2                </td><td># zip-file. niger-hype v2.23 and gfd obs.                    </td></tr>\n",
       "\t<tr><td>model-data-old-url                                           </td><td>https://store.terradue.com/hydro-smhi/fanfar/model/niger-hype</td><td>                                                             </td><td># stop using. not zip-file. niger-hype v2.23 and gfd obs.    </td></tr>\n",
       "\t<tr><td>hydrogfdei                                                   </td><td>https://catalog.terradue.com/hydro-smhi/description          </td><td>[hydrogfdei,SMHI,operational]                                </td><td># netcdf                                                     </td></tr>\n",
       "\t<tr><td>hydrogfdod                                                   </td><td>https://catalog.terradue.com/hydro-smhi/description          </td><td>[hydrogfdod,SMHI,operational]                                </td><td># netcdf                                                     </td></tr>\n",
       "\t<tr><td>ei-monthly                                                   </td><td>https://catalog.terradue.com/hydro-smhi/description          </td><td>[ei,monthly,SMHI,operational]                                </td><td># netcdf                                                     </td></tr>\n",
       "\t<tr><td>od-daily                                                     </td><td>https://catalog.terradue.com/hydro-smhi/description          </td><td>[od,daily,SMHI,operational]                                  </td><td># netcdf                                                     </td></tr>\n",
       "\t<tr><td>od-monthly                                                   </td><td>https://catalog.terradue.com/hydro-smhi/description          </td><td>[od,monthly,SMHI,operational]                                </td><td># netcdf                                                     </td></tr>\n",
       "\t<tr><td>ecoper                                                       </td><td>https://catalog.terradue.com/hydro-smhi/description          </td><td>[ecoper,SMHI,operational]                                    </td><td># netcdf                                                     </td></tr>\n",
       "</tbody>\n",
       "</table>\n"
      ],
      "text/latex": [
       "\\begin{tabular}{r|llll}\n",
       " subdir & url & querypattern & info\\\\\n",
       "\\hline\n",
       "\t model-data                                                    & https://recast.terradue.com/t2api/search/hydro-smhi/models    & ?uid=9CE420998D9EC367470EEAEEA6B6DA0B0E4604D2                 & \\# zip-file. niger-hype v2.23 and gfd obs.                  \\\\\n",
       "\t model-data-old-url                                            & https://store.terradue.com/hydro-smhi/fanfar/model/niger-hype &                                                               & \\# stop using. not zip-file. niger-hype v2.23 and gfd obs.  \\\\\n",
       "\t hydrogfdei                                                    & https://catalog.terradue.com/hydro-smhi/description           & {[}hydrogfdei,SMHI,operational{]}                             & \\# netcdf                                                   \\\\\n",
       "\t hydrogfdod                                                    & https://catalog.terradue.com/hydro-smhi/description           & {[}hydrogfdod,SMHI,operational{]}                             & \\# netcdf                                                   \\\\\n",
       "\t ei-monthly                                                    & https://catalog.terradue.com/hydro-smhi/description           & {[}ei,monthly,SMHI,operational{]}                             & \\# netcdf                                                   \\\\\n",
       "\t od-daily                                                      & https://catalog.terradue.com/hydro-smhi/description           & {[}od,daily,SMHI,operational{]}                               & \\# netcdf                                                   \\\\\n",
       "\t od-monthly                                                    & https://catalog.terradue.com/hydro-smhi/description           & {[}od,monthly,SMHI,operational{]}                             & \\# netcdf                                                   \\\\\n",
       "\t ecoper                                                        & https://catalog.terradue.com/hydro-smhi/description           & {[}ecoper,SMHI,operational{]}                                 & \\# netcdf                                                   \\\\\n",
       "\\end{tabular}\n"
      ],
      "text/markdown": [
       "\n",
       "| subdir | url | querypattern | info |\n",
       "|---|---|---|---|\n",
       "| model-data                                                    | https://recast.terradue.com/t2api/search/hydro-smhi/models    | ?uid=9CE420998D9EC367470EEAEEA6B6DA0B0E4604D2                 | # zip-file. niger-hype v2.23 and gfd obs.                     |\n",
       "| model-data-old-url                                            | https://store.terradue.com/hydro-smhi/fanfar/model/niger-hype |                                                               | # stop using. not zip-file. niger-hype v2.23 and gfd obs.     |\n",
       "| hydrogfdei                                                    | https://catalog.terradue.com/hydro-smhi/description           | [hydrogfdei,SMHI,operational]                                 | # netcdf                                                      |\n",
       "| hydrogfdod                                                    | https://catalog.terradue.com/hydro-smhi/description           | [hydrogfdod,SMHI,operational]                                 | # netcdf                                                      |\n",
       "| ei-monthly                                                    | https://catalog.terradue.com/hydro-smhi/description           | [ei,monthly,SMHI,operational]                                 | # netcdf                                                      |\n",
       "| od-daily                                                      | https://catalog.terradue.com/hydro-smhi/description           | [od,daily,SMHI,operational]                                   | # netcdf                                                      |\n",
       "| od-monthly                                                    | https://catalog.terradue.com/hydro-smhi/description           | [od,monthly,SMHI,operational]                                 | # netcdf                                                      |\n",
       "| ecoper                                                        | https://catalog.terradue.com/hydro-smhi/description           | [ecoper,SMHI,operational]                                     | # netcdf                                                      |\n",
       "\n"
      ],
      "text/plain": [
       "  subdir            \n",
       "1 model-data        \n",
       "2 model-data-old-url\n",
       "3 hydrogfdei        \n",
       "4 hydrogfdod        \n",
       "5 ei-monthly        \n",
       "6 od-daily          \n",
       "7 od-monthly        \n",
       "8 ecoper            \n",
       "  url                                                          \n",
       "1 https://recast.terradue.com/t2api/search/hydro-smhi/models   \n",
       "2 https://store.terradue.com/hydro-smhi/fanfar/model/niger-hype\n",
       "3 https://catalog.terradue.com/hydro-smhi/description          \n",
       "4 https://catalog.terradue.com/hydro-smhi/description          \n",
       "5 https://catalog.terradue.com/hydro-smhi/description          \n",
       "6 https://catalog.terradue.com/hydro-smhi/description          \n",
       "7 https://catalog.terradue.com/hydro-smhi/description          \n",
       "8 https://catalog.terradue.com/hydro-smhi/description          \n",
       "  querypattern                                 \n",
       "1 ?uid=9CE420998D9EC367470EEAEEA6B6DA0B0E4604D2\n",
       "2                                              \n",
       "3 [hydrogfdei,SMHI,operational]                \n",
       "4 [hydrogfdod,SMHI,operational]                \n",
       "5 [ei,monthly,SMHI,operational]                \n",
       "6 [od,daily,SMHI,operational]                  \n",
       "7 [od,monthly,SMHI,operational]                \n",
       "8 [ecoper,SMHI,operational]                    \n",
       "  info                                                     \n",
       "1 # zip-file. niger-hype v2.23 and gfd obs.                \n",
       "2 # stop using. not zip-file. niger-hype v2.23 and gfd obs.\n",
       "3 # netcdf                                                 \n",
       "4 # netcdf                                                 \n",
       "5 # netcdf                                                 \n",
       "6 # netcdf                                                 \n",
       "7 # netcdf                                                 \n",
       "8 # netcdf                                                 "
      ]
     },
     "metadata": {},
     "output_type": "display_data"
    },
    {
     "name": "stderr",
     "output_type": "stream",
     "text": [
      "model-data at row index:1\n",
      "od-daily at row index:6\n"
     ]
    }
   ],
   "source": [
    "## Read the main input\n",
    "## This is the reference link to the model configuration\n",
    "\n",
    "# print\n",
    "rciop.log(\"INFO\", paste(\"Processing input:\", input2, sep=\" \"))\n",
    "\n",
    "# Query the input reference\n",
    "message(paste(\"opensearch-client '\",input2,\"' enclosure\", sep=\"\"))\n",
    "opensearchCmd=paste(\"opensearch-client '\",input2,\"' enclosure\")\n",
    "input_enclosure <- system(command = opensearchCmd,intern = T)\n",
    "rciop.log(\"INFO\", input_enclosure)\n",
    "\n",
    "# Download the dir(s)\n",
    "model_config_dir <- rciop.copy(input_enclosure, TMPDIR, uncompress=TRUE)\n",
    "\n",
    "if (model_config_dir$exit.code==0) {\n",
    "    local.model_config_dir <- model_config_dir$output\n",
    "}\n",
    "local.model_config_dir # File or directory, complete path incl.\n",
    "# Content for now:\n",
    "# info-forecast.txt - config file for Hype model\n",
    "\n",
    "#if (local.model_config_dir == \"\" || local.model_config_dir == NULL) {\n",
    "#    message(\"No model config path...\")\n",
    "#    q(99)\n",
    "#}\n",
    "\n",
    "model_config_file <- \"dependencies.txt\" # Shall be parsed to get different config items\n",
    "# tmpdir/niger-hype-model-2.23/ # Currently for now:\n",
    "# - dependencies.txt # Config for GFD-files etc.\n",
    "# - info-forecast.txt # Hype config file\n",
    "\n",
    "\n",
    "path_to_file <- paste(local.model_config_dir, model_config_file, sep=\"/\")\n",
    "path_to_file\n",
    "# Read contents of file, handling separators ';'.\n",
    "model_config_data <- read.csv2(path_to_file, header=FALSE, sep=\";\")\n",
    "#class(model_config_data) # data.frame\n",
    "#dim(model_config_data) # 6,3 (rows,cols)\n",
    "# Add column names\n",
    "names(model_config_data) <- c('subdir','url','querypattern','info')\n",
    "model_config_data\n",
    "# Select column by name\n",
    "#model_config_data[,'query-pattern'] # all rows, col 3 ok\n",
    "#model_config_data[,c('subdir','querypattern')] # all rows, multiple columns ok\n",
    "\n",
    "#model_config_data$subdir\n",
    "#model_config_data[3,'subdir']\n",
    "# Iterate over each row to locate e.g. sub directory, od-daily, to use column data\n",
    "for (r in 1:nrow(model_config_data)) { #  if statement below not works\n",
    "    subdir <- model_config_data[r,'subdir']\n",
    "    if (subdir == 'od-daily') {\n",
    "        message(paste0(\"od-daily at row index:\", r))\n",
    "    }\n",
    "    if (subdir == 'model-data') {\n",
    "        message(paste0(\"model-data at row index:\", r))\n",
    "    }\n",
    "}"
   ]
  },
  {
   "cell_type": "code",
   "execution_count": 40,
   "metadata": {},
   "outputs": [
    {
     "name": "stderr",
     "output_type": "stream",
     "text": [
      "model-data at row index:1\n",
      "opensearch-client 'https://recast.terradue.com/t2api/search/hydro-smhi/models?uid=9CE420998D9EC367470EEAEEA6B6DA0B0E4604D2' enclosure\n"
     ]
    },
    {
     "name": "stdout",
     "output_type": "stream",
     "text": [
      "[1] \" -o /workspace/tmpdir https://store.terradue.com/hydro-smhi/models/niger-hype-data.zip\"\n"
     ]
    },
    {
     "data": {
      "text/html": [
       "'/workspace/tmpdir/niger-hype-data'"
      ],
      "text/latex": [
       "'/workspace/tmpdir/niger-hype-data'"
      ],
      "text/markdown": [
       "'/workspace/tmpdir/niger-hype-data'"
      ],
      "text/plain": [
       "[1] \"/workspace/tmpdir/niger-hype-data\""
      ]
     },
     "metadata": {},
     "output_type": "display_data"
    }
   ],
   "source": [
    "## Read the Hype data dirs\n",
    "## This code continues to retrieve the data dirs (rciop.copy)\n",
    "## Other R code not yet updated to handle paths (file copy from tmp dir to run dir etc.) instead of urls.\n",
    "\n",
    "# print\n",
    "#rciop.log(\"INFO\", paste(\"Processing config for model data:\", input2, sep=\" \"))\n",
    "rciop.log(\"INFO\", \"Processing config for model data\")\n",
    "\n",
    "rowIndex=0\n",
    "for (r in 1:nrow(model_config_data)) {\n",
    "    subdir <- model_config_data[r,'subdir']\n",
    "    if (subdir == 'model-data') {\n",
    "        rowIndex=r\n",
    "        message(paste0(\"model-data at row index:\", r))\n",
    "    }\n",
    "}\n",
    "if (rowIndex == 0) {\n",
    "    q(98)\n",
    "}\n",
    "#subdir <- model_config_data[rowIndex,'subdir']\n",
    "url <- model_config_data[rowIndex,'url']\n",
    "query <- model_config_data[rowIndex,'querypattern']\n",
    "#comment <- model_config_data[rowIndex,'info']\n",
    "\n",
    "# For now, if needed, pass url from model_config_data['model-data-old-url'] to let present R code continue rciop.copy locally.\n",
    "\n",
    "# Query the input reference\n",
    "message(paste(\"opensearch-client '\",url,query,\"' enclosure\", sep=\"\"))\n",
    "opensearchCmd=paste(\"opensearch-client '\",url,query,\"' enclosure\")\n",
    "input_enclosure <- system(command = opensearchCmd,intern = T)\n",
    "rciop.log(\"INFO\", input_enclosure)\n",
    "\n",
    "# Download the dir(s)\n",
    "model_data_dirs <- rciop.copy(input_enclosure, TMPDIR, uncompress=TRUE)\n",
    "\n",
    "if (model_data_dirs$exit.code==0) {\n",
    "    local.dir <- model_data_dirs$output\n",
    "}\n",
    "local.dir # File or directory, complete path incl.\n",
    "# tmpdir/niger-hype-data/\n",
    "# - data/gfd/archive/Pobs.txt, TMAXobs.txt, TMINobs.txt, Tobs.txt\n",
    "# - v2.23/....... root dir for forcingarchive, shapefiles, statefiles etc.\n",
    "# This/These path(s) shall be passed to getHypeAppSetup as dir, now urls that it currently downloads - now already downloaded...\n",
    "# No file to parse etc. only pass path to the R-get functions\n"
   ]
  },
  {
   "cell_type": "code",
   "execution_count": 30,
   "metadata": {},
   "outputs": [],
   "source": [
    "# opensearch for netcdf files:\n"
   ]
  },
  {
   "cell_type": "raw",
   "metadata": {},
   "source": [
    "Search for netcdf files, with dates from input (webpage/app) as opensearch query parameters.\n",
    "Check that expected gfd files for that time interval are located in the catalogue.\n",
    "Add code to retreive pr,tas,tasmin,tasmax to test that its downloaded locally (other code in netcdf2obs will do this at a later time).\n",
    "Summary:\n",
    "To be able to call netcdf2obs function, some of these parameters need to be available (input from user and gfd urls from config object)."
   ]
  },
  {
   "cell_type": "raw",
   "metadata": {},
   "source": [
    "Some query examples:\n",
    "opensearch-client 'https://catalog.terradue.com/hydro-smhi/description' -p count=unlimited -p cat=[ecoper,tas] -p start='201903' -p stop='201905'  enclosure,identifier\n",
    "opensearch-client 'https://catalog.terradue.com/hydro-smhi/description' -p count=unlimited -p cat=[ecoper,tas] -p start='2019-03' -p stop='2019-05'  enclosure,identifier\n",
    "opensearch-client 'https://catalog.terradue.com/hydro-smhi/description' -p count=unlimited -p cat=[ecoper,tas] -p start='2019-03-01' -p stop='2019-05-31'  enclosure,identifier\n",
    "opensearch-client 'https://catalog.terradue.com/hydro-smhi/description' -p count=unlimited -p cat=[ecoper,tas] -p start='2019-03-01T00:00:00' -p stop='2019-05-31T00:00:00'  enclosure,identifier\n",
    "opensearch-client 'https://catalog.terradue.com/hydro-smhi/description' -p count=unlimited -p cat=[ecoper,tas] -p start=2019-03-01 -p stop=2019-05-31  enclosure,identifier\n",
    "opensearch-client 'https://catalog.terradue.com/hydro-smhi/description' -p count=unlimited -p start=2019-03-01 -p stop=2019-05-31  enclosure,identifier\n",
    "opensearch-client 'https://catalog.terradue.com/hydro-smhi/description' -p count=unlimited -p=cat -p start=2019-03-01 -p stop=2019-03-31  enclosure,identifier\n",
    "opensearch-client 'https://catalog.terradue.com/hydro-smhi/description' -p count=unlimited -p start=2019-03-01 -p stop=2019-03-31  enclosure,identifier\n",
    "opensearch-client 'https://catalog.terradue.com/hydro-smhi/description' -p count=unlimited -p cat=ecoper -p start=2019-03-01 -p stop=2019-03-31  enclosure,identifier\n",
    "opensearch-client 'https://catalog.terradue.com/hydro-smhi/description' -p count=unlimited -p cat=[ecoper] -p start=2019-03-01 -p stop=2019-03-31  enclosure,identifier\n",
    "opensearch-client 'https://catalog.terradue.com/hydro-smhi/description' -p count=unlimited -p cat=[hydrogfdod] -p start=2019-03-01 -p stop=2019-03-31  enclosure,identifier\n",
    "opensearch-client 'https://recast.terradue.com/t2api/search/hydro-smhi/models' enclosure,identifier\n",
    "opensearch-client 'https://catalog.terradue.com/hydro-smhi/description' enclosure,identifier\n",
    "opensearch-client 'https://catalog.terradue.com/hydro-smhi/description' enclosure,identifier -p cat=[SMHI]\n",
    "opensearch-client 'https://catalog.terradue.com/hydro-smhi/description' enclosure,identifier -p cat=[SMHI,operational]\n",
    "#opensearch-client 'https://catalog.terradue.com/hydro-smhi/description' -p count=unlimited -p cat=[hydrogfdod] -p start=2019-03-01 -p stop=2019-03-31  enclosure,identifier\n",
    "opensearch-client 'https://catalog.terradue.com/hydro-smhi/description' enclosure,identifier -p count=unlimited -p cat=[SMHI,operational]\n",
    "opensearch-client 'https://catalog.terradue.com/hydro-smhi/description' enclosure,identifier -p count=unlimited -p cat=[SMHI,operational,daily]\n",
    "opensearch-client 'https://catalog.terradue.com/hydro-smhi/description' enclosure,identifier -p count=unlimited -p cat=[SMHI,operational,daily,ei]\n",
    "opensearch-client 'https://catalog.terradue.com/hydro-smhi/description' enclosure,identifier -p count=unlimited -p cat=[SMHI,operational,daily,od]\n",
    "opensearch-client 'https://catalog.terradue.com/hydro-smhi/description' enclosure,identifier -p count=unlimited -p cat=[SMHI,operational,monthly,od]\n",
    "opensearch-client 'https://catalog.terradue.com/hydro-smhi/description' enclosure,identifier -p count=unlimited -p cat=[SMHI,operational,monthly,ei]\n",
    "opensearch-client 'https://catalog.terradue.com/hydro-smhi/description' enclosure,identifier -p count=unlimited -p cat=[models]\n",
    "opensearch-client 'https://catalog.terradue.com/hydro-smhi/description' enclosure,identifier -p count=unlimited -p cat=[model]\n",
    "opensearch-client 'https://catalog.terradue.com/hydro-smhi/description' enclosure,identifier -p count=unlimited -p cat=[fanfar]\n"
   ]
  },
  {
   "cell_type": "code",
   "execution_count": 38,
   "metadata": {},
   "outputs": [
    {
     "name": "stderr",
     "output_type": "stream",
     "text": [
      "https://store.terradue.com/hydro-smhi/fanfar/Operational/od-daily/2019/09/tasmin_od-daily_20190910_fanfar_SMHI.nchttps://store.terradue.com/hydro-smhi/fanfar/Operational/od-daily/2019/09/pr_od-daily_20190910_fanfar_SMHI.nchttps://store.terradue.com/hydro-smhi/fanfar/Operational/od-daily/2019/09/tas_od-daily_20190910_fanfar_SMHI.nchttps://store.terradue.com/hydro-smhi/fanfar/Operational/od-daily/2019/09/tasmax_od-daily_20190910_fanfar_SMHI.nchttps://store.terradue.com/hydro-smhi/fanfar/Operational/od-daily/2019/09/tasmax_od-daily_20190909_fanfar_SMHI.nchttps://store.terradue.com/hydro-smhi/fanfar/Operational/od-daily/2019/09/pr_od-daily_20190909_fanfar_SMHI.nchttps://store.terradue.com/hydro-smhi/fanfar/Operational/od-daily/2019/09/tasmin_od-daily_20190909_fanfar_SMHI.nchttps://store.terradue.com/hydro-smhi/fanfar/Operational/od-daily/2019/09/tas_od-daily_20190909_fanfar_SMHI.nc\n",
      "Warning message in dir.create(nc_tmpdir):\n",
      "“'/workspace/tmpdir/nc-files' already exists”"
     ]
    },
    {
     "name": "stdout",
     "output_type": "stream",
     "text": [
      "[1] \" -o /workspace/tmpdir/nc-files https://store.terradue.com/hydro-smhi/fanfar/Operational/od-daily/2019/09/tasmin_od-daily_20190910_fanfar_SMHI.nc\"\n",
      "[1] \" -o /workspace/tmpdir/nc-files https://store.terradue.com/hydro-smhi/fanfar/Operational/od-daily/2019/09/pr_od-daily_20190910_fanfar_SMHI.nc\"\n",
      "[1] \" -o /workspace/tmpdir/nc-files https://store.terradue.com/hydro-smhi/fanfar/Operational/od-daily/2019/09/tas_od-daily_20190910_fanfar_SMHI.nc\"\n",
      "[1] \" -o /workspace/tmpdir/nc-files https://store.terradue.com/hydro-smhi/fanfar/Operational/od-daily/2019/09/tasmax_od-daily_20190910_fanfar_SMHI.nc\"\n",
      "[1] \" -o /workspace/tmpdir/nc-files https://store.terradue.com/hydro-smhi/fanfar/Operational/od-daily/2019/09/tasmax_od-daily_20190909_fanfar_SMHI.nc\"\n",
      "[1] \" -o /workspace/tmpdir/nc-files https://store.terradue.com/hydro-smhi/fanfar/Operational/od-daily/2019/09/pr_od-daily_20190909_fanfar_SMHI.nc\"\n",
      "[1] \" -o /workspace/tmpdir/nc-files https://store.terradue.com/hydro-smhi/fanfar/Operational/od-daily/2019/09/tasmin_od-daily_20190909_fanfar_SMHI.nc\"\n",
      "[1] \" -o /workspace/tmpdir/nc-files https://store.terradue.com/hydro-smhi/fanfar/Operational/od-daily/2019/09/tas_od-daily_20190909_fanfar_SMHI.nc\"\n"
     ]
    }
   ],
   "source": [
    "# Query the input reference\n",
    "#opensearchCmd=paste(\"opensearch-client 'https://catalog.terradue.com/hydro-smhi/description' -p 'count=unlimited' -p 'cat=[SMHI,operational,daily,od]' -p 'start=2019-03-01' -p 'stop=2019-03-01' enclosure,identifier\")\n",
    "# Gives a lot of urls to files, test with e.g. count=4 (for the 4 lastest?)\n",
    "\n",
    "# When time to perform the download, only use enclosure skip identifier etc.\n",
    "opensearchCmd=paste(\"opensearch-client 'https://catalog.terradue.com/hydro-smhi/description' -p 'count=8' -p 'cat=[SMHI,operational,daily,od]' -p 'start=2019-03-01' -p 'stop=2019-03-01' enclosure\")\n",
    "# Less? Yes, Correct? Count = 4 gives me urls/files for 2019-09-10 at this time, hmm...\n",
    "\n",
    "# Search\n",
    "input_enclosure <- system(command = opensearchCmd,intern = T) # Gives a lot of urls to files, test with e.g. count=4 (for the 4 lastest?)\n",
    "# Print\n",
    "message(input_enclosure)\n",
    "\n",
    "if (length(input_enclosure >= 1)) {\n",
    "    nc_tmpdir <- paste(TMPDIR,\"nc-files\",sep=\"/\")\n",
    "    dir.create(nc_tmpdir)\n",
    "    for (url in 1:length(input_enclosure)) {\n",
    "        rciop.copy(input_enclosure[url],nc_tmpdir) # Retreived 4 files, but incorrect date as seen before.\n",
    "    }\n",
    "}"
   ]
  },
  {
   "cell_type": "code",
   "execution_count": null,
   "metadata": {},
   "outputs": [],
   "source": []
  }
 ],
 "metadata": {
  "kernelspec": {
   "display_name": "R",
   "language": "R",
   "name": "ir"
  },
  "language_info": {
   "codemirror_mode": "r",
   "file_extension": ".r",
   "mimetype": "text/x-r-source",
   "name": "R",
   "pygments_lexer": "r",
   "version": "3.6.1"
  }
 },
 "nbformat": 4,
 "nbformat_minor": 2
}
