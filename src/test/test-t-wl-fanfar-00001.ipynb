{
 "cells": [
  {
   "cell_type": "markdown",
   "metadata": {},
   "source": [
    "## 0. Environment Setup\n",
    "We create a smiliar environemnt that simulate the inputs and variables as per in ciop jobs"
   ]
  },
  {
   "cell_type": "code",
   "execution_count": 64,
   "metadata": {},
   "outputs": [
    {
     "data": {
      "text/html": [
       "'/workspace/tmpdir'"
      ],
      "text/latex": [
       "'/workspace/tmpdir'"
      ],
      "text/markdown": [
       "'/workspace/tmpdir'"
      ],
      "text/plain": [
       "[1] \"/workspace/tmpdir\""
      ]
     },
     "metadata": {},
     "output_type": "display_data"
    }
   ],
   "source": [
    "#old input1='https://recast.terradue.com/t2api/search/hydro-smhi/models?uid=230286758E25FD953AF736DE85F01CDF9C539EC7' #niger-hype-model.zip, one file when unzipped\n",
    "#old input2='https://recast.terradue.com/t2api/search/hydro-smhi/models?uid=9345ED73B72F49E6FF31B07B57013BC519210E24' #niger-hype-model-2.23.zip, one dir when unzipped\n",
    "input2='https://recast.terradue.com/t2api/search/hydro-smhi/models?uid=9345ED73B72F49E6FF31B07B57013BC519210E24' #niger-hype-model-2.23.zip, one dir when unzipped\n",
    "#use this from model.zip instead  input_hype_data='https://recast.terradue.com/t2api/search/hydro-smhi/models?uid=9CE420998D9EC367470EEAEEA6B6DA0B0E4604D2' #niger-hype-data.zip, dirs when unzipped\n",
    "TMPDIR=\"/workspace/tmpdir\"\n",
    "TMPDIR"
   ]
  },
  {
   "cell_type": "markdown",
   "metadata": {},
   "source": [
    "1. Read input model\n",
    "This inital step collect via proper opensearch call and copy the HYPE model config archive"
   ]
  },
  {
   "cell_type": "code",
   "execution_count": 65,
   "metadata": {},
   "outputs": [],
   "source": [
    "app.date = format(Sys.time(), \"%Y%m%d_%H%M\")\n",
    "\n",
    "## set application name\n",
    "app.name = \"forecast\"\n",
    "## ------------------------------------------------------------------------------\n",
    "## flag which environment is used, if not set\n",
    "if(!exists(\"app.sys\")){\n",
    "    app.sys =\"tep\"\n",
    "    }\n",
    "## ------------------------------------------------------------------------------\n",
    "## load rciop package and set working directory to TMPDIR when running on TEP \n",
    "if(app.sys==\"tep\"){\n",
    "    library(\"rciop\")\n",
    "\n",
    "    rciop.log (\"DEBUG\", \" *** hypeapps-forecast *** TEP hydrological modelling applications ***\", \"/node_forecast/run.R\")\n",
    "    rciop.log (\"DEBUG\", \" rciop library loaded\", \"/node_forecast/run.R\")\n",
    "\n",
    "    setwd(TMPDIR)\n",
    "    rciop.log(\"DEBUG\", paste(\" R session working directory set to \",TMPDIR,sep=\"\"), \"/node_forecast/run.R\")\n",
    "}"
   ]
  },
  {
   "cell_type": "markdown",
   "metadata": {},
   "source": [
    "Some rciop functions may need to be overridden in the notebook environment.\n",
    "Set to your current needs."
   ]
  },
  {
   "cell_type": "code",
   "execution_count": 66,
   "metadata": {},
   "outputs": [],
   "source": [
    "ENABLE_STUB_RCIOP_LOG <- FALSE\n",
    "#ENABLE_STUB_RCIOP_LOG <- TRUE\n",
    "\n",
    "if (ENABLE_STUB_RCIOP_LOG == TRUE) {\n",
    "    message(\"rciop.log() overridden by local stub function...\")\n",
    "    \n",
    "    rciop.log <- function(type, message, proc='') {\n",
    "\n",
    "        type <- type\n",
    "        msg <- message\n",
    "    if (proc=='') { proc <- \"user process\" }\n",
    "\n",
    "    out.msg <- paste(format(Sys.time(), format=\"%Y-%m-%dT%H:%M:%S\"), \"[\", type, \"][\", proc, \"] \", msg, sep=\"\")\n",
    "\n",
    "    message(out.msg)\n",
    "    } # rciop.log\n",
    "\n",
    "} # end stub"
   ]
  },
  {
   "cell_type": "code",
   "execution_count": 67,
   "metadata": {},
   "outputs": [
    {
     "name": "stderr",
     "output_type": "stream",
     "text": [
      "rciop.getparam() overridden by local stub function...\n"
     ]
    }
   ],
   "source": [
    "#ENABLE_STUB_RCIOP_GETPARAM <- FALSE\n",
    "ENABLE_STUB_RCIOP_GETPARAM <- TRUE\n",
    "\n",
    "if (ENABLE_STUB_RCIOP_GETPARAM == TRUE) {\n",
    "    message(\"rciop.getparam() overridden by local stub function...\")\n",
    "    # Change according to your test objective.\n",
    "    # Would normally return values defined in application.xml for specified ids'.\n",
    "    \n",
    "    rciop.getparam <- function(id) {\n",
    "        value <- NULL # or \"\"\n",
    "        \n",
    "        if (id == \"model\") {\n",
    "            value <- \"https://recast.terradue.com/t2api/search/hydro-smhi/models?uid=230286758E25FD953AF736DE85F01CDF9C539EC7\"\n",
    "        }\n",
    "        else if (id == \"idate\" ) {\n",
    "            value <- \"2018-09-01\"\n",
    "        }\n",
    "        else {\n",
    "            message(\"rciop.get_param:id not found...\")\n",
    "        }\n",
    "        \n",
    "        return (value)\n",
    "    } # rciop.getparam\n",
    "\n",
    "} # end stub"
   ]
  },
  {
   "cell_type": "markdown",
   "metadata": {},
   "source": [
    "Add your code to test...\n",
    "Remove current, or paste other code or add additional code blocks."
   ]
  },
  {
   "cell_type": "markdown",
   "metadata": {},
   "source": [
    "WL"
   ]
  },
  {
   "cell_type": "code",
   "execution_count": 135,
   "metadata": {},
   "outputs": [],
   "source": [
    "# opensearch-client -p 'count=unlimited' -p 'cat=dataitem' \"https://catalog.terradue.com/fanfar-00001/search\" enclosure\n",
    "#wl_query <- 'opensearch-client -p 'count=unlimited' -p 'cat=dataitem' \"https://catalog.terradue.com/fanfar-00001/search\"'"
   ]
  },
  {
   "cell_type": "code",
   "execution_count": 185,
   "metadata": {},
   "outputs": [
    {
     "name": "stdout",
     "output_type": "stream",
     "text": [
      "[1] \" -o /workspace/tmpdir/wl/1 https://store.terradue.com/fanfar-00001/_results/workflows/hydrology_tep_dcs_water_level_water_levels_4_0/run/9a839bb4-dad5-11e9-a7fe-0242ac110013/0006146-190709150342599-oozie-oozi-W/waterlevel.csv\"\n",
      "[1] \" -o /workspace/tmpdir/wl/2 https://store.terradue.com/fanfar-00001/_results/workflows/hydrology_tep_dcs_water_level_water_levels_4_0/run/9bfdbf6a-dad5-11e9-9110-0242ac110013/0006147-190709150342599-oozie-oozi-W/waterlevel.csv\"\n",
      "[1] \" -o /workspace/tmpdir/wl/3 https://store.terradue.com/fanfar-00001/_results/workflows/hydrology_tep_dcs_water_level_water_levels_4_0/run/e9d1db30-dacc-11e9-bbdc-0242ac110013/0006125-190709150342599-oozie-oozi-W/waterlevel.csv\"\n",
      "[1] \" -o /workspace/tmpdir/wl/4 https://store.terradue.com/fanfar-00001/_results/workflows/hydrology_tep_dcs_water_level_water_levels_4_0/run/2a59bd5c-db4b-11e9-b85b-0242ac110013/0006326-190709150342599-oozie-oozi-W/waterlevel.csv\"\n",
      "[1] \" -o /workspace/tmpdir/wl/5 https://store.terradue.com/fanfar-00001/_results/workflows/hydrology_tep_dcs_water_level_water_levels_4_0/run/ab506406-db7d-11e9-8a28-0242ac110013/0006408-190709150342599-oozie-oozi-W/waterlevel.csv\"\n",
      "[1] \" -o /workspace/tmpdir/wl/6 https://store.terradue.com/fanfar-00001/_results/workflows/hydrology_tep_dcs_water_level_water_levels_4_0/run/fe86ce4a-dbea-11e9-ae41-0242ac110013/0006578-190709150342599-oozie-oozi-W/waterlevel.csv\"\n",
      "[1] \" -o /workspace/tmpdir/wl/7 https://store.terradue.com/fanfar-00001/_results/workflows/hydrology_tep_dcs_water_level_water_levels_4_0/run/ab7be506-dc0c-11e9-a9fe-0242ac110013/0006626-190709150342599-oozie-oozi-W/waterlevel.csv\"\n",
      "[1] \" -o /workspace/tmpdir/wl/8 https://store.terradue.com/fanfar-00001/_results/workflows/hydrology_tep_dcs_water_level_water_levels_4_0/run/acf82e4e-dc0c-11e9-bd37-0242ac110013/0006627-190709150342599-oozie-oozi-W/waterlevel.csv\"\n",
      "[1] \" -o /workspace/tmpdir/wl/9 https://store.terradue.com/fanfar-00001/_results/workflows/hydrology_tep_dcs_water_level_water_levels_4_0/run/aa2a712a-db7d-11e9-9e6a-0242ac110013/0006407-190709150342599-oozie-oozi-W/waterlevel.csv\"\n",
      "[1] \" -o /workspace/tmpdir/wl/10 https://store.terradue.com/fanfar-00001/_results/workflows/hydrology_tep_dcs_water_level_water_levels_4_0/run/a8c17f18-db7d-11e9-9a0f-0242ac110013/0006406-190709150342599-oozie-oozi-W/waterlevel.csv\"\n",
      "[1] \" -o /workspace/tmpdir/wl/11 https://store.terradue.com/fanfar-00001/_results/workflows/hydrology_tep_dcs_water_level_water_levels_4_0/run/a79ebde4-db7d-11e9-afab-0242ac110013/0006405-190709150342599-oozie-oozi-W/waterlevel.csv\"\n",
      "[1] \" -o /workspace/tmpdir/wl/12 https://store.terradue.com/fanfar-00001/_results/workflows/hydrology_tep_dcs_water_level_water_levels_4_0/run/acc01f16-db7d-11e9-b70a-0242ac110013/0006409-190709150342599-oozie-oozi-W/waterlevel.csv\"\n",
      "[1] \" -o /workspace/tmpdir/wl/13 https://store.terradue.com/fanfar-00001/_results/workflows/hydrology_tep_dcs_water_level_water_levels_4_0/run/abebedec-db53-11e9-a372-0242ac110013/0006338-190709150342599-oozie-oozi-W/waterlevel.csv\"\n",
      "[1] \" -o /workspace/tmpdir/wl/14 https://store.terradue.com/fanfar-00001/_results/workflows/hydrology_tep_dcs_water_level_water_levels_4_0/run/328e3e80-db4b-11e9-bf98-0242ac110013/0006333-190709150342599-oozie-oozi-W/waterlevel.csv\"\n",
      "[1] \" -o /workspace/tmpdir/wl/15 https://store.terradue.com/fanfar-00001/_results/workflows/hydrology_tep_dcs_water_level_water_levels_4_0/run/31753e9a-db4b-11e9-a64c-0242ac110013/0006332-190709150342599-oozie-oozi-W/waterlevel.csv\"\n",
      "[1] \" -o /workspace/tmpdir/wl/16 https://store.terradue.com/fanfar-00001/_results/workflows/hydrology_tep_dcs_water_level_water_levels_4_0/run/b1331dca-db53-11e9-afba-0242ac110013/0006341-190709150342599-oozie-oozi-W/waterlevel.csv\"\n",
      "[1] \" -o /workspace/tmpdir/wl/17 https://store.terradue.com/fanfar-00001/_results/workflows/hydrology_tep_dcs_water_level_water_levels_4_0/run/6da2390e-db64-11e9-ab73-0242ac110013/0006364-190709150342599-oozie-oozi-W/waterlevel.csv\"\n",
      "[1] \" -o /workspace/tmpdir/wl/18 https://store.terradue.com/fanfar-00001/_results/workflows/hydrology_tep_dcs_water_level_water_levels_4_0/run/e22462f0-dbc0-11e9-a1f2-0242ac110013/0006515-190709150342599-oozie-oozi-W/waterlevel.csv\"\n",
      "[1] \" -o /workspace/tmpdir/wl/19 https://store.terradue.com/fanfar-00001/_results/workflows/hydrology_tep_dcs_water_level_water_levels_4_0/run/ae70fa6c-dc0c-11e9-8d49-0242ac110013/0006628-190709150342599-oozie-oozi-W/waterlevel.csv\"\n",
      "[1] \" -o /workspace/tmpdir/wl/20 https://store.terradue.com/fanfar-00001/_results/workflows/hydrology_tep_dcs_water_level_water_levels_4_0/run/c85f7a22-db42-11e9-8559-0242ac110013/0006318-190709150342599-oozie-oozi-W/waterlevel.csv\"\n"
     ]
    }
   ],
   "source": [
    "#rciop.log(\"INFO\", paste(\"Processing WL:\", , sep=\" \"))\n",
    "\n",
    "# Query the input reference\n",
    "#message(paste(\"opensearch-client '\",url_wl_query,\"' enclosure\", sep=\"\"))\n",
    "#opensearchCmd=paste(\"opensearch-client -p 'count=unlimited' -p 'cat=dataitem' \"https://catalog.terradue.com/fanfar-00001/search\" enclosure\")\n",
    "opensearchCmd=paste(\"opensearch-client -p 'count=5' -p 'cat=dataitem' 'https://catalog.terradue.com/fanfar-00001/search' enclosure\")\n",
    "input_enclosure <- system(command = opensearchCmd,intern = T)\n",
    "if (length(input_enclosure > 1)) {\n",
    "    #subdir <- 1\n",
    "    n_url <- 0\n",
    "\n",
    "    r_tmpdir <- paste(TMPDIR,\"wl\",sep=\"/\")\n",
    "    dir.create(r_tmpdir)\n",
    "\n",
    "    for (url in 1:length(input_enclosure)) {\n",
    "        #ok rciop.copy(paste0(input_enclosure[url], \"/waterlevel.csv\"), TMPDIR)\n",
    "        #rciop.log(\"INFO\", paste0(TMPDIR,url, sep=\"/\"))\n",
    "        #rciop.log(\"INFO\", input_enclosure[url])\n",
    "        #message(input_enclosure[url])\n",
    "        #rciop.copy(paste0(input_enclosure[url], \"/waterlevel.csv\"), paste0(TMPDIR,str(subdir), sep=\"/\"))\n",
    "        \n",
    "        #re <- \"\\/\\[0\\-9a\\-zA\\-Z\\-\\]\\+\\$\"\n",
    "        #re <- \"\\\\[0-9a-zA-Z-\\\\]+W$\"\n",
    "        #re <- \"([^/]+)/?$\"\n",
    "        #re <- \"\"\n",
    "        #subdir <- regexpr(re, input_enclosure[url],perl=TRUE)\n",
    "        #subdir <- regexpr(\"\\\\/\\\\[0-9a-zA-Z-\\\\]\\\\+\\\\$\", input_enclosure[url])\n",
    "        #subdir <- regexpr(([^/]+)/?$, input_enclosure[url])\n",
    "        #subdir <- regexpr(\"[/^]+(?=/$|$)\", input_enclosure[url])\n",
    "        #subdir\n",
    "        #message(paste(TMPDIR,subdir,sep=\"/\"))\n",
    "        \n",
    "        #message(paste(TMPDIR,input_enclosure[url],sep=\"/\"))\n",
    "        #tmpdir <- paste(TMPDIR,input_enclosure[url],sep=\"/\")\n",
    "        #tmpdir <- TMPDIR\n",
    "        n_url <- n_url + 1\n",
    "        #tmpdir <- paste(TMPDIR,n_url,sep=\"/\")\n",
    "        #tmpdir <- paste(TMPDIR,\"wl\",sep=\"/\")\n",
    "        #dir.create(tmpdir)\n",
    "        tmpdir <- paste(r_tmpdir,n_url,sep=\"/\")\n",
    "        #message(tmpdir)\n",
    "        \n",
    "        dir.create(tmpdir)\n",
    "        url_wl <- paste(input_enclosure[url],\"waterlevel.csv\",sep=\"/\")\n",
    "        fh <- file(paste(tmpdir,\"info.txt\",sep=\"/\"))\n",
    "        write(input_enclosure[url], fh)\n",
    "        close(fh)\n",
    "        rciop.copy(url_wl,tmpdir)\n",
    "        #rciop.copy(url_wl,TMPDIR)\n",
    "        \n",
    "        #rciop.copy(input_enclosure[url],TMPDIR)\n",
    "        \n",
    "        #rciop.copy(paste0(input_enclosure[url], \"/waterlevel.csv\"), paste0(TMPDIR,str(subdir), sep=\"/\"))\n",
    "        # kolla om filen verkligen finns\n",
    "        #subdir <- subdir + 1\n",
    "    }\n",
    "}"
   ]
  },
  {
   "cell_type": "markdown",
   "metadata": {},
   "source": [
    "Same as above, but less text to manually change from json to when copying text from file later on."
   ]
  },
  {
   "cell_type": "code",
   "execution_count": 187,
   "metadata": {},
   "outputs": [
    {
     "name": "stdout",
     "output_type": "stream",
     "text": [
      "[1] \" -o /workspace/tmpdir/wl/1 https://store.terradue.com/fanfar-00001/_results/workflows/hydrology_tep_dcs_water_level_water_levels_4_0/run/9a839bb4-dad5-11e9-a7fe-0242ac110013/0006146-190709150342599-oozie-oozi-W/waterlevel.csv\"\n",
      "[1] \" -o /workspace/tmpdir/wl/2 https://store.terradue.com/fanfar-00001/_results/workflows/hydrology_tep_dcs_water_level_water_levels_4_0/run/9bfdbf6a-dad5-11e9-9110-0242ac110013/0006147-190709150342599-oozie-oozi-W/waterlevel.csv\"\n",
      "[1] \" -o /workspace/tmpdir/wl/3 https://store.terradue.com/fanfar-00001/_results/workflows/hydrology_tep_dcs_water_level_water_levels_4_0/run/e9d1db30-dacc-11e9-bbdc-0242ac110013/0006125-190709150342599-oozie-oozi-W/waterlevel.csv\"\n",
      "[1] \" -o /workspace/tmpdir/wl/4 https://store.terradue.com/fanfar-00001/_results/workflows/hydrology_tep_dcs_water_level_water_levels_4_0/run/2a59bd5c-db4b-11e9-b85b-0242ac110013/0006326-190709150342599-oozie-oozi-W/waterlevel.csv\"\n",
      "[1] \" -o /workspace/tmpdir/wl/5 https://store.terradue.com/fanfar-00001/_results/workflows/hydrology_tep_dcs_water_level_water_levels_4_0/run/ab506406-db7d-11e9-8a28-0242ac110013/0006408-190709150342599-oozie-oozi-W/waterlevel.csv\"\n",
      "[1] \" -o /workspace/tmpdir/wl/6 https://store.terradue.com/fanfar-00001/_results/workflows/hydrology_tep_dcs_water_level_water_levels_4_0/run/fe86ce4a-dbea-11e9-ae41-0242ac110013/0006578-190709150342599-oozie-oozi-W/waterlevel.csv\"\n",
      "[1] \" -o /workspace/tmpdir/wl/7 https://store.terradue.com/fanfar-00001/_results/workflows/hydrology_tep_dcs_water_level_water_levels_4_0/run/ab7be506-dc0c-11e9-a9fe-0242ac110013/0006626-190709150342599-oozie-oozi-W/waterlevel.csv\"\n",
      "[1] \" -o /workspace/tmpdir/wl/8 https://store.terradue.com/fanfar-00001/_results/workflows/hydrology_tep_dcs_water_level_water_levels_4_0/run/acf82e4e-dc0c-11e9-bd37-0242ac110013/0006627-190709150342599-oozie-oozi-W/waterlevel.csv\"\n",
      "[1] \" -o /workspace/tmpdir/wl/9 https://store.terradue.com/fanfar-00001/_results/workflows/hydrology_tep_dcs_water_level_water_levels_4_0/run/aa2a712a-db7d-11e9-9e6a-0242ac110013/0006407-190709150342599-oozie-oozi-W/waterlevel.csv\"\n",
      "[1] \" -o /workspace/tmpdir/wl/10 https://store.terradue.com/fanfar-00001/_results/workflows/hydrology_tep_dcs_water_level_water_levels_4_0/run/a8c17f18-db7d-11e9-9a0f-0242ac110013/0006406-190709150342599-oozie-oozi-W/waterlevel.csv\"\n",
      "[1] \" -o /workspace/tmpdir/wl/11 https://store.terradue.com/fanfar-00001/_results/workflows/hydrology_tep_dcs_water_level_water_levels_4_0/run/a79ebde4-db7d-11e9-afab-0242ac110013/0006405-190709150342599-oozie-oozi-W/waterlevel.csv\"\n",
      "[1] \" -o /workspace/tmpdir/wl/12 https://store.terradue.com/fanfar-00001/_results/workflows/hydrology_tep_dcs_water_level_water_levels_4_0/run/acc01f16-db7d-11e9-b70a-0242ac110013/0006409-190709150342599-oozie-oozi-W/waterlevel.csv\"\n",
      "[1] \" -o /workspace/tmpdir/wl/13 https://store.terradue.com/fanfar-00001/_results/workflows/hydrology_tep_dcs_water_level_water_levels_4_0/run/abebedec-db53-11e9-a372-0242ac110013/0006338-190709150342599-oozie-oozi-W/waterlevel.csv\"\n",
      "[1] \" -o /workspace/tmpdir/wl/14 https://store.terradue.com/fanfar-00001/_results/workflows/hydrology_tep_dcs_water_level_water_levels_4_0/run/328e3e80-db4b-11e9-bf98-0242ac110013/0006333-190709150342599-oozie-oozi-W/waterlevel.csv\"\n",
      "[1] \" -o /workspace/tmpdir/wl/15 https://store.terradue.com/fanfar-00001/_results/workflows/hydrology_tep_dcs_water_level_water_levels_4_0/run/31753e9a-db4b-11e9-a64c-0242ac110013/0006332-190709150342599-oozie-oozi-W/waterlevel.csv\"\n",
      "[1] \" -o /workspace/tmpdir/wl/16 https://store.terradue.com/fanfar-00001/_results/workflows/hydrology_tep_dcs_water_level_water_levels_4_0/run/b1331dca-db53-11e9-afba-0242ac110013/0006341-190709150342599-oozie-oozi-W/waterlevel.csv\"\n",
      "[1] \" -o /workspace/tmpdir/wl/17 https://store.terradue.com/fanfar-00001/_results/workflows/hydrology_tep_dcs_water_level_water_levels_4_0/run/6da2390e-db64-11e9-ab73-0242ac110013/0006364-190709150342599-oozie-oozi-W/waterlevel.csv\"\n",
      "[1] \" -o /workspace/tmpdir/wl/18 https://store.terradue.com/fanfar-00001/_results/workflows/hydrology_tep_dcs_water_level_water_levels_4_0/run/e22462f0-dbc0-11e9-a1f2-0242ac110013/0006515-190709150342599-oozie-oozi-W/waterlevel.csv\"\n",
      "[1] \" -o /workspace/tmpdir/wl/19 https://store.terradue.com/fanfar-00001/_results/workflows/hydrology_tep_dcs_water_level_water_levels_4_0/run/ae70fa6c-dc0c-11e9-8d49-0242ac110013/0006628-190709150342599-oozie-oozi-W/waterlevel.csv\"\n",
      "[1] \" -o /workspace/tmpdir/wl/20 https://store.terradue.com/fanfar-00001/_results/workflows/hydrology_tep_dcs_water_level_water_levels_4_0/run/c85f7a22-db42-11e9-8559-0242ac110013/0006318-190709150342599-oozie-oozi-W/waterlevel.csv\"\n"
     ]
    }
   ],
   "source": [
    "# Query the input reference\n",
    "#opensearchCmd=paste(\"opensearch-client -p 'count=unlimited' -p 'cat=dataitem' \"https://catalog.terradue.com/fanfar-00001/search\" enclosure\")\n",
    "opensearchCmd=paste(\"opensearch-client -p 'count=5' -p 'cat=dataitem' 'https://catalog.terradue.com/fanfar-00001/search' enclosure\")\n",
    "input_enclosure <- system(command = opensearchCmd,intern = T)\n",
    "if (length(input_enclosure > 1)) {\n",
    "    n_url <- 0\n",
    "\n",
    "    r_tmpdir <- paste(TMPDIR,\"wl\",sep=\"/\")\n",
    "    dir.create(r_tmpdir)\n",
    "\n",
    "    for (url in 1:length(input_enclosure)) {\n",
    "        # Since not able to get end of url as dir name with regexpr\n",
    "        n_url <- n_url + 1\n",
    "        tmpdir <- paste(r_tmpdir,n_url,sep=\"/\")\n",
    "        dir.create(tmpdir)\n",
    "\n",
    "        fh <- file(paste(tmpdir,\"info.txt\",sep=\"/\"))\n",
    "        write(input_enclosure[url], fh)\n",
    "        close(fh)\n",
    "\n",
    "        url_wl <- paste(input_enclosure[url],\"waterlevel.csv\",sep=\"/\")\n",
    "\n",
    "        # Download\n",
    "        rciop.copy(url_wl,tmpdir)\n",
    "    }\n",
    "}\n"
   ]
  },
  {
   "cell_type": "code",
   "execution_count": null,
   "metadata": {},
   "outputs": [],
   "source": []
  }
 ],
 "metadata": {
  "kernelspec": {
   "display_name": "R",
   "language": "R",
   "name": "ir"
  },
  "language_info": {
   "codemirror_mode": "r",
   "file_extension": ".r",
   "mimetype": "text/x-r-source",
   "name": "R",
   "pygments_lexer": "r",
   "version": "3.6.1"
  }
 },
 "nbformat": 4,
 "nbformat_minor": 2
}
