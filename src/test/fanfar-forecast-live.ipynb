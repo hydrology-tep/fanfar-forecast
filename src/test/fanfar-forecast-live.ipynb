{
 "cells": [
  {
   "cell_type": "markdown",
   "metadata": {},
   "source": [
    "## 0. Environment Setup\n",
    "We create a smiliar environemnt that simulate the inputs and variables as per in ciop jobs"
   ]
  },
  {
   "cell_type": "code",
   "execution_count": 23,
   "metadata": {},
   "outputs": [
    {
     "data": {
      "text/html": [
       "'/workspace/tmpdir'"
      ],
      "text/latex": [
       "'/workspace/tmpdir'"
      ],
      "text/markdown": [
       "'/workspace/tmpdir'"
      ],
      "text/plain": [
       "[1] \"/workspace/tmpdir\""
      ]
     },
     "metadata": {},
     "output_type": "display_data"
    }
   ],
   "source": [
    "input='https://recast.terradue.com/t2api/search/hydro-smhi/models?uid=230286758E25FD953AF736DE85F01CDF9C539EC7'\n",
    "TMPDIR=\"/workspace/tmpdir\"\n",
    "TMPDIR"
   ]
  },
  {
   "cell_type": "markdown",
   "metadata": {},
   "source": [
    "1. Read input model\n",
    "This inital step collect via proper opensearch call and copy the HYPE model config archive"
   ]
  },
  {
   "cell_type": "code",
   "execution_count": 24,
   "metadata": {},
   "outputs": [],
   "source": [
    "app.date = format(Sys.time(), \"%Y%m%d_%H%M\")\n",
    "\n",
    "## set application name\n",
    "app.name = \"forecast\"\n",
    "## ------------------------------------------------------------------------------\n",
    "## flag which environment is used, if not set\n",
    "if(!exists(\"app.sys\")){\n",
    "    app.sys =\"tep\"\n",
    "    }\n",
    "## ------------------------------------------------------------------------------\n",
    "## load rciop package and set working directory to TMPDIR when running on TEP \n",
    "if(app.sys==\"tep\"){\n",
    "    library(\"rciop\")\n",
    "\n",
    "    rciop.log (\"DEBUG\", \" *** hypeapps-forecast *** TEP hydrological modelling applications ***\", \"/node_forecast/run.R\")\n",
    "    rciop.log (\"DEBUG\", \" rciop library loaded\", \"/node_forecast/run.R\")\n",
    "\n",
    "    setwd(TMPDIR)\n",
    "    rciop.log(\"DEBUG\", paste(\" R session working directory set to \",TMPDIR,sep=\"\"), \"/node_forecast/run.R\")\n",
    "}"
   ]
  },
  {
   "cell_type": "markdown",
   "metadata": {},
   "source": [
    "Some rciop functions may need to be overridden in the notebook environment.\n",
    "Set to your current needs."
   ]
  },
  {
   "cell_type": "code",
   "execution_count": 25,
   "metadata": {},
   "outputs": [],
   "source": [
    "ENABLE_STUB_RCIOP_LOG <- FALSE\n",
    "#ENABLE_STUB_RCIOP_LOG <- TRUE\n",
    "\n",
    "if (ENABLE_STUB_RCIOP_LOG == TRUE) {\n",
    "    message(\"rciop.log() overridden by local stub function...\")\n",
    "    \n",
    "    rciop.log <- function(type, message, proc='') {\n",
    "\n",
    "        type <- type\n",
    "        msg <- message\n",
    "    if (proc=='') { proc <- \"user process\" }\n",
    "\n",
    "    out.msg <- paste(format(Sys.time(), format=\"%Y-%m-%dT%H:%M:%S\"), \"[\", type, \"][\", proc, \"] \", msg, sep=\"\")\n",
    "\n",
    "    message(out.msg)\n",
    "    } # rciop.log\n",
    "\n",
    "} # end stub"
   ]
  },
  {
   "cell_type": "code",
   "execution_count": 26,
   "metadata": {},
   "outputs": [
    {
     "name": "stderr",
     "output_type": "stream",
     "text": [
      "rciop.getparam() overridden by local stub function...\n"
     ]
    }
   ],
   "source": [
    "#ENABLE_STUB_RCIOP_GETPARAM <- FALSE\n",
    "ENABLE_STUB_RCIOP_GETPARAM <- TRUE\n",
    "\n",
    "if (ENABLE_STUB_RCIOP_GETPARAM == TRUE) {\n",
    "    message(\"rciop.getparam() overridden by local stub function...\")\n",
    "    # Change according to your test objective.\n",
    "    # Would normally return values defined in application.xml for specified ids'.\n",
    "    \n",
    "    rciop.getparam <- function(id) {\n",
    "        value <- NULL # or \"\"\n",
    "        \n",
    "        if (id == \"model\") {\n",
    "            value <- \"https://recast.terradue.com/t2api/search/hydro-smhi/models?uid=230286758E25FD953AF736DE85F01CDF9C539EC7\"\n",
    "        }\n",
    "        else if (id == \"idate\" ) {\n",
    "            value <- \"2018-09-01\"\n",
    "        }\n",
    "        else {\n",
    "            message(\"rciop.get_param:id not found...\")\n",
    "        }\n",
    "        \n",
    "        return (value)\n",
    "    } # rciop.getparam\n",
    "\n",
    "} # end stub"
   ]
  },
  {
   "cell_type": "markdown",
   "metadata": {},
   "source": [
    "Add your code to test...\n",
    "Remove current, or paste other code or add additional code blocks."
   ]
  },
  {
   "cell_type": "code",
   "execution_count": 27,
   "metadata": {},
   "outputs": [
    {
     "name": "stdout",
     "output_type": "stream",
     "text": [
      "[1] \" -o /workspace/tmpdir https://store.terradue.com/hydro-smhi/models/niger-hype-model.zip\"\n",
      "                                         X...Template.info.txt.for.Niger.HYPE.\n",
      "1                                                                           !!\n",
      "2                  !!    - 10 day determniistic forecast issue date 2017-01-01\n",
      "3                 !!    - model version 2.23, hype version 5.x.0 (assimiltion)\n",
      "4                                                                           !!\n",
      "5                !! This file is part of Hydrology TEP hypeapps applications. \n",
      "6                                                                           !!\n",
      "7          !! ----------------------------------------------------------------\n",
      "8             !! bdate=cdate= first date of the forecast (forecast issue date)\n",
      "9             !! -------------------------------------------------------------\n",
      "10                                                            bdate 2017-01-01\n",
      "11                                                            cdate 2017-01-01\n",
      "12                              !! -------------------------------------------\n",
      "13                              !! edate = end of the forecast (10 days ahead)\n",
      "14                              !! -------------------------------------------\n",
      "15                                                            edate 2017-01-10\n",
      "16                                         !! --------------------------------\n",
      "17                                         !! initial and final state settings\n",
      "18                                         !! --------------------------------\n",
      "19                                                                   instate Y\n",
      "20                                                 !! ------------------------\n",
      "21                                                 !! model and result folders\n",
      "22                                                 !! ------------------------\n",
      "23                                       resultdir /model/niger-hype/forecast/\n",
      "24                                                 modeldir /model/niger-hype/\n",
      "25                                                    !! ---------------------\n",
      "26                                                    !! forcing data settings\n",
      "27                                                    !! ---------------------\n",
      "28                                                                  submodel N\n",
      "29                                                                 readdaily Y\n",
      "30                                                                 readobsid N\n",
      "31                                                                 readsfobs N\n",
      "32                                                                 readswobs N\n",
      "33                                                               readtminobs Y\n",
      "34                                                               readtmaxobs Y\n",
      "35                                        !! ---------------------------------\n",
      "36                                        !! calibration/assimilation settings\n",
      "37                                        !! ---------------------------------\n",
      "38                                                               calibration N\n",
      "39                                                              assimilation N\n",
      "40                                                         !! ----------------\n",
      "41                                                         !! submodel options\n",
      "42                                                         !! ----------------\n",
      "43                                                      modeloption petmodel 3\n",
      "44                                                    modeloption floodmodel 2\n",
      "45                                                          !! ---------------\n",
      "46                                                          !! output settings\n",
      "47                                                          !! ---------------\n",
      "48 basinoutput variable cout crun evap epot cprc ctmp srff mrfp olfp mrfg olfg\n",
      "49                                                    basinoutput meanperiod 1\n",
      "50                                                      basinoutput decimals 3\n",
      "51                                             basinoutput subbasin 17,4244,37\n",
      "52                       mapoutput variable cout crun evap epot cprc ctmp srff\n",
      "53                                                        mapoutput decimals 3\n",
      "54                                                      mapoutput meanperiod 5\n",
      "55                      timeoutput variable cout crun evap epot cprc ctmp srff\n",
      "56                                                       timeoutput decimals 3\n",
      "57                                                     timeoutput meanperiod 1\n",
      "58                                    !! -------------------------------------\n",
      "59                                    !! model performance evaluation settings\n",
      "60                                    !! -------------------------------------\n",
      "61                                                           crit meanperiod 1\n",
      "62                                                            crit datalimit 3\n",
      "63                                                        crit 1 criterium MKG\n",
      "64                                                       crit 1 cvariable cout\n",
      "65                                                       crit 1 rvariable rout\n",
      "66                                                             crit 1 weight 1\n"
     ]
    }
   ],
   "source": [
    "## Read the main input\n",
    "## This is the reference link to the model configuration\n",
    "\n",
    "# print\n",
    "rciop.log(\"INFO\", paste(\"Processing input:\", input, sep=\" \"))\n",
    "\n",
    "# Query the input reference\n",
    "opensearchCmd=paste(\"opensearch-client '\",input,\"' enclosure\")\n",
    "input_enclosure <- system(command = opensearchCmd,intern = T)\n",
    "rciop.log(\"INFO\", input_enclosure)\n",
    "\n",
    "# Download the file\n",
    "model_file <- rciop.copy(input_enclosure, TMPDIR, uncompress=TRUE)\n",
    "\n",
    "if (model_file$exit.code==0) {\n",
    "    local.url <- model_file$output\n",
    "}\n",
    "\n",
    "#local.url)\n",
    "my_data <- read.delim(local.url)\n",
    "print (my_data)"
   ]
  },
  {
   "cell_type": "code",
   "execution_count": 28,
   "metadata": {},
   "outputs": [
    {
     "name": "stderr",
     "output_type": "stream",
     "text": [
      "https://recast.terradue.com/t2api/search/hydro-smhi/models?uid=230286758E25FD953AF736DE85F01CDF9C539EC7\n"
     ]
    }
   ],
   "source": [
    "par_model <- rciop.getparam(\"model\")\n",
    "message(par_model)"
   ]
  },
  {
   "cell_type": "code",
   "execution_count": null,
   "metadata": {},
   "outputs": [],
   "source": []
  }
 ],
 "metadata": {
  "kernelspec": {
   "display_name": "R",
   "language": "R",
   "name": "ir"
  },
  "language_info": {
   "codemirror_mode": "r",
   "file_extension": ".r",
   "mimetype": "text/x-r-source",
   "name": "R",
   "pygments_lexer": "r",
   "version": "3.6.1"
  }
 },
 "nbformat": 4,
 "nbformat_minor": 2
}
