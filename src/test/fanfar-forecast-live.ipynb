{
 "cells": [
  {
   "cell_type": "markdown",
   "metadata": {},
   "source": [
    "## 0. Environment Setup\n",
    "We create a smiliar environemnt that simulate the inputs and variables as per in ciop jobs"
   ]
  },
  {
   "cell_type": "code",
   "execution_count": null,
   "metadata": {},
   "outputs": [],
   "source": [
    "input='https://recast.terradue.com/t2api/search/hydro-smhi/models?uid=230286758E25FD953AF736DE85F01CDF9C539EC7'\n",
    "TMPDIR=\"/workspace/tmpdir\""
   ]
  },
  {
   "cell_type": "markdown",
   "metadata": {},
   "source": [
    "1. Read input model\n",
    "This inital step collect via proper opensearch call and copy the HYPE model config archive"
   ]
  },
  {
   "cell_type": "code",
   "execution_count": null,
   "metadata": {},
   "outputs": [],
   "source": [
    "rciop.log <- function(type, message, proc='') {\n",
    "\n",
    "type <- type\n",
    "msg <- message\n",
    "if (proc=='') { proc <- \"user process\" }\n",
    "\n",
    "out.msg <- paste(format(Sys.time(), format=\"%Y-%m-%dT%H:%M:%S\"), \"[\", type, \"][\", proc, \"] \", msg, sep=\"\")\n",
    "\n",
    "message(out.msg)\n",
    "}\n"
   ]
  },
  {
   "cell_type": "code",
   "execution_count": null,
   "metadata": {},
   "outputs": [],
   "source": [
    "app.date = format(Sys.time(), \"%Y%m%d_%H%M\")\n",
    "\n",
    "## set application name\n",
    "app.name = \"forecast\"\n",
    "## ------------------------------------------------------------------------------\n",
    "## flag which environment is used, if not set\n",
    "if(!exists(\"app.sys\")){\n",
    "    app.sys =\"tep\"\n",
    "    }\n",
    "## ------------------------------------------------------------------------------\n",
    "## load rciop package and set working directory to TMPDIR when running on TEP \n",
    "if(app.sys==\"tep\"){\n",
    "    library(\"rciop\")\n",
    "\n",
    "    rciop.log (\"DEBUG\", \" *** hypeapps-forecast *** TEP hydrological modelling applications ***\", \"/node_forecast/run.R\")\n",
    "    rciop.log (\"DEBUG\", \" rciop library loaded\", \"/node_forecast/run.R\")\n",
    "\n",
    "    setwd(TMPDIR)\n",
    "    rciop.log(\"DEBUG\", paste(\" R session working directory set to \",TMPDIR,sep=\"\"), \"/node_forecast/run.R\")\n",
    "    }\n",
    "\n",
    "## Read the main input\n",
    "## This is the reference link to the model configuration\n",
    "\n",
    "# print\n",
    "rciop.log(\"INFO\", paste(\"Processing input:\", input, sep=\" \"))\n",
    "\n",
    "# Query the input reference\n",
    "opensearchCmd=paste(\"opensearch-client '\",input,\"' enclosure\")\n",
    "input_enclosure <- system(command = opensearchCmd,intern = T)\n",
    "rciop.log(\"INFO\", input_enclosure)\n",
    "\n",
    "# Download the file\n",
    "model_file <- rciop.copy(input_enclosure, TMPDIR, uncompress=TRUE)\n",
    "\n",
    "if (model_file$exit.code==0) {\n",
    "    local.url <- model_file$output\n",
    "}\n",
    "\n",
    "#local.url)\n",
    "my_data <- read.delim(local.url)\n",
    "print (my_data)"
   ]
  },
  {
   "cell_type": "code",
   "execution_count": null,
   "metadata": {},
   "outputs": [],
   "source": []
  }
 ],
 "metadata": {
  "kernelspec": {
   "display_name": "R",
   "language": "R",
   "name": "ir"
  },
  "language_info": {
   "codemirror_mode": "r",
   "file_extension": ".r",
   "mimetype": "text/x-r-source",
   "name": "R",
   "pygments_lexer": "r",
   "version": "3.3.1"
  }
 },
 "nbformat": 4,
 "nbformat_minor": 2
}
