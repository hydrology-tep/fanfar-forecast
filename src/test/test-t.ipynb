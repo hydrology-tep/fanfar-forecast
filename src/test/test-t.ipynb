{
 "cells": [
  {
   "cell_type": "markdown",
   "metadata": {},
   "source": [
    "## 0. Environment Setup\n",
    "We create a smiliar environemnt that simulate the inputs and variables as per in ciop jobs"
   ]
  },
  {
   "cell_type": "code",
   "execution_count": 81,
   "metadata": {},
   "outputs": [
    {
     "data": {
      "text/html": [
       "'/workspace/tmpdir'"
      ],
      "text/latex": [
       "'/workspace/tmpdir'"
      ],
      "text/markdown": [
       "'/workspace/tmpdir'"
      ],
      "text/plain": [
       "[1] \"/workspace/tmpdir\""
      ]
     },
     "metadata": {},
     "output_type": "display_data"
    }
   ],
   "source": [
    "input1='https://recast.terradue.com/t2api/search/hydro-smhi/models?uid=230286758E25FD953AF736DE85F01CDF9C539EC7' #niger-hype-model.zip, one file when unzipped\n",
    "input2='https://recast.terradue.com/t2api/search/hydro-smhi/models?uid=9345ED73B72F49E6FF31B07B57013BC519210E24' #niger-hype-model-2.23.zip, one dir when unzipped\n",
    "#input3='https://recast.terradue.com/t2api/search/hydro-smhi/models?uid=9CE420998D9EC367470EEAEEA6B6DA0B0E4604D2' #niger-hype-data.zip, dirs when unzipped\n",
    "TMPDIR=\"/workspace/tmpdir\"\n",
    "TMPDIR"
   ]
  },
  {
   "cell_type": "markdown",
   "metadata": {},
   "source": [
    "1. Read input model\n",
    "This inital step collect via proper opensearch call and copy the HYPE model config archive"
   ]
  },
  {
   "cell_type": "code",
   "execution_count": 82,
   "metadata": {},
   "outputs": [],
   "source": [
    "app.date = format(Sys.time(), \"%Y%m%d_%H%M\")\n",
    "\n",
    "## set application name\n",
    "app.name = \"forecast\"\n",
    "## ------------------------------------------------------------------------------\n",
    "## flag which environment is used, if not set\n",
    "if(!exists(\"app.sys\")){\n",
    "    app.sys =\"tep\"\n",
    "    }\n",
    "## ------------------------------------------------------------------------------\n",
    "## load rciop package and set working directory to TMPDIR when running on TEP \n",
    "if(app.sys==\"tep\"){\n",
    "    library(\"rciop\")\n",
    "\n",
    "    rciop.log (\"DEBUG\", \" *** hypeapps-forecast *** TEP hydrological modelling applications ***\", \"/node_forecast/run.R\")\n",
    "    rciop.log (\"DEBUG\", \" rciop library loaded\", \"/node_forecast/run.R\")\n",
    "\n",
    "    setwd(TMPDIR)\n",
    "    rciop.log(\"DEBUG\", paste(\" R session working directory set to \",TMPDIR,sep=\"\"), \"/node_forecast/run.R\")\n",
    "}"
   ]
  },
  {
   "cell_type": "markdown",
   "metadata": {},
   "source": [
    "Some rciop functions may need to be overridden in the notebook environment.\n",
    "Set to your current needs."
   ]
  },
  {
   "cell_type": "code",
   "execution_count": 83,
   "metadata": {},
   "outputs": [],
   "source": [
    "ENABLE_STUB_RCIOP_LOG <- FALSE\n",
    "#ENABLE_STUB_RCIOP_LOG <- TRUE\n",
    "\n",
    "if (ENABLE_STUB_RCIOP_LOG == TRUE) {\n",
    "    message(\"rciop.log() overridden by local stub function...\")\n",
    "    \n",
    "    rciop.log <- function(type, message, proc='') {\n",
    "\n",
    "        type <- type\n",
    "        msg <- message\n",
    "    if (proc=='') { proc <- \"user process\" }\n",
    "\n",
    "    out.msg <- paste(format(Sys.time(), format=\"%Y-%m-%dT%H:%M:%S\"), \"[\", type, \"][\", proc, \"] \", msg, sep=\"\")\n",
    "\n",
    "    message(out.msg)\n",
    "    } # rciop.log\n",
    "\n",
    "} # end stub"
   ]
  },
  {
   "cell_type": "code",
   "execution_count": 84,
   "metadata": {},
   "outputs": [
    {
     "name": "stderr",
     "output_type": "stream",
     "text": [
      "rciop.getparam() overridden by local stub function...\n"
     ]
    }
   ],
   "source": [
    "#ENABLE_STUB_RCIOP_GETPARAM <- FALSE\n",
    "ENABLE_STUB_RCIOP_GETPARAM <- TRUE\n",
    "\n",
    "if (ENABLE_STUB_RCIOP_GETPARAM == TRUE) {\n",
    "    message(\"rciop.getparam() overridden by local stub function...\")\n",
    "    # Change according to your test objective.\n",
    "    # Would normally return values defined in application.xml for specified ids'.\n",
    "    \n",
    "    rciop.getparam <- function(id) {\n",
    "        value <- NULL # or \"\"\n",
    "        \n",
    "        if (id == \"model\") {\n",
    "            value <- \"https://recast.terradue.com/t2api/search/hydro-smhi/models?uid=230286758E25FD953AF736DE85F01CDF9C539EC7\"\n",
    "        }\n",
    "        else if (id == \"idate\" ) {\n",
    "            value <- \"2018-09-01\"\n",
    "        }\n",
    "        else {\n",
    "            message(\"rciop.get_param:id not found...\")\n",
    "        }\n",
    "        \n",
    "        return (value)\n",
    "    } # rciop.getparam\n",
    "\n",
    "} # end stub"
   ]
  },
  {
   "cell_type": "markdown",
   "metadata": {},
   "source": [
    "Add your code to test...\n",
    "Remove current, or paste other code or add additional code blocks."
   ]
  },
  {
   "cell_type": "code",
   "execution_count": 85,
   "metadata": {},
   "outputs": [
    {
     "name": "stdout",
     "output_type": "stream",
     "text": [
      "[1] \" -o /workspace/tmpdir https://store.terradue.com/hydro-smhi/models/niger-hype-model.zip\"\n"
     ]
    },
    {
     "data": {
      "text/html": [
       "'/workspace/tmpdir/info-forecast.txt'"
      ],
      "text/latex": [
       "'/workspace/tmpdir/info-forecast.txt'"
      ],
      "text/markdown": [
       "'/workspace/tmpdir/info-forecast.txt'"
      ],
      "text/plain": [
       "[1] \"/workspace/tmpdir/info-forecast.txt\""
      ]
     },
     "metadata": {},
     "output_type": "display_data"
    },
    {
     "name": "stdout",
     "output_type": "stream",
     "text": [
      "                                         X...Template.info.txt.for.Niger.HYPE.\n",
      "1                                                                           !!\n",
      "2                  !!    - 10 day determniistic forecast issue date 2017-01-01\n",
      "3                 !!    - model version 2.23, hype version 5.x.0 (assimiltion)\n",
      "4                                                                           !!\n",
      "5                !! This file is part of Hydrology TEP hypeapps applications. \n",
      "6                                                                           !!\n",
      "7          !! ----------------------------------------------------------------\n",
      "8             !! bdate=cdate= first date of the forecast (forecast issue date)\n",
      "9             !! -------------------------------------------------------------\n",
      "10                                                            bdate 2017-01-01\n",
      "11                                                            cdate 2017-01-01\n",
      "12                              !! -------------------------------------------\n",
      "13                              !! edate = end of the forecast (10 days ahead)\n",
      "14                              !! -------------------------------------------\n",
      "15                                                            edate 2017-01-10\n",
      "16                                         !! --------------------------------\n",
      "17                                         !! initial and final state settings\n",
      "18                                         !! --------------------------------\n",
      "19                                                                   instate Y\n",
      "20                                                 !! ------------------------\n",
      "21                                                 !! model and result folders\n",
      "22                                                 !! ------------------------\n",
      "23                                       resultdir /model/niger-hype/forecast/\n",
      "24                                                 modeldir /model/niger-hype/\n",
      "25                                                    !! ---------------------\n",
      "26                                                    !! forcing data settings\n",
      "27                                                    !! ---------------------\n",
      "28                                                                  submodel N\n",
      "29                                                                 readdaily Y\n",
      "30                                                                 readobsid N\n",
      "31                                                                 readsfobs N\n",
      "32                                                                 readswobs N\n",
      "33                                                               readtminobs Y\n",
      "34                                                               readtmaxobs Y\n",
      "35                                        !! ---------------------------------\n",
      "36                                        !! calibration/assimilation settings\n",
      "37                                        !! ---------------------------------\n",
      "38                                                               calibration N\n",
      "39                                                              assimilation N\n",
      "40                                                         !! ----------------\n",
      "41                                                         !! submodel options\n",
      "42                                                         !! ----------------\n",
      "43                                                      modeloption petmodel 3\n",
      "44                                                    modeloption floodmodel 2\n",
      "45                                                          !! ---------------\n",
      "46                                                          !! output settings\n",
      "47                                                          !! ---------------\n",
      "48 basinoutput variable cout crun evap epot cprc ctmp srff mrfp olfp mrfg olfg\n",
      "49                                                    basinoutput meanperiod 1\n",
      "50                                                      basinoutput decimals 3\n",
      "51                                             basinoutput subbasin 17,4244,37\n",
      "52                       mapoutput variable cout crun evap epot cprc ctmp srff\n",
      "53                                                        mapoutput decimals 3\n",
      "54                                                      mapoutput meanperiod 5\n",
      "55                      timeoutput variable cout crun evap epot cprc ctmp srff\n",
      "56                                                       timeoutput decimals 3\n",
      "57                                                     timeoutput meanperiod 1\n",
      "58                                    !! -------------------------------------\n",
      "59                                    !! model performance evaluation settings\n",
      "60                                    !! -------------------------------------\n",
      "61                                                           crit meanperiod 1\n",
      "62                                                            crit datalimit 3\n",
      "63                                                        crit 1 criterium MKG\n",
      "64                                                       crit 1 cvariable cout\n",
      "65                                                       crit 1 rvariable rout\n",
      "66                                                             crit 1 weight 1\n"
     ]
    }
   ],
   "source": [
    "## Read the main input\n",
    "## This is the reference link to the model configuration\n",
    "\n",
    "# print\n",
    "rciop.log(\"INFO\", paste(\"Processing input:\", input1, sep=\" \"))\n",
    "\n",
    "# Query the input reference\n",
    "opensearchCmd=paste(\"opensearch-client '\",input1,\"' enclosure\")\n",
    "input_enclosure <- system(command = opensearchCmd,intern = T)\n",
    "rciop.log(\"INFO\", input_enclosure)\n",
    "\n",
    "# Download the file\n",
    "model_file <- rciop.copy(input_enclosure, TMPDIR, uncompress=TRUE)\n",
    "\n",
    "if (model_file$exit.code==0) {\n",
    "    local.url <- model_file$output\n",
    "}\n",
    "\n",
    "# Works for single file after unzip\n",
    "local.url # One file, complete path incl. filename\n",
    "my_data <- read.delim(local.url)\n",
    "print (my_data)"
   ]
  },
  {
   "cell_type": "code",
   "execution_count": 86,
   "metadata": {},
   "outputs": [
    {
     "name": "stderr",
     "output_type": "stream",
     "text": [
      "https://recast.terradue.com/t2api/search/hydro-smhi/models?uid=230286758E25FD953AF736DE85F01CDF9C539EC7\n"
     ]
    }
   ],
   "source": [
    "par_model <- rciop.getparam(\"model\")\n",
    "message(par_model)"
   ]
  },
  {
   "cell_type": "code",
   "execution_count": 87,
   "metadata": {},
   "outputs": [
    {
     "name": "stdout",
     "output_type": "stream",
     "text": [
      "[1] \" -o /workspace/tmpdir https://store.terradue.com/hydro-smhi/models/niger-hype-model-2.23.zip\"\n"
     ]
    },
    {
     "data": {
      "text/html": [
       "'/workspace/tmpdir/niger-hype-model-2.23'"
      ],
      "text/latex": [
       "'/workspace/tmpdir/niger-hype-model-2.23'"
      ],
      "text/markdown": [
       "'/workspace/tmpdir/niger-hype-model-2.23'"
      ],
      "text/plain": [
       "[1] \"/workspace/tmpdir/niger-hype-model-2.23\""
      ]
     },
     "metadata": {},
     "output_type": "display_data"
    },
    {
     "data": {
      "text/html": [
       "'/workspace/tmpdir/niger-hype-model-2.23/dependencies.txt'"
      ],
      "text/latex": [
       "'/workspace/tmpdir/niger-hype-model-2.23/dependencies.txt'"
      ],
      "text/markdown": [
       "'/workspace/tmpdir/niger-hype-model-2.23/dependencies.txt'"
      ],
      "text/plain": [
       "[1] \"/workspace/tmpdir/niger-hype-model-2.23/dependencies.txt\""
      ]
     },
     "metadata": {},
     "output_type": "display_data"
    },
    {
     "data": {
      "text/html": [
       "<table>\n",
       "<thead><tr><th scope=col>subdir</th><th scope=col>url</th><th scope=col>querypattern</th></tr></thead>\n",
       "<tbody>\n",
       "\t<tr><td>hydrogfdei                                         </td><td>https://catalog.terradue.com/hydro-smhi/description</td><td>[hydrogfdei,SMHI]                                  </td></tr>\n",
       "\t<tr><td>od                                                 </td><td>https://catalog.terradue.com/hydro-smhi/description</td><td>[od,SMHI]                                          </td></tr>\n",
       "\t<tr><td>ei-monthly                                         </td><td>https://catalog.terradue.com/hydro-smhi/description</td><td>[ei,monthly,SMHI]                                  </td></tr>\n",
       "\t<tr><td>od-daily                                           </td><td>https://catalog.terradue.com/hydro-smhi/description</td><td>[od,daily,SMHI]                                    </td></tr>\n",
       "\t<tr><td>od-monthly                                         </td><td>https://catalog.terradue.com/hydro-smhi/description</td><td>[od,montly,SMHI]                                   </td></tr>\n",
       "\t<tr><td>ecoper                                             </td><td>https://catalog.terradue.com/hydro-smhi/description</td><td>[ecoper,SMHI]                                      </td></tr>\n",
       "</tbody>\n",
       "</table>\n"
      ],
      "text/latex": [
       "\\begin{tabular}{r|lll}\n",
       " subdir & url & querypattern\\\\\n",
       "\\hline\n",
       "\t hydrogfdei                                          & https://catalog.terradue.com/hydro-smhi/description & {[}hydrogfdei,SMHI{]}                              \\\\\n",
       "\t od                                                  & https://catalog.terradue.com/hydro-smhi/description & {[}od,SMHI{]}                                      \\\\\n",
       "\t ei-monthly                                          & https://catalog.terradue.com/hydro-smhi/description & {[}ei,monthly,SMHI{]}                              \\\\\n",
       "\t od-daily                                            & https://catalog.terradue.com/hydro-smhi/description & {[}od,daily,SMHI{]}                                \\\\\n",
       "\t od-monthly                                          & https://catalog.terradue.com/hydro-smhi/description & {[}od,montly,SMHI{]}                               \\\\\n",
       "\t ecoper                                              & https://catalog.terradue.com/hydro-smhi/description & {[}ecoper,SMHI{]}                                  \\\\\n",
       "\\end{tabular}\n"
      ],
      "text/markdown": [
       "\n",
       "| subdir | url | querypattern |\n",
       "|---|---|---|\n",
       "| hydrogfdei                                          | https://catalog.terradue.com/hydro-smhi/description | [hydrogfdei,SMHI]                                   |\n",
       "| od                                                  | https://catalog.terradue.com/hydro-smhi/description | [od,SMHI]                                           |\n",
       "| ei-monthly                                          | https://catalog.terradue.com/hydro-smhi/description | [ei,monthly,SMHI]                                   |\n",
       "| od-daily                                            | https://catalog.terradue.com/hydro-smhi/description | [od,daily,SMHI]                                     |\n",
       "| od-monthly                                          | https://catalog.terradue.com/hydro-smhi/description | [od,montly,SMHI]                                    |\n",
       "| ecoper                                              | https://catalog.terradue.com/hydro-smhi/description | [ecoper,SMHI]                                       |\n",
       "\n"
      ],
      "text/plain": [
       "  subdir     url                                                \n",
       "1 hydrogfdei https://catalog.terradue.com/hydro-smhi/description\n",
       "2 od         https://catalog.terradue.com/hydro-smhi/description\n",
       "3 ei-monthly https://catalog.terradue.com/hydro-smhi/description\n",
       "4 od-daily   https://catalog.terradue.com/hydro-smhi/description\n",
       "5 od-monthly https://catalog.terradue.com/hydro-smhi/description\n",
       "6 ecoper     https://catalog.terradue.com/hydro-smhi/description\n",
       "  querypattern     \n",
       "1 [hydrogfdei,SMHI]\n",
       "2 [od,SMHI]        \n",
       "3 [ei,monthly,SMHI]\n",
       "4 [od,daily,SMHI]  \n",
       "5 [od,montly,SMHI] \n",
       "6 [ecoper,SMHI]    "
      ]
     },
     "metadata": {},
     "output_type": "display_data"
    },
    {
     "name": "stderr",
     "output_type": "stream",
     "text": [
      "Found od-daily at row index:4\n"
     ]
    }
   ],
   "source": [
    "## Read the main input\n",
    "## This is the reference link to the model configuration\n",
    "\n",
    "# print\n",
    "rciop.log(\"INFO\", paste(\"Processing input:\", input2, sep=\" \"))\n",
    "\n",
    "# Query the input reference\n",
    "opensearchCmd=paste(\"opensearch-client '\",input2,\"' enclosure\")\n",
    "input_enclosure <- system(command = opensearchCmd,intern = T)\n",
    "rciop.log(\"INFO\", input_enclosure)\n",
    "\n",
    "# Download the dir(s)\n",
    "model_config_dir <- rciop.copy(input_enclosure, TMPDIR, uncompress=TRUE)\n",
    "\n",
    "if (model_config_dir$exit.code==0) {\n",
    "    local.dir <- model_config_dir$output\n",
    "}\n",
    "local.dir # File or directory, complete path incl.\n",
    "#if (local.dir == \"\" || local.dir == NULL) {\n",
    "#    message(\"No model config path...\")\n",
    "#    q(99)\n",
    "#}\n",
    "\n",
    "model_config_file <- \"dependencies.txt\" # Shall be parsed to get different config items\n",
    "#hype_file <- \"info-forecast.txt\"\n",
    "\n",
    "path_to_file <- paste(local.dir, model_config_file, sep=\"/\")\n",
    "path_to_file\n",
    "# Read contents of file, handling separators for now. model_config_data will probably be a matrix, 3 columns for now\n",
    "model_config_data <- read.csv2(path_to_file, header=FALSE, sep=\";\")\n",
    "#class(model_config_data) # data.frame\n",
    "#dim(model_config_data) # 6,3 (rows,cols)\n",
    "# Add column names\n",
    "names(model_config_data) <- c('subdir','url','querypattern') # Now works to use as index, colnamnes maybe only on type matrix\n",
    "model_config_data\n",
    "# Select column by name\n",
    "#model_config_data[,'query-pattern'] # all rows, col 3 ok\n",
    "#model_config_data[,c('subdir','querypattern')] # all rows, multiple columns ok\n",
    "\n",
    "#model_config_data$subdir\n",
    "#model_config_data[3,'subdir']\n",
    "# Iterate over each row to locate e.g. sub directory, od-daily, to use column data\n",
    "for (r in 1:nrow(model_config_data)) { #  if statement below not works\n",
    "    subdir <- model_config_data[r,'subdir']\n",
    "    if (subdir == 'od-daily') {\n",
    "        message(paste0(\"Found od-daily at row index:\", r))\n",
    "    }\n",
    "}"
   ]
  },
  {
   "cell_type": "code",
   "execution_count": 88,
   "metadata": {},
   "outputs": [],
   "source": [
    "# opensearch for netcdf files:\n"
   ]
  },
  {
   "cell_type": "code",
   "execution_count": null,
   "metadata": {},
   "outputs": [],
   "source": []
  }
 ],
 "metadata": {
  "kernelspec": {
   "display_name": "R",
   "language": "R",
   "name": "ir"
  },
  "language_info": {
   "codemirror_mode": "r",
   "file_extension": ".r",
   "mimetype": "text/x-r-source",
   "name": "R",
   "pygments_lexer": "r",
   "version": "3.6.1"
  }
 },
 "nbformat": 4,
 "nbformat_minor": 2
}
