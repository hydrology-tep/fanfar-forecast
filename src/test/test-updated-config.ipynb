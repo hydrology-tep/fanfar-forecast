{
 "cells": [
  {
   "cell_type": "markdown",
   "metadata": {},
   "source": [
    "## 0. Environment Setup\n",
    "We create a smiliar environemnt that simulate the inputs and variables as per in ciop jobs"
   ]
  },
  {
   "cell_type": "code",
   "execution_count": 52,
   "metadata": {},
   "outputs": [
    {
     "data": {
      "text/html": [
       "'/workspace/tmpdir2'"
      ],
      "text/latex": [
       "'/workspace/tmpdir2'"
      ],
      "text/markdown": [
       "'/workspace/tmpdir2'"
      ],
      "text/plain": [
       "[1] \"/workspace/tmpdir2\""
      ]
     },
     "metadata": {},
     "output_type": "display_data"
    }
   ],
   "source": [
    "model_config_file='https://recast.terradue.com/t2api/search/hydro-smhi/models?uid=70EE8A2A6898282CE352F7F635C4B34ED5FCEB13' #Reference to fanfar-forecast.zip\n",
    "TMPDIR=\"/workspace/tmpdir2\"\n",
    "TMPDIR"
   ]
  },
  {
   "cell_type": "code",
   "execution_count": 73,
   "metadata": {},
   "outputs": [
    {
     "name": "stdout",
     "output_type": "stream",
     "text": [
      "[1] \"/workspace/tmpdir2\"\n"
     ]
    }
   ],
   "source": [
    "app.date = format(Sys.time(), \"%Y%m%d_%H%M\")\n",
    "\n",
    "## set application name\n",
    "app.name = \"forecast\"\n",
    "## ------------------------------------------------------------------------------\n",
    "## flag which environment is used, if not set\n",
    "if(!exists(\"app.sys\")){\n",
    "    app.sys =\"tep\"\n",
    "}\n",
    "## ------------------------------------------------------------------------------\n",
    "## load rciop package and set working directory to TMPDIR when running on TEP \n",
    "if(app.sys==\"tep\"){\n",
    "    library(\"rciop\")\n",
    "\n",
    "    rciop.log (\"DEBUG\", \" *** hypeapps-forecast *** TEP hydrological modelling applications ***\", \"/node_forecast/run.R\")\n",
    "    rciop.log (\"DEBUG\", \" rciop library loaded\", \"/node_forecast/run.R\")\n",
    "\n",
    "    if (! dir.exists(TMPDIR)) {\n",
    "        dir.create(TMPDIR,recursive=TRUE,mode=\"0775\")\n",
    "    }\n",
    "    \n",
    "    curDir <- getwd()\n",
    "    print(curDir)\n",
    "    setwd(TMPDIR)\n",
    "    rciop.log(\"DEBUG\", paste(\" R session working directory set to \",TMPDIR,sep=\"\"), \"/node_forecast/run.R\")\n",
    "}"
   ]
  },
  {
   "cell_type": "markdown",
   "metadata": {},
   "source": [
    "Some rciop functions may need to be overridden in the notebook environment.\n",
    "Set to your current needs."
   ]
  },
  {
   "cell_type": "code",
   "execution_count": 74,
   "metadata": {},
   "outputs": [],
   "source": [
    "ENABLE_STUB_RCIOP_LOG <- FALSE\n",
    "#ENABLE_STUB_RCIOP_LOG <- TRUE\n",
    "\n",
    "if (ENABLE_STUB_RCIOP_LOG == TRUE) {\n",
    "    message(\"rciop.log() overridden by local stub function...\")\n",
    "    \n",
    "    rciop.log <- function(type, message, proc='') {\n",
    "\n",
    "        type <- type\n",
    "        msg <- message\n",
    "    if (proc=='') { proc <- \"user process\" }\n",
    "\n",
    "    out.msg <- paste(format(Sys.time(), format=\"%Y-%m-%dT%H:%M:%S\"), \"[\", type, \"][\", proc, \"] \", msg, sep=\"\")\n",
    "\n",
    "    message(out.msg)\n",
    "    } # rciop.log\n",
    "\n",
    "} # end stub"
   ]
  },
  {
   "cell_type": "code",
   "execution_count": 75,
   "metadata": {},
   "outputs": [
    {
     "name": "stderr",
     "output_type": "stream",
     "text": [
      "rciop.getparam() overridden by local stub function...\n"
     ]
    }
   ],
   "source": [
    "#ENABLE_STUB_RCIOP_GETPARAM <- FALSE\n",
    "ENABLE_STUB_RCIOP_GETPARAM <- TRUE\n",
    "\n",
    "if (ENABLE_STUB_RCIOP_GETPARAM == TRUE) {\n",
    "    message(\"rciop.getparam() overridden by local stub function...\")\n",
    "    # Change according to your test objective.\n",
    "    # Would normally return values defined in application.xml for specified ids'.\n",
    "    \n",
    "    rciop.getparam <- function(id) {\n",
    "        value <- NULL # or \"\"\n",
    "        \n",
    "        if (id == \"model\") {\n",
    "            value <- \"https://recast.terradue.com/t2api/search/hydro-smhi/models?uid=230286758E25FD953AF736DE85F01CDF9C539EC7\"\n",
    "        }\n",
    "        else if (id == \"idate\" ) {\n",
    "            value <- \"2018-09-01\"\n",
    "        }\n",
    "        else if (id == \"hydmodel\" ) {\n",
    "            c()\n",
    "            #value[1] <- \"Niger-HYPE\"\n",
    "            #value[2] <- \"WestAfrica-HYPE\"\n",
    "            value <- c('Niger-HYPE','WestAfrica-HYPE')\n",
    "        }\n",
    "        else {\n",
    "            message(\"rciop.get_param:id not found...\")\n",
    "        }\n",
    "        \n",
    "        return (value)\n",
    "    } # rciop.getparam\n",
    "\n",
    "} # end stub"
   ]
  },
  {
   "cell_type": "markdown",
   "metadata": {},
   "source": [
    "Add your code to test...\n",
    "Remove current, or paste other code or add additional code blocks."
   ]
  },
  {
   "cell_type": "raw",
   "metadata": {},
   "source": [
    "Brief:\n",
    "Search and retrive the main config objects, which in turn may point to other config objects.\n",
    "Read contents in dependencies.txt for each config object.\n",
    "From read contents:\n",
    "Use url and search query to search and download objects.\n",
    "\n",
    "hydro-smhi/models/fanfar-forecast.zip/v1/dependencies.txt\n",
    "references other objects such as model-data and hydrogfd-data"
   ]
  },
  {
   "cell_type": "code",
   "execution_count": 76,
   "metadata": {},
   "outputs": [
    {
     "name": "stderr",
     "output_type": "stream",
     "text": [
      "opensearch-client 'https://recast.terradue.com/t2api/search/hydro-smhi/models?uid=70EE8A2A6898282CE352F7F635C4B34ED5FCEB13' enclosure\n"
     ]
    },
    {
     "name": "stdout",
     "output_type": "stream",
     "text": [
      "[1] \" -o /workspace/tmpdir2 https://store.terradue.com/hydro-smhi/models/fanfar-forecast.zip\"\n"
     ]
    },
    {
     "data": {
      "text/html": [
       "'/workspace/tmpdir2/fanfar-forecast'"
      ],
      "text/latex": [
       "'/workspace/tmpdir2/fanfar-forecast'"
      ],
      "text/markdown": [
       "'/workspace/tmpdir2/fanfar-forecast'"
      ],
      "text/plain": [
       "[1] \"/workspace/tmpdir2/fanfar-forecast\""
      ]
     },
     "metadata": {},
     "output_type": "display_data"
    }
   ],
   "source": [
    "## Search for the main data configuration and download the object\n",
    "\n",
    "# print\n",
    "rciop.log(\"INFO\", paste(\"Processing input:\", model_config_file, sep=\" \"))\n",
    "\n",
    "# Query the input reference\n",
    "message(paste(\"opensearch-client '\",model_config_file,\"' enclosure\", sep=\"\"))\n",
    "opensearchCmd=paste(\"opensearch-client '\",model_config_file,\"' enclosure\")\n",
    "res_enclosure <- system(command = opensearchCmd,intern = T)\n",
    "rciop.log(\"INFO\", res_enclosure)\n",
    "\n",
    "# Download the dir(s) or file(s)\n",
    "# File in this case\n",
    "main_config_file <- rciop.copy(res_enclosure,target=TMPDIR,uncompress=TRUE)\n",
    "#dir.create(paste(TMPDIR,\"fanfar-forecast\",sep=\"/\"),recursive=TRUE,mode=\"0775\")\n",
    "#main_config_file <- rciop.copy(res_enclosure,target=paste(TMPDIR,\"fanfar-forecast\",sep=\"/\"),uncompress=TRUE)\n",
    "\n",
    "if (main_config_file$exit.code==0) {\n",
    "    local.main_config_file <- main_config_file$output\n",
    "}\n",
    "local.main_config_file"
   ]
  },
  {
   "cell_type": "code",
   "execution_count": 77,
   "metadata": {},
   "outputs": [
    {
     "data": {
      "text/html": [
       "<table>\n",
       "<thead><tr><th scope=col>localdirectory</th><th scope=col>url</th><th scope=col>searchquery</th><th scope=col>comment</th></tr></thead>\n",
       "<tbody>\n",
       "\t<tr><td>model-data                                                </td><td>https://recast.terradue.com/t2api/search/hydro-smhi/models</td><td>?uid=61D54243B1AD9D79E2B7A583A94055F10B048119             </td><td># zip-file: westafrica-hype-data.zip/v1.3.6               </td></tr>\n",
       "\t<tr><td>hydrogfd-data                                             </td><td>https://recast.terradue.com/t2api/search/hydro-smhi/models</td><td>?uid=BC9DF45931AB9F68196F465D29AD74CE3F4C95F3             </td><td># zip-file: hydrogfd.zip/v2                               </td></tr>\n",
       "</tbody>\n",
       "</table>\n"
      ],
      "text/latex": [
       "\\begin{tabular}{r|llll}\n",
       " localdirectory & url & searchquery & comment\\\\\n",
       "\\hline\n",
       "\t model-data                                                 & https://recast.terradue.com/t2api/search/hydro-smhi/models & ?uid=61D54243B1AD9D79E2B7A583A94055F10B048119              & \\# zip-file: westafrica-hype-data.zip/v1.3.6             \\\\\n",
       "\t hydrogfd-data                                              & https://recast.terradue.com/t2api/search/hydro-smhi/models & ?uid=BC9DF45931AB9F68196F465D29AD74CE3F4C95F3              & \\# zip-file: hydrogfd.zip/v2                             \\\\\n",
       "\\end{tabular}\n"
      ],
      "text/markdown": [
       "\n",
       "| localdirectory | url | searchquery | comment |\n",
       "|---|---|---|---|\n",
       "| model-data                                                 | https://recast.terradue.com/t2api/search/hydro-smhi/models | ?uid=61D54243B1AD9D79E2B7A583A94055F10B048119              | # zip-file: westafrica-hype-data.zip/v1.3.6                |\n",
       "| hydrogfd-data                                              | https://recast.terradue.com/t2api/search/hydro-smhi/models | ?uid=BC9DF45931AB9F68196F465D29AD74CE3F4C95F3              | # zip-file: hydrogfd.zip/v2                                |\n",
       "\n"
      ],
      "text/plain": [
       "  localdirectory url                                                       \n",
       "1 model-data     https://recast.terradue.com/t2api/search/hydro-smhi/models\n",
       "2 hydrogfd-data  https://recast.terradue.com/t2api/search/hydro-smhi/models\n",
       "  searchquery                                  \n",
       "1 ?uid=61D54243B1AD9D79E2B7A583A94055F10B048119\n",
       "2 ?uid=BC9DF45931AB9F68196F465D29AD74CE3F4C95F3\n",
       "  comment                                    \n",
       "1 # zip-file: westafrica-hype-data.zip/v1.3.6\n",
       "2 # zip-file: hydrogfd.zip/v2                "
      ]
     },
     "metadata": {},
     "output_type": "display_data"
    }
   ],
   "source": [
    "# Parse the main configuration file\n",
    "\n",
    "#local.main_config_dir\n",
    "file <- \"v1/dependencies.txt\"\n",
    "main_config_file <- paste(local.main_config_file,file,sep=\"/\")\n",
    "#main_config_file <- local.main_config_file\n",
    "\n",
    "if (! file.exists(main_config_file)) {\n",
    "    q(save=\"no\",status=1)\n",
    "}\n",
    "\n",
    "#main_config_data <- read.csv2(main_config_file,header=FALSE,sep=\";\")\n",
    "main_config_data <- read.csv2(main_config_file,header=TRUE,sep=\";\")\n",
    "main_config_data\n",
    "\n",
    "for (r in 1:nrow(main_config_data)) {\n",
    "    subdir <- main_config_data[r,'localdirectory']\n",
    "    if (subdir == 'model-data') {\n",
    "        modelDataConfigSubDir  <- main_config_data[r,'localdirectory'] # Intended to be used as dir name for rciop.copy TMPDIR/subdir/\n",
    "        modelDataConfigUrl     <- main_config_data[r,'url']\n",
    "        modelDataConfigQuery   <- main_config_data[r,'searchquery']\n",
    "        modelDataConfigComment <- main_config_data[r,'comment']\n",
    "    }\n",
    "    if (subdir == 'hydrogfd-data') {\n",
    "        hydroGFDDataConfigSubDir  <- main_config_data[r,'localdirectory'] # Intended to be used as dir name for rciop.copy TMPDIR/subdir/\n",
    "        hydroGFDDataConfigUrl     <- main_config_data[r,'url']\n",
    "        hydroGFDDataConfigQuery   <- main_config_data[r,'searchquery']\n",
    "        hydroGFDDataConfigComment <- main_config_data[r,'comment']\n",
    "    }\n",
    "}\n",
    "#modelDataConfigSubDir\n",
    "#modelDataConfigUrl\n",
    "#modelDataConfigQuery\n",
    "#modelDataConfigComment\n",
    "#hydroGFDDataConfigSubDir\n",
    "#hydroGFDDataConfigUrl\n",
    "#hydroGFDDataConfigQuery\n",
    "#hydroGFDDataConfigComment"
   ]
  },
  {
   "cell_type": "code",
   "execution_count": 78,
   "metadata": {},
   "outputs": [
    {
     "name": "stderr",
     "output_type": "stream",
     "text": [
      "opensearch-client 'https://recast.terradue.com/t2api/search/hydro-smhi/models?uid=61D54243B1AD9D79E2B7A583A94055F10B048119' enclosure\n"
     ]
    },
    {
     "name": "stdout",
     "output_type": "stream",
     "text": [
      "[1] \" -o /workspace/tmpdir2 https://store.terradue.com/hydro-smhi/models/westafrica-hype-data.zip\"\n"
     ]
    },
    {
     "data": {
      "text/html": [
       "'/workspace/tmpdir2/westafrica-hype-data'"
      ],
      "text/latex": [
       "'/workspace/tmpdir2/westafrica-hype-data'"
      ],
      "text/markdown": [
       "'/workspace/tmpdir2/westafrica-hype-data'"
      ],
      "text/plain": [
       "[1] \"/workspace/tmpdir2/westafrica-hype-data\""
      ]
     },
     "metadata": {},
     "output_type": "display_data"
    }
   ],
   "source": [
    "## Search for the model data configuration and download the data\n",
    "\n",
    "url   <- modelDataConfigUrl\n",
    "query <- modelDataConfigQuery\n",
    "\n",
    "# Query the model data config reference\n",
    "message(paste(\"opensearch-client '\",url,query,\"' enclosure\", sep=\"\"))\n",
    "opensearchCmd=paste(\"opensearch-client '\",url,query,\"' enclosure\")\n",
    "res_enclosure <- system(command = opensearchCmd,intern = T)\n",
    "rciop.log(\"INFO\", res_enclosure)\n",
    "\n",
    "# Download the dir(s) or file(s)\n",
    "# Dir in this case\n",
    "model_data_dir <- rciop.copy(res_enclosure,TMPDIR,uncompress=TRUE)\n",
    "\n",
    "if (model_data_dir$exit.code==0) {\n",
    "    local.model_data_dir <- model_data_dir$output\n",
    "}\n",
    "local.model_data_dir\n",
    "\n",
    "# Either keep a unified directory structure that are named the same between different versions, or\n",
    "# output variables for dirs/files etc. that are named differently."
   ]
  },
  {
   "cell_type": "code",
   "execution_count": 62,
   "metadata": {},
   "outputs": [
    {
     "name": "stderr",
     "output_type": "stream",
     "text": [
      "opensearch-client 'https://recast.terradue.com/t2api/search/hydro-smhi/models?uid=BC9DF45931AB9F68196F465D29AD74CE3F4C95F3' enclosure\n"
     ]
    },
    {
     "name": "stdout",
     "output_type": "stream",
     "text": [
      "[1] \" -o /workspace/tmpdir2 https://store.terradue.com/hydro-smhi/models/hydrogfd.zip\"\n"
     ]
    },
    {
     "data": {
      "text/html": [
       "'/workspace/tmpdir2/hydrogfd'"
      ],
      "text/latex": [
       "'/workspace/tmpdir2/hydrogfd'"
      ],
      "text/markdown": [
       "'/workspace/tmpdir2/hydrogfd'"
      ],
      "text/plain": [
       "[1] \"/workspace/tmpdir2/hydrogfd\""
      ]
     },
     "metadata": {},
     "output_type": "display_data"
    }
   ],
   "source": [
    "## Search for the hydrogfd data configuration and download the object\n",
    "\n",
    "url   <- hydroGFDDataConfigUrl\n",
    "query <- hydroGFDDataConfigQuery\n",
    "\n",
    "# Query the hydrogfd data config reference\n",
    "message(paste(\"opensearch-client '\",url,query,\"' enclosure\", sep=\"\"))\n",
    "opensearchCmd=paste(\"opensearch-client '\",url,query,\"' enclosure\")\n",
    "res_enclosure <- system(command = opensearchCmd,intern = T)\n",
    "rciop.log(\"INFO\", res_enclosure)\n",
    "\n",
    "# Download the dir(s) or file(s)\n",
    "# File in this case\n",
    "hydrogfd_config_file <- rciop.copy(res_enclosure,TMPDIR,uncompress=TRUE)\n",
    "#hydrogfd_data_dir <- rciop.copy(res_enclosure,TMPDIR,uncompress=TRUE,createOutputDirectory=TRUE)\n",
    "#hydrogfd_data_dir <- rciop.copy(res_enclosure,TMPDIR,uncompress=TRUE,target=hydroGFDDataConfigSubDir)\n",
    "\n",
    "if (hydrogfd_config_file$exit.code==0) {\n",
    "    local.hydrogfd_config_file <- hydrogfd_config_file$output\n",
    "}\n",
    "local.hydrogfd_config_file"
   ]
  },
  {
   "cell_type": "code",
   "execution_count": 71,
   "metadata": {},
   "outputs": [
    {
     "name": "stdout",
     "output_type": "stream",
     "text": [
      "[1] \"/workspace/tmpdir2/hydrogfd/v2/dependencies.txt\"\n"
     ]
    },
    {
     "data": {
      "text/html": [
       "<table>\n",
       "<thead><tr><th scope=col>localdirectory</th><th scope=col>url</th><th scope=col>searchquery</th><th scope=col>comment</th></tr></thead>\n",
       "<tbody>\n",
       "\t<tr><td>hydrogfdei                                                                      </td><td>https://catalog.terradue.com/hydro-smhi/description                             </td><td>[hydrogfdei,SMHI,operational]                                                   </td><td># HydroGFD2.0,netcdf,yyyymm                                                     </td></tr>\n",
       "\t<tr><td>hydrogfdod                                                                      </td><td>https://catalog.terradue.com/hydro-smhi/description                             </td><td>[hydrogfdod,SMHI,operational]                                                   </td><td># HydroGFD2.0,netcdf,yyyymm                                                     </td></tr>\n",
       "\t<tr><td>od-daily                                                                        </td><td>https://catalog.terradue.com/hydro-smhi/description                             </td><td>[od,daily,SMHI,operational]                                                     </td><td># HydroGFD2.0,netcdf,yyyymmdd                                                   </td></tr>\n",
       "\t<tr><td>ecoper                                                                          </td><td>https://catalog.terradue.com/hydro-smhi/description                             </td><td>[ecoper,SMHI,operational]                                                       </td><td># HydroGFD2.0,netcdf,yyyymmdd00                                                 </td></tr>\n",
       "\t<tr><td>elevation                                                                       </td><td>https://recast.terradue.com/t2api/search/hydro-smhi/fanfar/Operational/elevation</td><td>?uid=E7BBF23D33590BA045CA51A5095CF1E8D21B7A2D                                   </td><td># HydroGFD2.0,netcdf                                                            </td></tr>\n",
       "\t<tr><td>ei-monthly                                                                      </td><td>https://catalog.terradue.com/hydro-smhi/description                             </td><td>[ei,monthly,SMHI,operational]                                                   </td><td># HydroGFD2.0,netcdf,yyyymm,AGRHYMET                                            </td></tr>\n",
       "\t<tr><td>od-monthly                                                                      </td><td>https://catalog.terradue.com/hydro-smhi/description                             </td><td>[od,monthly,SMHI,operational]                                                   </td><td># HydroGFD2.0,netcdf,yyyymm,AGRHYMET                                            </td></tr>\n",
       "</tbody>\n",
       "</table>\n"
      ],
      "text/latex": [
       "\\begin{tabular}{r|llll}\n",
       " localdirectory & url & searchquery & comment\\\\\n",
       "\\hline\n",
       "\t hydrogfdei                                                                       & https://catalog.terradue.com/hydro-smhi/description                              & {[}hydrogfdei,SMHI,operational{]}                                                & \\# HydroGFD2.0,netcdf,yyyymm                                                   \\\\\n",
       "\t hydrogfdod                                                                       & https://catalog.terradue.com/hydro-smhi/description                              & {[}hydrogfdod,SMHI,operational{]}                                                & \\# HydroGFD2.0,netcdf,yyyymm                                                   \\\\\n",
       "\t od-daily                                                                         & https://catalog.terradue.com/hydro-smhi/description                              & {[}od,daily,SMHI,operational{]}                                                  & \\# HydroGFD2.0,netcdf,yyyymmdd                                                 \\\\\n",
       "\t ecoper                                                                           & https://catalog.terradue.com/hydro-smhi/description                              & {[}ecoper,SMHI,operational{]}                                                    & \\# HydroGFD2.0,netcdf,yyyymmdd00                                               \\\\\n",
       "\t elevation                                                                        & https://recast.terradue.com/t2api/search/hydro-smhi/fanfar/Operational/elevation & ?uid=E7BBF23D33590BA045CA51A5095CF1E8D21B7A2D                                    & \\# HydroGFD2.0,netcdf                                                          \\\\\n",
       "\t ei-monthly                                                                       & https://catalog.terradue.com/hydro-smhi/description                              & {[}ei,monthly,SMHI,operational{]}                                                & \\# HydroGFD2.0,netcdf,yyyymm,AGRHYMET                                          \\\\\n",
       "\t od-monthly                                                                       & https://catalog.terradue.com/hydro-smhi/description                              & {[}od,monthly,SMHI,operational{]}                                                & \\# HydroGFD2.0,netcdf,yyyymm,AGRHYMET                                          \\\\\n",
       "\\end{tabular}\n"
      ],
      "text/markdown": [
       "\n",
       "| localdirectory | url | searchquery | comment |\n",
       "|---|---|---|---|\n",
       "| hydrogfdei                                                                       | https://catalog.terradue.com/hydro-smhi/description                              | [hydrogfdei,SMHI,operational]                                                    | # HydroGFD2.0,netcdf,yyyymm                                                      |\n",
       "| hydrogfdod                                                                       | https://catalog.terradue.com/hydro-smhi/description                              | [hydrogfdod,SMHI,operational]                                                    | # HydroGFD2.0,netcdf,yyyymm                                                      |\n",
       "| od-daily                                                                         | https://catalog.terradue.com/hydro-smhi/description                              | [od,daily,SMHI,operational]                                                      | # HydroGFD2.0,netcdf,yyyymmdd                                                    |\n",
       "| ecoper                                                                           | https://catalog.terradue.com/hydro-smhi/description                              | [ecoper,SMHI,operational]                                                        | # HydroGFD2.0,netcdf,yyyymmdd00                                                  |\n",
       "| elevation                                                                        | https://recast.terradue.com/t2api/search/hydro-smhi/fanfar/Operational/elevation | ?uid=E7BBF23D33590BA045CA51A5095CF1E8D21B7A2D                                    | # HydroGFD2.0,netcdf                                                             |\n",
       "| ei-monthly                                                                       | https://catalog.terradue.com/hydro-smhi/description                              | [ei,monthly,SMHI,operational]                                                    | # HydroGFD2.0,netcdf,yyyymm,AGRHYMET                                             |\n",
       "| od-monthly                                                                       | https://catalog.terradue.com/hydro-smhi/description                              | [od,monthly,SMHI,operational]                                                    | # HydroGFD2.0,netcdf,yyyymm,AGRHYMET                                             |\n",
       "\n"
      ],
      "text/plain": [
       "  localdirectory\n",
       "1 hydrogfdei    \n",
       "2 hydrogfdod    \n",
       "3 od-daily      \n",
       "4 ecoper        \n",
       "5 elevation     \n",
       "6 ei-monthly    \n",
       "7 od-monthly    \n",
       "  url                                                                             \n",
       "1 https://catalog.terradue.com/hydro-smhi/description                             \n",
       "2 https://catalog.terradue.com/hydro-smhi/description                             \n",
       "3 https://catalog.terradue.com/hydro-smhi/description                             \n",
       "4 https://catalog.terradue.com/hydro-smhi/description                             \n",
       "5 https://recast.terradue.com/t2api/search/hydro-smhi/fanfar/Operational/elevation\n",
       "6 https://catalog.terradue.com/hydro-smhi/description                             \n",
       "7 https://catalog.terradue.com/hydro-smhi/description                             \n",
       "  searchquery                                  \n",
       "1 [hydrogfdei,SMHI,operational]                \n",
       "2 [hydrogfdod,SMHI,operational]                \n",
       "3 [od,daily,SMHI,operational]                  \n",
       "4 [ecoper,SMHI,operational]                    \n",
       "5 ?uid=E7BBF23D33590BA045CA51A5095CF1E8D21B7A2D\n",
       "6 [ei,monthly,SMHI,operational]                \n",
       "7 [od,monthly,SMHI,operational]                \n",
       "  comment                             \n",
       "1 # HydroGFD2.0,netcdf,yyyymm         \n",
       "2 # HydroGFD2.0,netcdf,yyyymm         \n",
       "3 # HydroGFD2.0,netcdf,yyyymmdd       \n",
       "4 # HydroGFD2.0,netcdf,yyyymmdd00     \n",
       "5 # HydroGFD2.0,netcdf                \n",
       "6 # HydroGFD2.0,netcdf,yyyymm,AGRHYMET\n",
       "7 # HydroGFD2.0,netcdf,yyyymm,AGRHYMET"
      ]
     },
     "metadata": {},
     "output_type": "display_data"
    }
   ],
   "source": [
    " # Parse the hydrogfd configuration file\n",
    "\n",
    "file <- \"v2/dependencies.txt\"\n",
    "hydrogfd_config_file <- paste(local.hydrogfd_config_file,file,sep=\"/\")\n",
    "#main_config_file <- local.main_config_file\n",
    "\n",
    "print(hydrogfd_config_file)\n",
    "\n",
    "if (! file.exists(hydrogfd_config_file)) {\n",
    "    q(save=\"no\",status=1)\n",
    "}\n",
    "\n",
    "hydrogfd_config_data <- read.csv2(hydrogfd_config_file, header=TRUE, sep=\";\")\n",
    "hydrogfd_config_data\n",
    "#names(model_config_data) <- c('subdir','url','querypattern','info')\n",
    "for (r in 1:nrow(hydrogfd_config_data)) {\n",
    "    subdir <- hydrogfd_config_data[r,'localdirectory']\n",
    "    if (subdir == 'hydrogfdei') {\n",
    "      gfdHydrogfdeiSubDir  <- hydrogfd_config_data[r,'localdirectory'] # Intended to be used both for dir name (rciop.copy) and part of filename\n",
    "      gfdHydrogfdeiUrl     <- hydrogfd_config_data[r,'url']\n",
    "      gfdHydrogfdeiQuery   <- hydrogfd_config_data[r,'searchquery']\n",
    "      gfdHydrogfdeiComment <- hydrogfd_config_data[r,'comment']\n",
    "    }\n",
    "    if (subdir == 'hydrogfdod') {\n",
    "      gfdHydrogfdodSubDir  <- hydrogfd_config_data[r,'localdirectory']\n",
    "      gfdHydrogfdodUrl     <- hydrogfd_config_data[r,'url']\n",
    "      gfdHydrogfdodQuery   <- hydrogfd_config_data[r,'searchquery']\n",
    "      gfdHydrogfdodComment <- hydrogfd_config_data[r,'comment']\n",
    "    }\n",
    "    if (subdir == 'od-daily') {\n",
    "      gfdOdDailySubDir  <- hydrogfd_config_data[r,'localdirectory']\n",
    "      gfdOdDailyUrl     <- hydrogfd_config_data[r,'url']\n",
    "      gfdOdDailyQuery   <- hydrogfd_config_data[r,'searchquery']\n",
    "      gfdOdDailyComment <- hydrogfd_config_data[r,'comment']\n",
    "    }\n",
    "    if (subdir == 'ecoper') {\n",
    "      gfdEcoperSubDir  <- hydrogfd_config_data[r,'localdirectory']\n",
    "      gfdEcoperUrl     <- hydrogfd_config_data[r,'url']\n",
    "      gfdEcoperQuery   <- hydrogfd_config_data[r,'searchquery']\n",
    "      gfdEcoperComment <- hydrogfd_config_data[r,'comment']\n",
    "    }\n",
    "    # Skip subdir 'ei-monthly' and 'od-monthly'\n",
    "    if (subdir == 'elevation') {\n",
    "      gfdElevationSubDir  <- hydrogfd_config_data[r,'localdirectory']\n",
    "      gfdElevationUrl     <- hydrogfd_config_data[r,'url']\n",
    "      gfdElevationQuery   <- hydrogfd_config_data[r,'searchquery']\n",
    "      gfdElevationComment <- hydrogfd_config_data[r,'comment']\n",
    "    }\n",
    "  }\n",
    "#gfdHydrogfdeiSubDir\n",
    "#gfdHydrogfdeiUrl\n",
    "#gfdHydrogfdeiQuery\n",
    "#gfdHydrogfdeiComment\n",
    "#gfdHydrogfdodSubDir\n",
    "#gfdHydrogfdodUrl\n",
    "#gfdHydrogfdodQuery\n",
    "#gfdHydrogfdodComment\n",
    "#gfdOdDailySubDir\n",
    "#gfdEcoperUrl\n",
    "#gfdEcoperQuery\n",
    "#gfdEcoperComment\n",
    "#gfdElevationSubDir\n",
    "#gfdElevationUrl\n",
    "#gfdElevationQuery\n",
    "#gfdElevationComment"
   ]
  },
  {
   "cell_type": "code",
   "execution_count": null,
   "metadata": {},
   "outputs": [],
   "source": [
    "## Search for the hydrogfd configuration items and download the data\n"
   ]
  }
 ],
 "metadata": {
  "kernelspec": {
   "display_name": "R",
   "language": "R",
   "name": "ir"
  },
  "language_info": {
   "codemirror_mode": "r",
   "file_extension": ".r",
   "mimetype": "text/x-r-source",
   "name": "R",
   "pygments_lexer": "r",
   "version": "3.6.1"
  }
 },
 "nbformat": 4,
 "nbformat_minor": 2
}
